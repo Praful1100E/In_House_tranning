{
 "cells": [
  {
   "cell_type": "code",
   "execution_count": 3,
   "id": "2c7abf17-fe30-4ae7-9356-75a78d21f1c8",
   "metadata": {},
   "outputs": [
    {
     "name": "stdout",
     "output_type": "stream",
     "text": [
      "Caclulator\n"
     ]
    },
    {
     "name": "stdin",
     "output_type": "stream",
     "text": [
      "Enter a number:  20\n",
      "Enter another number:  3\n"
     ]
    },
    {
     "name": "stdout",
     "output_type": "stream",
     "text": [
      "Addition 23\n",
      "Subbtraction 17\n",
      "multiplaction 60\n",
      "Division 6.666666666666667\n"
     ]
    }
   ],
   "source": [
    "print(\"Caclulator\")\n",
    "a=int(input(\"Enter a number: \"))\n",
    "b=int(input(\"Enter another number: \"))\n",
    "print(\"Addition\",a+b)\n",
    "print(\"Subbtraction\",a-b)\n",
    "print(\"multiplaction\",a*b)\n",
    "print(\"Division\",a/b)\n",
    "\n"
   ]
  },
  {
   "cell_type": "code",
   "execution_count": null,
   "id": "61ed93d3-8c62-43ed-8ff3-09725e3adaf4",
   "metadata": {},
   "outputs": [],
   "source": []
  }
 ],
 "metadata": {
  "kernelspec": {
   "display_name": "Python 3 (ipykernel)",
   "language": "python",
   "name": "python3"
  },
  "language_info": {
   "codemirror_mode": {
    "name": "ipython",
    "version": 3
   },
   "file_extension": ".py",
   "mimetype": "text/x-python",
   "name": "python",
   "nbconvert_exporter": "python",
   "pygments_lexer": "ipython3",
   "version": "3.13.5"
  }
 },
 "nbformat": 4,
 "nbformat_minor": 5
}
