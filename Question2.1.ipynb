{
 "cells": [
  {
   "cell_type": "markdown",
   "id": "db833afb-72fe-46da-ad2e-f9bd82e5bb4a",
   "metadata": {},
   "source": [
    "# Question 3: a function that take a list of integer and return a new list containing the sequeare of each number"
   ]
  },
  {
   "cell_type": "code",
   "execution_count": null,
   "id": "9b2acb27-cb92-4920-9cf4-9b7cfa3c8a7c",
   "metadata": {},
   "outputs": [],
   "source": [
    "int_ = [1,2,3,4,5]\n",
    "def fun_(int_):\n",
    " for i in range(len(int_)):\n",
    "  int_[i]=int_[i]**2\n",
    "  print(int_[i])\n",
    "fun_(int_)"
   ]
  },
  {
   "cell_type": "markdown",
   "id": "616b24fd-5b38-41bd-97c4-5eb36f4e74f6",
   "metadata": {},
   "source": [
    "# Question 4: Write a Python function that check if a given number is primary or not"
   ]
  },
  {
   "cell_type": "code",
   "execution_count": null,
   "id": "f0cbb10b-4c5f-4a6b-8136-ea2e964657b1",
   "metadata": {},
   "outputs": [],
   "source": [
    "num_ = int(input(\"Enter a number to check it is prime or not\"))\n",
    "\n",
    "def square_(num_):\n",
    "  count = 0\n",
    "  for i in range(1,num_+1):\n",
    "   if num_%i==0:\n",
    "    count+=1\n",
    "  if count==2:\n",
    "   print(\"Prime number\")\n",
    "  else:\n",
    "   print(\"Not a Prime number\")\n",
    "square_(num_)"
   ]
  },
  {
   "cell_type": "markdown",
   "id": "3a4fce01-8dde-433e-922f-92a45188bceb",
   "metadata": {},
   "source": [
    "# 5. Create an iterator class in Python that generates the Fibonacci sequence up to a specified number of terms."
   ]
  },
  {
   "cell_type": "code",
   "execution_count": null,
   "id": "4933ff1a-f02e-4f17-8666-12086aaf4aa0",
   "metadata": {},
   "outputs": [],
   "source": [
    "def figo_(num):\n",
    "  c=1\n",
    "  for i in range(1,num+1) :\n",
    "     c*=i\n",
    "  print(c)\n",
    "num = int(input(\"Enter a number: \"))  \n",
    "figo_(num)"
   ]
  },
  {
   "cell_type": "markdown",
   "id": "4f8b5cab-4b3a-4fb5-aff1-c24d6fe8ce82",
   "metadata": {},
   "source": [
    "# 6: Write a generator function in Python that yields the powers of 2 up to a given exponent."
   ]
  },
  {
   "cell_type": "code",
   "execution_count": 6,
   "id": "516ad5e6-0251-4cac-bff2-b000bd994851",
   "metadata": {},
   "outputs": [
    {
     "name": "stdout",
     "output_type": "stream",
     "text": [
      "[1, 2, 4, 8, 16, 32, 64, 128, 256, 512, 1024]\n"
     ]
    }
   ],
   "source": [
    "def powers_of_two(n):\n",
    "    for i in range(n + 1):\n",
    "        yield 2 ** i\n",
    "print(list(powers_of_two(10)))"
   ]
  },
  {
   "cell_type": "code",
   "execution_count": 5,
   "id": "eb258bb6-eb90-4d98-a262-e7e395271694",
   "metadata": {},
   "outputs": [
    {
     "name": "stdout",
     "output_type": "stream",
     "text": [
      "[2, 4, 6, 8, 10]\n"
     ]
    }
   ],
   "source": [
    "def fu():\n",
    "    list = [1,2,3,4,5]\n",
    "    c=[]\n",
    "    for i in list:\n",
    "     c.append(i*2)\n",
    "    print(c)\n",
    "fu()"
   ]
  },
  {
   "cell_type": "code",
   "execution_count": null,
   "id": "58a902c4-9a0c-44e7-8481-b7f55cc72f43",
   "metadata": {},
   "outputs": [],
   "source": []
  },
  {
   "cell_type": "code",
   "execution_count": null,
   "id": "3293b395-c8a6-4b4c-8bff-45bbb932e83e",
   "metadata": {},
   "outputs": [],
   "source": []
  }
 ],
 "metadata": {
  "kernelspec": {
   "display_name": "Python 3 (ipykernel)",
   "language": "python",
   "name": "python3"
  },
  "language_info": {
   "codemirror_mode": {
    "name": "ipython",
    "version": 3
   },
   "file_extension": ".py",
   "mimetype": "text/x-python",
   "name": "python",
   "nbconvert_exporter": "python",
   "pygments_lexer": "ipython3",
   "version": "3.13.5"
  }
 },
 "nbformat": 4,
 "nbformat_minor": 5
}
