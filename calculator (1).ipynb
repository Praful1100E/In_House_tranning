{
 "cells": [
  {
   "cell_type": "code",
   "execution_count": 4,
   "id": "f292357e-7731-4e82-aa43-e6b4a733a804",
   "metadata": {},
   "outputs": [
    {
     "name": "stderr",
     "output_type": "stream",
     "text": [
      "<>:3: SyntaxWarning: invalid escape sequence '\\,'\n",
      "<>:3: SyntaxWarning: invalid escape sequence '\\,'\n",
      "C:\\Users\\rajpu\\AppData\\Local\\Temp\\ipykernel_21132\\1244060114.py:3: SyntaxWarning: invalid escape sequence '\\,'\n",
      "  enter = input(\"Enter the symbol from: +,\\,*,%\")\n"
     ]
    },
    {
     "name": "stdin",
     "output_type": "stream",
     "text": [
      "Enter first numbber:  12\n",
      "Enter second numbber:  2\n",
      "Enter the symbol from: +,\\,*,% *\n"
     ]
    },
    {
     "name": "stdout",
     "output_type": "stream",
     "text": [
      "24\n"
     ]
    }
   ],
   "source": [
    "num1 = int(input(\"Enter first numbber: \"))\n",
    "num2 = int(input(\"Enter second numbber: \"))\n",
    "enter = input(f\"Enter the symbol from: +,\\,*,%\")\n",
    "add = num1+num2\n",
    "sub = num1-num2\n",
    "\n",
    "mult = num1*num2\n",
    "div = num1/num2\n",
    "if enter == \"+\":\n",
    "    print(add)\n",
    "elif enter == \"-\":\n",
    "    print(sub)\n",
    "elif enter == \"*\":\n",
    "    print(mult)\n",
    "elif enter == \"/\":\n",
    "    print(div)\n"
   ]
  },
  {
   "cell_type": "code",
   "execution_count": null,
   "id": "ccf4502e-952c-4a62-ab49-a20820d15c64",
   "metadata": {},
   "outputs": [],
   "source": []
  }
 ],
 "metadata": {
  "kernelspec": {
   "display_name": "Python 3 (ipykernel)",
   "language": "python",
   "name": "python3"
  },
  "language_info": {
   "codemirror_mode": {
    "name": "ipython",
    "version": 3
   },
   "file_extension": ".py",
   "mimetype": "text/x-python",
   "name": "python",
   "nbconvert_exporter": "python",
   "pygments_lexer": "ipython3",
   "version": "3.13.5"
  }
 },
 "nbformat": 4,
 "nbformat_minor": 5
}
