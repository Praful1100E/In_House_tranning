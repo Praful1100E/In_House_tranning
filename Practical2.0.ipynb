{
 "cells": [
  {
   "cell_type": "markdown",
   "id": "231b4f0e-dcfd-4a42-908d-bf4ac19ab7ba",
   "metadata": {},
   "source": [
    "# 1. Write a Python function that take a list of numbers as input and return the sum of all even numbers in the list:"
   ]
  },
  {
   "cell_type": "code",
   "execution_count": 75,
   "id": "6184b6ec-a4cf-4bc2-9a1c-5c76e3e36081",
   "metadata": {},
   "outputs": [
    {
     "name": "stdout",
     "output_type": "stream",
     "text": [
      "20\n"
     ]
    }
   ],
   "source": [
    "\n",
    "def my_function(number):\n",
    "    count=0\n",
    "    count_1 =0\n",
    "    for num in number:\n",
    "        if num%2==0:\n",
    "         count+=num\n",
    "    return count\n",
    "list=[1,2,3,4,5,6,7,8,9]\n",
    "result=my_function(list)\n",
    "print(result)\n"
   ]
  },
  {
   "cell_type": "markdown",
   "id": "f78c0b12-0a3e-47eb-b099-0ea3a8b31cbf",
   "metadata": {},
   "source": [
    "# 2. Creater a Python function that accept a string and return the reverse of that string"
   ]
  },
  {
   "cell_type": "code",
   "execution_count": 43,
   "id": "aa9cb4bb-25f6-4b82-8007-201481cb3c39",
   "metadata": {},
   "outputs": [
    {
     "name": "stdout",
     "output_type": "stream",
     "text": [
      "olleH\n"
     ]
    }
   ],
   "source": [
    "def list_(string_):\n",
    "    string_reverse =string_[::-1]\n",
    "    print(string_reverse)\n",
    "string_=\"Hello\"\n",
    "list_(string_)"
   ]
  },
  {
   "cell_type": "code",
   "execution_count": null,
   "id": "c7316b64-06ff-484d-8e29-425cf854cd37",
   "metadata": {},
   "outputs": [],
   "source": [
    "# Implement a Python function that takes a list of integer"
   ]
  }
 ],
 "metadata": {
  "kernelspec": {
   "display_name": "Python 3 (ipykernel)",
   "language": "python",
   "name": "python3"
  },
  "language_info": {
   "codemirror_mode": {
    "name": "ipython",
    "version": 3
   },
   "file_extension": ".py",
   "mimetype": "text/x-python",
   "name": "python",
   "nbconvert_exporter": "python",
   "pygments_lexer": "ipython3",
   "version": "3.13.5"
  }
 },
 "nbformat": 4,
 "nbformat_minor": 5
}
