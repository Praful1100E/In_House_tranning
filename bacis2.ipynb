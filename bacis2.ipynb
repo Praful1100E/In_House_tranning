{
 "cells": [
  {
   "cell_type": "code",
   "execution_count": 3,
   "id": "67d7c29e-c8a0-4c78-be5a-133548851dda",
   "metadata": {},
   "outputs": [
    {
     "name": "stdout",
     "output_type": "stream",
     "text": [
      "Variable\n",
      "<class 'str'>\n",
      "8\n"
     ]
    }
   ],
   "source": [
    "a=\"Variable\" # if we write a \"variable\"is a error\n",
    "print(a)\n",
    "print(type(a))\n",
    "print(len(a))"
   ]
  },
  {
   "cell_type": "code",
   "execution_count": 5,
   "id": "0d468968-2590-4471-8a8b-d41f50a72a22",
   "metadata": {},
   "outputs": [
    {
     "name": "stdout",
     "output_type": "stream",
     "text": [
      "400\n",
      "<class 'int'>\n",
      "1930028325552\n",
      "22.22\n",
      "<class 'float'>\n",
      "1930024258192\n"
     ]
    }
   ],
   "source": [
    "a=400\n",
    "print(a)\n",
    "print(type(a))\n",
    "print(id(a))\n",
    "b=22.22\n",
    "print(b)\n",
    "print(type(b))\n",
    "print(id(b))"
   ]
  },
  {
   "cell_type": "code",
   "execution_count": 7,
   "id": "6fafccc3-89c0-4abe-b9dd-12f41840b941",
   "metadata": {},
   "outputs": [
    {
     "name": "stdout",
     "output_type": "stream",
     "text": [
      "33.44\n"
     ]
    }
   ],
   "source": [
    "a=30\n",
    "a=33\n",
    "a=33.44\n",
    "print(a) #in python variables are muchable(which can be canged"
   ]
  },
  {
   "cell_type": "code",
   "execution_count": 9,
   "id": "4896161d-be25-4f37-b263-56d0afcb1720",
   "metadata": {},
   "outputs": [
    {
     "name": "stdout",
     "output_type": "stream",
     "text": [
      "<class 'float'>\n"
     ]
    }
   ],
   "source": [
    "a,b,c,d=\"hello\",32,232.0,\"hiii\"\n",
    "print(type(c))"
   ]
  },
  {
   "cell_type": "code",
   "execution_count": 10,
   "id": "cfbd23bf-8cfa-4fd7-889f-98ef6fda3176",
   "metadata": {},
   "outputs": [
    {
     "name": "stdout",
     "output_type": "stream",
     "text": [
      "57\n",
      "140712002799208\n",
      "<class 'int'>\n"
     ]
    }
   ],
   "source": [
    "a=23\n",
    "b=34\n",
    "print(a+b)\n",
    "print(id(a))\n",
    "print(type(b))"
   ]
  },
  {
   "cell_type": "code",
   "execution_count": 13,
   "id": "4976686a-19ab-4f61-b397-413514906bd6",
   "metadata": {},
   "outputs": [
    {
     "name": "stdout",
     "output_type": "stream",
     "text": [
      "befor 1 2 3\n",
      "2 3 1\n",
      "2\n"
     ]
    }
   ],
   "source": [
    "a,b,c=1,2,3\n",
    "print(\"befor\",a,b,c)\n",
    "a,b,c=b,c,a\n",
    "print(a,b,c)\n",
    "print(a)"
   ]
  },
  {
   "cell_type": "code",
   "execution_count": 15,
   "id": "0897116a-5219-4998-8b71-32a25133d331",
   "metadata": {},
   "outputs": [
    {
     "name": "stdout",
     "output_type": "stream",
     "text": [
      "1930028463136\n",
      "1930028463136\n",
      "car \n",
      " car \n",
      " car\n"
     ]
    }
   ],
   "source": [
    "x=y=z=\"car\"\n",
    "print(id(x))\n",
    "print(id(y))\n",
    "print(x,\"\\n\",y,\"\\n\",z)"
   ]
  },
  {
   "cell_type": "code",
   "execution_count": 16,
   "id": "82cb022a-e4c2-4758-bd33-c1cb8666b43a",
   "metadata": {},
   "outputs": [
    {
     "name": "stdout",
     "output_type": "stream",
     "text": [
      "ia\n"
     ]
    }
   ],
   "source": [
    "x=\"i\"\n",
    "y=\"a\"\n",
    "z=\"python\"\n",
    "print(x+y)"
   ]
  },
  {
   "cell_type": "code",
   "execution_count": 22,
   "id": "f09cbc6b-7e6b-4e3b-96ea-266d56daafda",
   "metadata": {},
   "outputs": [
    {
     "name": "stdin",
     "output_type": "stream",
     "text": [
      "mishra 3\n",
      "b: 3+4j\n"
     ]
    },
    {
     "name": "stdout",
     "output_type": "stream",
     "text": [
      "(6+4j)\n"
     ]
    }
   ],
   "source": [
    "# there are three type of data type\n",
    "\"\"\"Numaric: int, float,complex\n",
    "   Sequence: string, list, tuple\n",
    "   Mapping: Dictionaries     \"\"\"\n",
    "a= int(input(\"Praful\"))\n",
    "b= complex(input(\"b:\" ))\n",
    "c=a+b\n",
    "print(c)\n"
   ]
  },
  {
   "cell_type": "code",
   "execution_count": 29,
   "id": "bd77e459-9f89-4f95-8b9b-3f28d6a3f765",
   "metadata": {},
   "outputs": [
    {
     "name": "stdout",
     "output_type": "stream",
     "text": [
      "100.0\n",
      "30\n",
      "(56+5j)\n"
     ]
    }
   ],
   "source": [
    "a=100\n",
    "print(float(a))\n",
    "b=30.99\n",
    "print(int(b))\n",
    "c=56+5j\n",
    "print(c)"
   ]
  },
  {
   "cell_type": "code",
   "execution_count": 25,
   "id": "b7724e15-c8fd-479c-9dfa-ab84f570796f",
   "metadata": {},
   "outputs": [
    {
     "name": "stdout",
     "output_type": "stream",
     "text": [
      "a\n"
     ]
    }
   ],
   "source": [
    "a=\"Praful\"\n",
    "print(a[-1-3])"
   ]
  },
  {
   "cell_type": "code",
   "execution_count": 30,
   "id": "62a48eda-998b-43b7-8d94-bd99c933201e",
   "metadata": {},
   "outputs": [
    {
     "name": "stdout",
     "output_type": "stream",
     "text": [
      "<class 'complex'>\n"
     ]
    }
   ],
   "source": [
    "a=9\n",
    "a=9.0\n",
    "a=6+7j\n",
    "print(type(a))\n"
   ]
  },
  {
   "cell_type": "code",
   "execution_count": 34,
   "id": "6e1b63cf-76c7-4f25-89a0-858afc3c6c48",
   "metadata": {},
   "outputs": [
    {
     "name": "stdout",
     "output_type": "stream",
     "text": [
      "(63+0j)\n"
     ]
    }
   ],
   "source": [
    "a=63 # we converet integer value into complex value but not convert complex intoo int\n",
    "print(complex(a))"
   ]
  },
  {
   "cell_type": "code",
   "execution_count": 38,
   "id": "588d33b4-8393-4205-919e-b3c8fb21b01c",
   "metadata": {},
   "outputs": [
    {
     "ename": "_IncompleteInputError",
     "evalue": "incomplete input (2146110716.py, line 2)",
     "output_type": "error",
     "traceback": [
      "  \u001b[36mCell\u001b[39m\u001b[36m \u001b[39m\u001b[32mIn[38]\u001b[39m\u001b[32m, line 2\u001b[39m\n\u001b[31m    \u001b[39m\u001b[31mprint((type(a))\u001b[39m\n                   ^\n\u001b[31m_IncompleteInputError\u001b[39m\u001b[31m:\u001b[39m incomplete input\n"
     ]
    }
   ],
   "source": []
  },
  {
   "cell_type": "code",
   "execution_count": null,
   "id": "13e36f42-0e9b-4388-a054-ee60b6fc574c",
   "metadata": {},
   "outputs": [],
   "source": []
  }
 ],
 "metadata": {
  "kernelspec": {
   "display_name": "Python 3 (ipykernel)",
   "language": "python",
   "name": "python3"
  },
  "language_info": {
   "codemirror_mode": {
    "name": "ipython",
    "version": 3
   },
   "file_extension": ".py",
   "mimetype": "text/x-python",
   "name": "python",
   "nbconvert_exporter": "python",
   "pygments_lexer": "ipython3",
   "version": "3.13.5"
  }
 },
 "nbformat": 4,
 "nbformat_minor": 5
}
