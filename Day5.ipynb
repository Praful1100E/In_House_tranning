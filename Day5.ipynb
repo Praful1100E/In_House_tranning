{
 "cells": [
  {
   "cell_type": "code",
   "execution_count": null,
   "id": "6d284cf1-364b-486b-bb3e-984d09a3c027",
   "metadata": {},
   "outputs": [],
   "source": [
    "def sum():\n",
    "    num1 = int(input(\"Enter a number\"))\n",
    "    num2 = int(input(\"Enter a number\"))\n",
    "    return num1+num2\n",
    "sum()"
   ]
  },
  {
   "cell_type": "markdown",
   "id": "c58bdaa0-8432-41f2-a0ea-cd16517b49d1",
   "metadata": {},
   "source": [
    "# RAG Pipeline\n"
   ]
  },
  {
   "cell_type": "markdown",
   "id": "a8ef2db5-487c-479a-9d53-0deed085e402",
   "metadata": {},
   "source": [
    " Retrival Argummunted Generation\n",
    "- This is  used in LLM(Large language model)Example of LLM is chatgpt,grok etc.\n",
    "- It convert input into vector form\n",
    "  Enhanced Accuracy:\n",
    "- RAG pipelines significantly minimize the risk of hallucinations by grounding the responses in verified, real-time data. This ensures that answers are factually accurate and contextually relevant, which is essential for high-stakes applications where precision is crucial, such as healthcare and finance \n",
    "\n",
    "- Real-Time Data Retrieval:\n",
    " Unlike traditional models that rely solely on pre-trained data, RAG systems can access the most current information from external databases or         knowledge bases at the time of query, enabling them to stay relevant and up-to-date"
   ]
  },
  {
   "cell_type": "markdown",
   "id": "767fdfba-8f9f-475b-9fa6-9e8e71d02b89",
   "metadata": {},
   "source": [
    "# Practical Applications\n",
    "RAG pipelines play a significant role in various industries:\n",
    "- Customer Support: Enhancing automated responses by retrieving the most relevant internal documentation and FAQs.\n",
    "- Healthcare: Supporting professionals with the latest research, treatment protocols, and clinical data to assist in patient care.\n",
    "- Legal Services: Improving the accuracy of responses based on updated legal texts, precedents, and regulations.\n",
    "- Educational Tools: Enabling personalized learning experiences by accessing and utilizing current educational resources "
   ]
  },
  {
   "cell_type": "markdown",
   "id": "6994ad09-daf0-429e-b745-42e0793438bf",
   "metadata": {},
   "source": [
    "# Function\n"
   ]
  },
  {
   "cell_type": "code",
   "execution_count": 1,
   "id": "af5bd491-c8c1-4396-a168-d0b92831446d",
   "metadata": {},
   "outputs": [
    {
     "name": "stdin",
     "output_type": "stream",
     "text": [
      "enter value nk\n"
     ]
    },
    {
     "name": "stdout",
     "output_type": "stream",
     "text": [
      "Hello nk\n"
     ]
    }
   ],
   "source": [
    "def my_function(fname):\n",
    "    print(f\"Hello {fname}\")\n",
    "fname=input(\"enter value\")\n",
    "my_function(fname)\n"
   ]
  },
  {
   "cell_type": "code",
   "execution_count": null,
   "id": "f85e7a3a-d7cf-41af-a359-0767c0a5e36d",
   "metadata": {},
   "outputs": [],
   "source": [
    "def main_fun():\n",
    "    fname = input(\"Enter your first name\")\n",
    "    lname = input(\"Enter your last name\")\n",
    "    def my_name(fname,lname):\n",
    "     print(fname,\" \",lname)\n",
    "     my_name(fname,lname)\n",
    "input_ = int(input(\"Enter 1 to add otherwise press 2:\"))\n",
    "if input_ ==2:\n",
    " print(\"Have a nice day\")\n",
    "elif input_==1:\n",
    " while input_ == 1:\n",
    "    input_ = int(input(\"Enter 1 to add otherwise press 2:\"))\n",
    "    main_fun()\n",
    " else:\n",
    "    print(\"Have a nice day\")\n",
    "else:\n",
    "    print(\"Invalid input\")"
   ]
  },
  {
   "cell_type": "markdown",
   "id": "8f8e1a10-7840-4cd0-aeae-476840737aef",
   "metadata": {},
   "source": [
    "# function"
   ]
  },
  {
   "cell_type": "code",
   "execution_count": null,
   "id": "2dfe4d23-a124-41b2-bbb3-4b16de3a52c3",
   "metadata": {},
   "outputs": [],
   "source": [
    "txt = \"welcom to my world\"\n",
    "x = txt.find(\"w\")\n",
    "print(x)"
   ]
  },
  {
   "cell_type": "code",
   "execution_count": null,
   "id": "6d0f5d58-5147-47de-93f1-d49537ca0165",
   "metadata": {},
   "outputs": [],
   "source": [
    "txt = \"welcom to my world\"\n",
    "x = txt.find(\"w\",5,15)\n",
    "print(x)"
   ]
  },
  {
   "cell_type": "code",
   "execution_count": null,
   "id": "1d079cc6-aab9-4463-b2f4-8a2cb60d1fde",
   "metadata": {},
   "outputs": [],
   "source": [
    "a = \"This is the india\"\n",
    "print(a.count(\"is\"))"
   ]
  },
  {
   "cell_type": "code",
   "execution_count": 21,
   "id": "74c2f777-4a3a-46e2-9b80-14d98f3cfa73",
   "metadata": {},
   "outputs": [
    {
     "name": "stdout",
     "output_type": "stream",
     "text": [
      "['3', '3', '4', '4', '4', '4', '4', '5', '5', '5', '5', '5', '6', '6', '6', '6', '6', 'b', 'b', 'd', 'f', 'f', 'h', 'h', 'j', 'k', 'n']\n"
     ]
    }
   ],
   "source": [
    "a = \"hfhfkjbn64d6534563545446b65\"\n",
    "print(sorted(a))"
   ]
  },
  {
   "cell_type": "code",
   "execution_count": null,
   "id": "28bf9c76-ac01-4f8b-8b0a-5d3e33fa14b2",
   "metadata": {},
   "outputs": [],
   "source": [
    "a = ['1','2','3']\n",
    "print(':'.join(a))"
   ]
  },
  {
   "cell_type": "code",
   "execution_count": null,
   "id": "18fca569-4482-4800-80b0-92717686aa43",
   "metadata": {},
   "outputs": [],
   "source": [
    "a = \"Python is difficult language\"\n",
    "print(a.replace(\"difficult\",\"easy\"))"
   ]
  },
  {
   "cell_type": "code",
   "execution_count": null,
   "id": "44760e2d-218f-4f8e-8b58-a4d244e07874",
   "metadata": {},
   "outputs": [],
   "source": [
    "a = \"Python is difficult language\"\n",
    "print(a.upper())"
   ]
  },
  {
   "cell_type": "code",
   "execution_count": null,
   "id": "00b93505-1e88-4569-8c40-7524d1ddd1b8",
   "metadata": {},
   "outputs": [],
   "source": [
    "a = \"Python Is DifFicUlt language\"\n",
    "print(a.lower())"
   ]
  },
  {
   "cell_type": "code",
   "execution_count": 20,
   "id": "943d0483-d205-4cfd-87c3-c23083b0eafb",
   "metadata": {},
   "outputs": [
    {
     "name": "stdout",
     "output_type": "stream",
     "text": [
      "Python is difficult language.\n"
     ]
    }
   ],
   "source": [
    "a = \"python is difficult language.\"\n",
    "print(a.capitalize())"
   ]
  },
  {
   "cell_type": "code",
   "execution_count": 19,
   "id": "44da432d-afaf-412f-9340-9e165cf091ff",
   "metadata": {},
   "outputs": [
    {
     "name": "stdout",
     "output_type": "stream",
     "text": [
      "Computer Science Department\n"
     ]
    }
   ],
   "source": [
    "a = \"computer science department\"\n",
    "print(a.title())"
   ]
  },
  {
   "cell_type": "code",
   "execution_count": 17,
   "id": "1247c442-d3bd-41bc-b4c0-beb3b607acc5",
   "metadata": {},
   "outputs": [
    {
     "name": "stdout",
     "output_type": "stream",
     "text": [
      "pYTHON IS EASY\n"
     ]
    }
   ],
   "source": [
    "a = \"Python is easy\"\n",
    "print(a.swapcase())"
   ]
  },
  {
   "cell_type": "code",
   "execution_count": 18,
   "id": "61821081-6acf-4354-8f86-a130defc9b9c",
   "metadata": {},
   "outputs": [
    {
     "name": "stdout",
     "output_type": "stream",
     "text": [
      "True\n",
      "False\n"
     ]
    }
   ],
   "source": [
    "a = \"python is difficult language.\"\n",
    "print(a.startswith(\"p\"))\n",
    "print(a.startswith(\"f\"))"
   ]
  },
  {
   "cell_type": "code",
   "execution_count": 16,
   "id": "9c007376-ae57-49b7-8d5c-e6a2a2146f36",
   "metadata": {},
   "outputs": [
    {
     "name": "stdout",
     "output_type": "stream",
     "text": [
      "True\n",
      "False\n"
     ]
    }
   ],
   "source": [
    "a = \"python is difficult language.\"\n",
    "print(a.endswith(\"e.\"))\n",
    "print(a.endswith(\"f\"))"
   ]
  },
  {
   "cell_type": "code",
   "execution_count": 15,
   "id": "6948744b-7c1d-463e-b292-9f927afbf20d",
   "metadata": {},
   "outputs": [
    {
     "name": "stdout",
     "output_type": "stream",
     "text": [
      "True\n",
      "False\n"
     ]
    }
   ],
   "source": [
    "a = \"Hello_bacho\"\n",
    "print(a.endswith(\"o\"))\n",
    "print(a.endswith(\"f\"))"
   ]
  },
  {
   "cell_type": "code",
   "execution_count": 14,
   "id": "da85acfd-83e6-4904-b42c-ee355b408d4f",
   "metadata": {},
   "outputs": [
    {
     "name": "stdout",
     "output_type": "stream",
     "text": [
      "False\n"
     ]
    }
   ],
   "source": [
    "a ='praful'\n",
    "print(a.isdigit())"
   ]
  },
  {
   "cell_type": "code",
   "execution_count": 3,
   "id": "3220f12b-ce8b-4663-be09-d96ee5cbd9ec",
   "metadata": {},
   "outputs": [
    {
     "name": "stdout",
     "output_type": "stream",
     "text": [
      "False\n"
     ]
    }
   ],
   "source": [
    "a = '1,2,3,4'\n",
    "print(a.isdigit())"
   ]
  },
  {
   "cell_type": "code",
   "execution_count": 4,
   "id": "79073e0c-258e-4b3e-a918-b4e57fcbe42d",
   "metadata": {},
   "outputs": [
    {
     "name": "stdout",
     "output_type": "stream",
     "text": [
      "True\n"
     ]
    }
   ],
   "source": [
    "a ='praful'\n",
    "print(a.isalpha())"
   ]
  },
  {
   "cell_type": "code",
   "execution_count": 13,
   "id": "5228e977-c0c9-4374-b6c2-6fdf209f3a3b",
   "metadata": {},
   "outputs": [
    {
     "name": "stdout",
     "output_type": "stream",
     "text": [
      "10/20/30\n",
      "10,20,30\n"
     ]
    }
   ],
   "source": [
    "a,b,c=10,20,30\n",
    "print(a,b,c,sep=\"/\")\n",
    "print(a,b,c,sep=\",\")"
   ]
  },
  {
   "cell_type": "code",
   "execution_count": 5,
   "id": "7c66f7cc-1955-4d0a-8ea0-22002688f2b8",
   "metadata": {},
   "outputs": [
    {
     "name": "stdout",
     "output_type": "stream",
     "text": [
      "p 1\n",
      "y 1\n",
      "t 2\n",
      "h 1\n",
      "o 1\n",
      "n 2\n",
      "i 3\n",
      "s 1\n",
      "d 1\n",
      "f 2\n",
      "c 1\n",
      "u 2\n",
      "l 2\n",
      "a 2\n",
      "g 2\n",
      "e 1\n",
      ". 1\n"
     ]
    }
   ],
   "source": [
    "# wrp to print occurence of each character of string\n",
    "a = \"python is difficult language.\"\n",
    "a1 =\" \"\n",
    "for i in a:\n",
    "    if i not in a1:\n",
    "        print(i,a.count(i))\n",
    "        a1=a1+i"
   ]
  },
  {
   "cell_type": "code",
   "execution_count": 12,
   "id": "cea43f56-363e-4e61-8646-ffaa895b7630",
   "metadata": {},
   "outputs": [
    {
     "name": "stdout",
     "output_type": "stream",
     "text": [
      "<class 'list'>\n",
      "1\n"
     ]
    }
   ],
   "source": [
    "l =[10,67.8,\"Python\",10,23,345]\n",
    "print(type(l))\n",
    "print(l.index(67.8))"
   ]
  },
  {
   "cell_type": "code",
   "execution_count": 6,
   "id": "c05c4c82-4e4f-466d-81dd-942ba10d826b",
   "metadata": {},
   "outputs": [
    {
     "name": "stdout",
     "output_type": "stream",
     "text": [
      "[10, 10, 23, 67.8, 345]\n"
     ]
    }
   ],
   "source": [
    "l =[10,67.8,10,23,345]\n",
    "l.sort()\n",
    "print(l)"
   ]
  },
  {
   "cell_type": "code",
   "execution_count": 7,
   "id": "67392e28-cc69-4f80-87e1-457c42666093",
   "metadata": {},
   "outputs": [
    {
     "name": "stdout",
     "output_type": "stream",
     "text": [
      "[3, 806, 670, 5, 40, 30, 20, 10]\n"
     ]
    }
   ],
   "source": [
    "l = [10,20,30,40,5,670,806,3]\n",
    "l.reverse()\n",
    "print(l)"
   ]
  },
  {
   "cell_type": "code",
   "execution_count": 7,
   "id": "dab1f038-9b15-4134-a74c-7cf1d793c2c2",
   "metadata": {},
   "outputs": [
    {
     "name": "stdout",
     "output_type": "stream",
     "text": [
      "600\n"
     ]
    }
   ],
   "source": [
    "sum_ =[1,2,34,5,6,7,543,2]\n",
    "print(sum(sum_))"
   ]
  },
  {
   "cell_type": "code",
   "execution_count": 25,
   "id": "84fe2acb-cff8-4b56-9159-5dc1bd492ee3",
   "metadata": {},
   "outputs": [
    {
     "name": "stdout",
     "output_type": "stream",
     "text": [
      "465\n"
     ]
    }
   ],
   "source": [
    "# wrt print a max number from a list\n",
    "list_ = [10,2,6,89,23,465,345,90,23]\n",
    "list_.sort()\n",
    "print(list_[-1])"
   ]
  },
  {
   "cell_type": "code",
   "execution_count": 10,
   "id": "618ad57c-95c1-4ae6-a582-56813bef2df0",
   "metadata": {},
   "outputs": [
    {
     "name": "stdout",
     "output_type": "stream",
     "text": [
      "2\n",
      "465\n"
     ]
    }
   ],
   "source": [
    "# wrt print a max number from a list using loop\n",
    "list_ = [10,2,6,89,23,465,345,90,23]\n",
    "max_num = list_[0]\n",
    "min_num = list_[0]\n",
    "for i in list_:\n",
    "    if i > max_num:\n",
    "        max_num = i\n",
    "    if i < min_num:\n",
    "        min_num = i\n",
    "print(min_num)\n",
    "print(max_num)"
   ]
  },
  {
   "cell_type": "markdown",
   "id": "111bc317-c1ac-4e77-a6e0-477b5db5561e",
   "metadata": {},
   "source": [
    "# Function in tuple"
   ]
  },
  {
   "cell_type": "code",
   "execution_count": 11,
   "id": "b50862e9-cdf3-458b-a51c-c73f64fdeb69",
   "metadata": {},
   "outputs": [
    {
     "name": "stdout",
     "output_type": "stream",
     "text": [
      "43\n"
     ]
    }
   ],
   "source": [
    "l = (10,43,54,54,3334,23,45,324,2)\n",
    "print(l[1])"
   ]
  },
  {
   "cell_type": "code",
   "execution_count": 74,
   "id": "5ca0ee91-7752-4156-bc89-5d079c501cda",
   "metadata": {},
   "outputs": [],
   "source": [
    "# Difference b/w print and return statement in python\n",
    "#factorial based on recorgen ."
   ]
  },
  {
   "cell_type": "code",
   "execution_count": 70,
   "id": "6f3b61a6-8be8-41cb-9ad5-a91032e26d47",
   "metadata": {},
   "outputs": [
    {
     "name": "stdin",
     "output_type": "stream",
     "text": [
      " 3\n"
     ]
    },
    {
     "name": "stdout",
     "output_type": "stream",
     "text": [
      "6\n"
     ]
    }
   ],
   "source": [
    "def fact(n):\n",
    "    if n==1 or n==0:\n",
    "     return 1\n",
    "    else:\n",
    "     return n*fact(n-1)\n",
    "n = int(input())\n",
    "r = fact(n)\n",
    "print(r)"
   ]
  },
  {
   "cell_type": "code",
   "execution_count": 59,
   "id": "dd08610f-9143-428b-9847-a472f1683a7a",
   "metadata": {},
   "outputs": [
    {
     "name": "stdout",
     "output_type": "stream",
     "text": [
      "<class 'list'>\n"
     ]
    }
   ],
   "source": [
    "# short a list or tuples\n",
    "short_ =[10,20,30]\n",
    "# print(type(short_))"
   ]
  },
  {
   "cell_type": "code",
   "execution_count": null,
   "id": "888c1af7-e1aa-46e7-8e62-4b1209b743a3",
   "metadata": {},
   "outputs": [],
   "source": [
    "# danger \n",
    "# def fun():\n",
    "#  print(\"apple\")\n",
    "#  fun()\n",
    "# fun()"
   ]
  },
  {
   "cell_type": "markdown",
   "id": "9829e2a1-1929-44bd-8151-5ce73151a8bc",
   "metadata": {},
   "source": [
    "# Lamda function\n",
    "* Lamda is the pre define key world\n",
    "* lamda argument_list : expression\n",
    "* it call anonymous function"
   ]
  },
  {
   "cell_type": "code",
   "execution_count": 71,
   "id": "d4544630-384e-4b2d-8789-a643c509d4f7",
   "metadata": {},
   "outputs": [],
   "source": [
    " # syntex:\n",
    "# list_ = [12,23,456,567,7656,3546,346,34636,458,34673456,5677,5633467,785,567]\n",
    "# list_.sort(key=lambda,reverse=true)"
   ]
  },
  {
   "cell_type": "code",
   "execution_count": null,
   "id": "717483af-c8e4-4035-997d-7117c19d5c3a",
   "metadata": {},
   "outputs": [],
   "source": []
  }
 ],
 "metadata": {
  "kernelspec": {
   "display_name": "Python 3 (ipykernel)",
   "language": "python",
   "name": "python3"
  },
  "language_info": {
   "codemirror_mode": {
    "name": "ipython",
    "version": 3
   },
   "file_extension": ".py",
   "mimetype": "text/x-python",
   "name": "python",
   "nbconvert_exporter": "python",
   "pygments_lexer": "ipython3",
   "version": "3.13.5"
  }
 },
 "nbformat": 4,
 "nbformat_minor": 5
}
