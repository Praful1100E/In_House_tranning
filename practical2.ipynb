{
 "cells": [
  {
   "cell_type": "code",
   "execution_count": 2,
   "id": "158fc34e-3ac3-42d7-b083-1e7198c67871",
   "metadata": {},
   "outputs": [
    {
     "name": "stdout",
     "output_type": "stream",
     "text": [
      "(100, 200, 300)\n",
      "<class 'tuple'>\n"
     ]
    }
   ],
   "source": [
    "# Question create a tuple and print the list?\n",
    "tup_le = (100,200,300)\n",
    "print(tup_le)\n",
    "print(type(tup_le))"
   ]
  },
  {
   "cell_type": "code",
   "execution_count": 3,
   "id": "2b6efe4c-6a83-4f09-be95-8ea2ec49193c",
   "metadata": {},
   "outputs": [
    {
     "name": "stdout",
     "output_type": "stream",
     "text": [
      "green\n"
     ]
    }
   ],
   "source": [
    "# Question access the second last element from the tuple?\n",
    "element = (\"red\",\"green\",\"yellow\")\n",
    "print(element[-2])"
   ]
  },
  {
   "cell_type": "markdown",
   "id": "e472b275-7c1d-4c61-90a1-de139a80abcb",
   "metadata": {},
   "source": [
    "# find minimum number in a tuple"
   ]
  },
  {
   "cell_type": "code",
   "execution_count": 4,
   "id": "8cffdf49-5e0e-4ebe-8b27-898edc2c55de",
   "metadata": {},
   "outputs": [
    {
     "name": "stdout",
     "output_type": "stream",
     "text": [
      "5\n"
     ]
    }
   ],
   "source": [
    "num = (10,20,5,15)\n",
    "print(min(num))"
   ]
  },
  {
   "cell_type": "markdown",
   "id": "669b841b-914d-457d-8383-9ea4d7ab0dc3",
   "metadata": {},
   "source": [
    "# Find the index of given element"
   ]
  },
  {
   "cell_type": "code",
   "execution_count": 5,
   "id": "931301ee-e64d-4343-944e-c6553dc97c4b",
   "metadata": {},
   "outputs": [
    {
     "name": "stdout",
     "output_type": "stream",
     "text": [
      "cat\n"
     ]
    }
   ],
   "source": [
    "animal = (\"dog\",\"cat\",\"rabbit\")\n",
    "print([1])"
   ]
  },
  {
   "cell_type": "markdown",
   "id": "bf7ec258-eb92-4d0f-b5d0-0fa68346f747",
   "metadata": {},
   "source": [
    "# code to find the element"
   ]
  },
  {
   "cell_type": "code",
   "execution_count": 15,
   "id": "1f6544ff-43ed-4f7c-95d8-632888e6daa8",
   "metadata": {},
   "outputs": [
    {
     "name": "stdout",
     "output_type": "stream",
     "text": [
      "True\n"
     ]
    }
   ],
   "source": [
    "fruit = (\"Apple\",\"Kivi\",\"Mango\")\n",
    "print(\"Kivi\" in fruit)"
   ]
  },
  {
   "cell_type": "markdown",
   "id": "7962bb5b-5f6b-4146-b470-c27a7de9f7c9",
   "metadata": {},
   "source": [
    "# Create a set and print the set."
   ]
  },
  {
   "cell_type": "code",
   "execution_count": 11,
   "id": "94392b1c-6e6e-4e5e-98be-6d5a11b2b3d4",
   "metadata": {},
   "outputs": [
    {
     "name": "stdout",
     "output_type": "stream",
     "text": [
      "{'a', 'b', 'c'}\n",
      "<class 'set'>\n"
     ]
    }
   ],
   "source": [
    "s_et = {\"a\",\"b\",\"c\"}\n",
    "print(s_et)\n",
    "print(type(s_et))"
   ]
  },
  {
   "cell_type": "markdown",
   "id": "143a9b68-2d93-47ca-ae88-31b838e6dada",
   "metadata": {},
   "source": [
    "# Clear all element in a set."
   ]
  },
  {
   "cell_type": "code",
   "execution_count": 20,
   "id": "66a6fec5-f931-4e0a-bdff-952a746ca53b",
   "metadata": {},
   "outputs": [
    {
     "name": "stdout",
     "output_type": "stream",
     "text": [
      "None\n"
     ]
    }
   ],
   "source": [
    "s_et = {1,2,3,4,5,6}\n",
    "c = s_et.clear()\n",
    "print(c)"
   ]
  },
  {
   "cell_type": "markdown",
   "id": "2479fdb2-ab2a-4f7d-907c-19436e79a1e9",
   "metadata": {},
   "source": [
    "# Remove the element from the set"
   ]
  },
  {
   "cell_type": "code",
   "execution_count": 22,
   "id": "01fca019-703b-4c8e-b12d-4446b54d0fb5",
   "metadata": {},
   "outputs": [
    {
     "name": "stdout",
     "output_type": "stream",
     "text": [
      "{1, 2, 3, 5}\n"
     ]
    }
   ],
   "source": [
    "s_et = {1,2,3,4,5}\n",
    "s_et.remove(4)\n",
    "print(s_et)"
   ]
  },
  {
   "cell_type": "markdown",
   "id": "cb2ff02f-8c96-4d7a-afde-fc5499afa6f6",
   "metadata": {},
   "source": [
    "# Find the union of the given seet's"
   ]
  },
  {
   "cell_type": "code",
   "execution_count": 30,
   "id": "4ccccb6e-bdc8-472f-bd24-5c8c16ec5d2e",
   "metadata": {},
   "outputs": [
    {
     "name": "stdout",
     "output_type": "stream",
     "text": [
      "{1, 2, 3, 4, 5, 6}\n"
     ]
    }
   ],
   "source": [
    "set_1 = {1,2,3}\n",
    "set_2 = {4,5,6}\n",
    "print(set_1.union(set_2))"
   ]
  },
  {
   "cell_type": "markdown",
   "id": "e8b5fcb1-07da-4a39-8fd7-31da4442360f",
   "metadata": {},
   "source": [
    "# Find the intersection of given set"
   ]
  },
  {
   "cell_type": "code",
   "execution_count": 32,
   "id": "479fe07d-a4c0-4a86-938c-75d98d9323c8",
   "metadata": {},
   "outputs": [
    {
     "name": "stdout",
     "output_type": "stream",
     "text": [
      "{3}\n"
     ]
    }
   ],
   "source": [
    "set_1 = {1,2,3,}\n",
    "set_2 = {3,4,5,6}\n",
    "print(set_1.intersection(set_2))"
   ]
  },
  {
   "cell_type": "markdown",
   "id": "bde9a99e-17e7-4022-aa81-cfbab89b5d54",
   "metadata": {},
   "source": [
    "# Adding new key-value pairs"
   ]
  },
  {
   "cell_type": "code",
   "execution_count": 7,
   "id": "a481379f-0d7d-4c9e-bce9-fb96fd10f64e",
   "metadata": {},
   "outputs": [
    {
     "name": "stdout",
     "output_type": "stream",
     "text": [
      "{'Name': 'Bab', 'age': 22, 'city': 'New', 'country': 'USA'}\n"
     ]
    }
   ],
   "source": [
    "v = {\"Name\":\"Bab\",\"age\":22,\"city\":\"New\"}\n",
    "v[\"country\"]=\"USA\"\n",
    "print(v)"
   ]
  },
  {
   "cell_type": "markdown",
   "id": "74fb4c66-a32a-4488-b2a1-a8d99f8e0ea8",
   "metadata": {},
   "source": [
    "# Access the value associated with the key"
   ]
  },
  {
   "cell_type": "code",
   "execution_count": 11,
   "id": "a33928a8-ca9d-4005-b324-74e625151fe6",
   "metadata": {},
   "outputs": [
    {
     "name": "stdout",
     "output_type": "stream",
     "text": [
      "Praful\n"
     ]
    }
   ],
   "source": [
    "di_cti = {\"Name\":\"Praful\",\"Age\":25}\n",
    "Name = di_cti[\"Name\"]\n",
    "print(Name)"
   ]
  },
  {
   "cell_type": "markdown",
   "id": "f697767f-3f12-45f7-84d4-3b6910b5c963",
   "metadata": {},
   "source": [
    "# Removing a specific key in the Dictionary"
   ]
  },
  {
   "cell_type": "code",
   "execution_count": 24,
   "id": "a3f7ede4-d9a3-4bed-a0e0-a1fe3532a2b5",
   "metadata": {},
   "outputs": [
    {
     "name": "stdout",
     "output_type": "stream",
     "text": [
      "{'Name': 'Praful', 'City': 'New York'}\n"
     ]
    }
   ],
   "source": [
    "di_cti = {\"Name\":\"Praful\",\"Age\":25,\"City\":\"New York\"}\n",
    "del di_cti[\"Age\"]\n",
    "print(di_cti)\n",
    "# Another method\n",
    "#di_cti.pop(\"Name\")\n",
    "#print(di_cti)"
   ]
  },
  {
   "cell_type": "markdown",
   "id": "0de2e69f-fd27-4f8a-91f6-9e207d2bf6d5",
   "metadata": {},
   "source": [
    "# Checking the specific key is present or not in the dictionary"
   ]
  },
  {
   "cell_type": "code",
   "execution_count": 26,
   "id": "be01a3de-30ae-44a2-9ba8-45eeaa7c8f71",
   "metadata": {},
   "outputs": [
    {
     "name": "stdout",
     "output_type": "stream",
     "text": [
      "City is present in the list.\n",
      "{'Name': 'Alice', 'Age': 22, 'City': 'Paris'}\n"
     ]
    }
   ],
   "source": [
    "list_ = {\"Name\":\"Alice\",\"Age\":22,\"City\":\"Paris\"}\n",
    "if \"City\" in list_:\n",
    "    print(f\"City is present in the list.\\n{list_}\")\n",
    "else:\n",
    "    print(\"City is not in the list\")"
   ]
  },
  {
   "cell_type": "markdown",
   "id": "8170ce52-a664-41bb-b156-95cb5880b5f8",
   "metadata": {},
   "source": [
    "# Creating list tuple and dictionary and print all"
   ]
  },
  {
   "cell_type": "code",
   "execution_count": 28,
   "id": "f33dcd42-a8ee-4015-8e17-28b99d5d412b",
   "metadata": {},
   "outputs": [
    {
     "name": "stdout",
     "output_type": "stream",
     "text": [
      "<class 'list'>\n",
      "<class 'tuple'>\n",
      "<class 'dict'>\n",
      "[1, 2, 3, 4, 5]\n",
      "(1, 2, 3, 4, 5)\n",
      "{'number': {1, 2, 3, 4, 5}}\n"
     ]
    }
   ],
   "source": [
    "list_ = [1,2,3,4,5]\n",
    "tuple_ =(1,2,3,4,5)\n",
    "dict_  ={\"number\":{1,2,3,4,5}}\n",
    "print(type(list_))\n",
    "print(type(tuple_))\n",
    "print(type(dict_))\n",
    "print(list_)\n",
    "print(tuple_)\n",
    "print(dict_)"
   ]
  },
  {
   "cell_type": "markdown",
   "id": "1bed1f7a-bf78-4629-a241-179a71622026",
   "metadata": {},
   "source": [
    "# Create a list of 5 random number between 1 to 100, sort in ascending"
   ]
  },
  {
   "cell_type": "code",
   "execution_count": 38,
   "id": "c8d06172-effa-4219-8e0b-879f748f0596",
   "metadata": {},
   "outputs": [
    {
     "name": "stdout",
     "output_type": "stream",
     "text": [
      "[5, 14, 36, 44, 85]\n",
      "[85, 44, 36, 14, 5]\n"
     ]
    }
   ],
   "source": [
    "list_ = [14,5,36,44,85]\n",
    "sort = list_.sort()\n",
    "#sort = list_.sort(reverse=True)\n",
    "print(list_)\n",
    "# Printing the lsit in reversed order.\n",
    "print(list_[::-1])"
   ]
  },
  {
   "cell_type": "markdown",
   "id": "328abc8a-4e45-4a8f-ad04-4a10e3e42014",
   "metadata": {},
   "source": [
    "\n",
    "# Create a list of 5 random number between 1 to 100, sort in decending"
   ]
  },
  {
   "cell_type": "code",
   "execution_count": 39,
   "id": "f7335418-d484-4aca-921a-15a5b0578bdd",
   "metadata": {},
   "outputs": [
    {
     "name": "stdout",
     "output_type": "stream",
     "text": [
      "[85, 44, 36, 14, 5]\n"
     ]
    }
   ],
   "source": [
    "list_ = [14,5,36,44,85]\n",
    "sort = list_.sort(reverse=True)\n",
    "print(list_)"
   ]
  },
  {
   "cell_type": "markdown",
   "id": "50133acc-21f8-4e23-b227-aeddcfbce287",
   "metadata": {},
   "source": [
    "# Creating a list with string and print the element at the third index."
   ]
  },
  {
   "cell_type": "code",
   "execution_count": 55,
   "id": "382b4ce5-be3d-448a-ad99-a82ddb4162e3",
   "metadata": {},
   "outputs": [
    {
     "name": "stdout",
     "output_type": "stream",
     "text": [
      "5\n",
      "<class 'list'>\n",
      "['l', 'l', 'o']\n"
     ]
    }
   ],
   "source": [
    "list_ = [\"H\",\"e\",\"l\",\"l\",\"o\"]\n",
    "print(len(list_))\n",
    "print(type(list_))\n",
    "print(list_[2:])"
   ]
  },
  {
   "cell_type": "markdown",
   "id": "66511a56-f54f-4c7a-aae3-1dc735234409",
   "metadata": {},
   "source": [
    "# Combine two dictionaries"
   ]
  },
  {
   "cell_type": "code",
   "execution_count": 60,
   "id": "f918f5b3-6c24-4e82-8984-2a276224211e",
   "metadata": {},
   "outputs": [
    {
     "name": "stdout",
     "output_type": "stream",
     "text": [
      "{'Name': {'Paful', 'Delta', 'Jatin'}, 'Age': {18, 19}}\n"
     ]
    }
   ],
   "source": [
    "dict1 = {\"Name\":{\"Paful\",\"Jatin\",\"Delta\"}}\n",
    "dict2 = {\"Age\":{19,18,19}}\n",
    "dict_ = dict1 |dict2\n",
    "print(dict_)"
   ]
  },
  {
   "cell_type": "markdown",
   "id": "562dffd5-0c32-4478-ae69-20a1dc253a26",
   "metadata": {},
   "source": [
    "# Write a code to convert a list of string into a set."
   ]
  },
  {
   "cell_type": "code",
   "execution_count": 61,
   "id": "3e448bdc-a12c-413d-870b-8bc087c88414",
   "metadata": {},
   "outputs": [
    {
     "name": "stdout",
     "output_type": "stream",
     "text": [
      "{'f', 'u', 'P', 'r', 'a', 'l'}\n"
     ]
    }
   ],
   "source": [
    "list_ = [\"P\",\"r\",\"a\",\"f\",\"u\",\"l\"]\n",
    "set_ = set(list_)\n",
    "print(set_)"
   ]
  },
  {
   "cell_type": "code",
   "execution_count": null,
   "id": "b923855d-dfd3-4574-a5cf-10f176779344",
   "metadata": {},
   "outputs": [],
   "source": []
  }
 ],
 "metadata": {
  "kernelspec": {
   "display_name": "Python 3 (ipykernel)",
   "language": "python",
   "name": "python3"
  },
  "language_info": {
   "codemirror_mode": {
    "name": "ipython",
    "version": 3
   },
   "file_extension": ".py",
   "mimetype": "text/x-python",
   "name": "python",
   "nbconvert_exporter": "python",
   "pygments_lexer": "ipython3",
   "version": "3.13.5"
  }
 },
 "nbformat": 4,
 "nbformat_minor": 5
}
