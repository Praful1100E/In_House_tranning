{
 "cells": [
  {
   "cell_type": "code",
   "execution_count": 1,
   "id": "9c6f1ee9-14b2-4189-88b2-e56b1c849acb",
   "metadata": {},
   "outputs": [
    {
     "name": "stdout",
     "output_type": "stream",
     "text": [
      "<class 'int'>\n"
     ]
    }
   ],
   "source": [
    "# Data types(integers) represent by int\n",
    "i = 10 # With the help of i which is a variable we can store data in it.\n",
    "print(type(i)) # it is the int type data \n"
   ]
  },
  {
   "cell_type": "code",
   "execution_count": 8,
   "id": "ec401c8a-6d45-48af-83d1-171b4f9ff03f",
   "metadata": {},
   "outputs": [
    {
     "name": "stdout",
     "output_type": "stream",
     "text": [
      "Values :-10\n",
      "Type of the value: <class 'int'>\n"
     ]
    }
   ],
   "source": [
    "# Another example of int\n",
    "a = 20\n",
    "b = 30\n",
    "c = a-b\n",
    "print(f\"Values :{c}\")\n",
    "print(f\"Type of the value: {type(c)}\")"
   ]
  },
  {
   "cell_type": "code",
   "execution_count": 7,
   "id": "05183c9a-716c-4c9b-bad6-86aa37e051c5",
   "metadata": {},
   "outputs": [
    {
     "name": "stdout",
     "output_type": "stream",
     "text": [
      "Value of pi: 3.14\n",
      "Value of a: 23.67\n",
      "Type of the value in pi: <class 'float'>\n",
      "Type of the value in a : <class 'float'>\n"
     ]
    }
   ],
   "source": [
    "# floating values data_type are repressent by flot\n",
    "pi = 3.14\n",
    "a = 23.67\n",
    "print(f\"Value of pi: {pi}\")\n",
    "print(f\"Value of a: {a}\")\n",
    "print(f\"Type of the value in pi: {type(pi)}\")\n",
    "print(f\"Type of the value in a : {type(a)}\")"
   ]
  },
  {
   "cell_type": "code",
   "execution_count": 9,
   "id": "fcb0ce55-5ea1-476e-9426-d54d24c88731",
   "metadata": {},
   "outputs": [
    {
     "name": "stdout",
     "output_type": "stream",
     "text": [
      "Value of x: 677.143\n",
      "Value of y: 233.673\n",
      "Type of the value in x: <class 'float'>\n",
      "Type of the value in x+y : <class 'float'>\n"
     ]
    }
   ],
   "source": [
    "# another example \n",
    "x = 677.143\n",
    "y = 233.673\n",
    "print(f\"Value of x: {x}\")\n",
    "print(f\"Value of y: {y}\")\n",
    "print(f\"Type of the value in x: {type(x)}\")\n",
    "print(f\"Type of the value in x+y : {type(x+y)}\")"
   ]
  },
  {
   "cell_type": "code",
   "execution_count": 10,
   "id": "cddac631-c37d-4864-a1ee-16fd0aaa04f3",
   "metadata": {},
   "outputs": [
    {
     "name": "stdout",
     "output_type": "stream",
     "text": [
      "<class 'complex'>\n"
     ]
    }
   ],
   "source": [
    "# complex data type is represent by complex\n",
    "a = 2+5j\n",
    "print(type(a))"
   ]
  },
  {
   "cell_type": "code",
   "execution_count": 13,
   "id": "5b86cd49-5f50-4714-9ddd-bb0cd0b5f368",
   "metadata": {},
   "outputs": [
    {
     "name": "stdout",
     "output_type": "stream",
     "text": [
      "(6+12j)\n"
     ]
    }
   ],
   "source": [
    "# Addition of a complex data_type\n",
    "x = 2+5j\n",
    "y = 4+7j\n",
    "print(x+y)"
   ]
  },
  {
   "cell_type": "code",
   "execution_count": 14,
   "id": "ae2d68a6-48ff-4488-9baf-1c5df73094c8",
   "metadata": {},
   "outputs": [
    {
     "name": "stdout",
     "output_type": "stream",
     "text": [
      "Value of x: (2+5j)\n",
      "Value of x: (2+5j)\n",
      "Value of x+y: (6+12j)\n",
      "Type of x: <class 'complex'>\n",
      "Type of y: <class 'complex'>\n"
     ]
    }
   ],
   "source": [
    "# Another example \n",
    "\n",
    "x = 2+5j\n",
    "y = 4+7j\n",
    "print(f\"Value of x: {x}\")\n",
    "print(f\"Value of x: {x}\")\n",
    "print(f\"Value of x+y: {x+y}\")\n",
    "print(f\"Type of x: {type(x)}\")\n",
    "print(f\"Type of y: {type(y)}\")\n"
   ]
  },
  {
   "cell_type": "code",
   "execution_count": 16,
   "id": "165c3370-11fc-4003-bff2-c784a17de7ee",
   "metadata": {},
   "outputs": [
    {
     "name": "stdout",
     "output_type": "stream",
     "text": [
      "<class 'str'>\n",
      "Length of the string:  13\n",
      "Name: Praful Thakur\n"
     ]
    }
   ],
   "source": [
    "# String data type \n",
    "name = \"Praful Thakur\"\n",
    "print(type(name))\n",
    "print(\"Length of the string: \",len(name))\n",
    "print(\"Name:\",name)"
   ]
  },
  {
   "cell_type": "code",
   "execution_count": 17,
   "id": "0994bd50-9597-4c2d-9a13-7db4dd014acb",
   "metadata": {},
   "outputs": [
    {
     "name": "stdout",
     "output_type": "stream",
     "text": [
      "<class 'str'>\n",
      "Length of the string:  10\n",
      "Name: Bhole Nath\n"
     ]
    }
   ],
   "source": [
    "# Another example \n",
    "name = \"Bhole Nath\"\n",
    "print(type(name))\n",
    "print(\"Length of the string: \",len(name))\n",
    "print(\"Name:\",name)"
   ]
  },
  {
   "cell_type": "code",
   "execution_count": 24,
   "id": "37680f13-2923-479b-9a7c-4a57406396e6",
   "metadata": {},
   "outputs": [
    {
     "name": "stdout",
     "output_type": "stream",
     "text": [
      "[10, 20, 30, 40]\n",
      "First element in the list : 10\n",
      "Tuple (1, 2, 3, 4)\n",
      "Last elemment in my_tuple is:  4\n",
      "Range object:  range(0, 5)\n",
      "Cover to list [0, 1, 2, 3, 4]\n"
     ]
    }
   ],
   "source": [
    "# Sequence data type\n",
    "# List: Ordered and mutable\n",
    "my_list = [10,20,30,40]\n",
    "print(my_list)\n",
    "print(\"First element in the list :\",my_list[0])\n",
    "# Tuple: Ordered and immutable\n",
    "my_tuple = (1,2,3,4)\n",
    "print(\"Tuple\",my_tuple)\n",
    "print(\"Last elemment in my_tuple is: \",my_tuple[-1])\n",
    "# Range : Sequence of the numbers\n",
    "my_range = range(5)\n",
    "print(\"Range object: \",my_range)\n",
    "print(\"Cover to list\",list(my_range))"
   ]
  },
  {
   "cell_type": "code",
   "execution_count": 25,
   "id": "78111b0d-dba9-4bcb-8147-aef71462d27a",
   "metadata": {},
   "outputs": [
    {
     "name": "stdout",
     "output_type": "stream",
     "text": [
      "Is active True\n",
      "Type <class 'bool'>\n"
     ]
    }
   ],
   "source": [
    "# Boolean Type\n",
    "is_active = True\n",
    "print(\"Is active\",is_active)\n",
    "print(\"Type\",type(is_active))"
   ]
  },
  {
   "cell_type": "code",
   "execution_count": 26,
   "id": "e2a0f89d-864e-4b74-b352-5b1125ed3428",
   "metadata": {},
   "outputs": [
    {
     "name": "stdout",
     "output_type": "stream",
     "text": [
      "fruit list ['Apple', 'Banana', 'mango']\n",
      "First fruit Apple\n",
      "Colours Tuple ('Red', 'Green', 'BLue')\n",
      "<class 'tuple'>\n"
     ]
    }
   ],
   "source": [
    "# List\n",
    "fruits = [\"Apple\",\"Banana\",\"mango\"]\n",
    "print(\"fruit list\",fruits)\n",
    "print(\"First fruit\",fruits[0])\n",
    "# Tuple\n",
    "colors=(\"Red\",\"Green\",\"BLue\")\n",
    "print(\"Colours Tuple\",colors)\n",
    "print(type(colors))"
   ]
  }
 ],
 "metadata": {
  "kernelspec": {
   "display_name": "Python 3 (ipykernel)",
   "language": "python",
   "name": "python3"
  },
  "language_info": {
   "codemirror_mode": {
    "name": "ipython",
    "version": 3
   },
   "file_extension": ".py",
   "mimetype": "text/x-python",
   "name": "python",
   "nbconvert_exporter": "python",
   "pygments_lexer": "ipython3",
   "version": "3.13.5"
  }
 },
 "nbformat": 4,
 "nbformat_minor": 5
}
