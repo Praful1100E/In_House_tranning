{
 "cells": [
  {
   "cell_type": "markdown",
   "id": "a388c20f-8c7d-4e2a-a0ba-b603bf347889",
   "metadata": {},
   "source": [
    "# What are data structures, and why are they important?\n",
    "\n",
    "Data structure is the process of storing data in the order form.\n",
    "    \n",
    "    Improve efficency of program.\n",
    "    Makecode easy to read and understand\n"
   ]
  },
  {
   "cell_type": "markdown",
   "id": "1f145a15-0bcb-4c3e-b3e3-0a9597760c4c",
   "metadata": {},
   "source": [
    "# What is the difference b/w mutable and imutable data type?\n",
    "Ans:\n",
    "Mutable\tImmutable\n",
    "1)The object can be modified after the creation as well.\tObjects can  not be modified after the creation of the objects.\n",
    "2)Retain the same memory location even after the content is modified.\tAny modification results in a new object and memory location.\n",
    "3)It is more efficient as no new objects are created for frequent changes.\tIt might be faster in some scenarios as there’s no need to track changes.\n",
    "4)You need to modified, add, or remove existing data frequently.\tYou need to ensure data remains constant and unaltered.\n",
    "5)Classes that are mutable are not considered final.\tClasses that are immutable are considered final.\n",
    "6)Classes are not made final for that mutable object.\tClasses are made final for the immutable objects.\n",
    "7)Thread unsafe\tThread safe\n",
    "8)Has getter and setter methods.\tHas only getter method.\n",
    "Example:List, Bytearray, Set,dictionary\tExample : int,float,string,Unicode,tuple,etc.\n"
   ]
  },
  {
   "cell_type": "markdown",
   "id": "7acec4d2-b796-4086-8639-e21aebdf8753",
   "metadata": {},
   "source": [
    "## What are the main difference between lists and tuples in python?\n",
    "Ans:\n",
    "List\t                                                  Tuple\n",
    "1)List  is a collection of data that is ordered and changeable\tA Tuple is collection of data that is ordered and unchargeable\n",
    "2)Cannot be used as key in python dictionaries.\tCan be used as a pass keys for python dictionaries.\n",
    "3)Performance is slower due to dynamics nature\tPerformance is faster due to static nature.\n",
    "4)Uses square brackets[ ]\tUse parenthesis( )\n",
    "5)Larger size because it is more flexible\tSmaller size due to immutability\n",
    "6)Slower compared to tuple\tFaster due to immutability\n",
    "7)Use when you need to modify the data\tUse when the data should stay constant\n",
    "8)There are 46 available methods on lists\tThere are 33 available method on tuples\n",
    "9)In dictionary,we can’t use list of keys\tIn dictionary,we can create keys using tuples\n",
    "Example :my-list = [1,2,3]\tExamples :my-t = (1,2,3)\n"
   ]
  },
  {
   "cell_type": "code",
   "execution_count": 14,
   "id": "1643223a-01bf-46cb-8b2f-d78205a545f6",
   "metadata": {},
   "outputs": [
    {
     "name": "stdout",
     "output_type": "stream",
     "text": [
      "{'nam': 'Praful', 'age': 18, 'course': 'B.Tech'}\n",
      "<class 'dict'>\n"
     ]
    }
   ],
   "source": [
    "# #Q.4 Desribe how dictionaries store data ?\n",
    "# Ans: Python dictionary is a data structure that stores the value in key:value pairs.\n",
    "#Values in a dictionary can be of any data type and can be duplicated,whereas keys can’t be repeated and must be immutable.\n",
    "\n",
    "# Example :\n",
    "student={\"nam\":\"Praful\",\n",
    "                 \"age\":18,\n",
    "                 \"course\":\"B.Tech\"\n",
    "                 }\n",
    "print(student)\n",
    "print(type(student))\n"
   ]
  },
  {
   "cell_type": "markdown",
   "id": "ee6fb2d8-6ad7-4106-9804-4c72465f0cab",
   "metadata": {},
   "source": [
    "# Why might you use a set instead of a list in python?\n",
    "Ans: while both lists and sets in python store collections of elements,their fundamental differences make them suitable for different scenarios.choosing the right data structure can significantly impact your code’s performance and efficiency.\n",
    "\n",
    "Reasons:\n",
    "1.Uniqueness of element:\n",
    " \t sets automatically remove duplicates.\n",
    " \tIf you need to store only unique values, a set is ideal\n",
    "2. faster lookup:\n",
    "•\tSets lookup (using in) is much faster than in list,especially for large datasets.\n",
    "•\tSets use hash tablets,while list requires scanning each elements.\n",
    " 3. Set Operations:\n",
    "\tSets support mathematical operation like union,intersection,difference,etc.,which are not directly available for list.\n"
   ]
  },
  {
   "cell_type": "markdown",
   "id": "b374c6ee-3dd4-4dab-9b1c-3354cce3f8cb",
   "metadata": {},
   "source": [
    "# What is a string in python,and how is it different from a list?\n",
    "Ans: A string in python is a sequence of characters enclosed in quotes-either single (‘),double(“),or triple quotes(‘‘‘ or”’’).\n",
    "Example:\n",
    "S = ”hello,world!”\n",
    "String are immutable,meaning once created,they cannot be changed.\n",
    "Difference between string and list:\n",
    "feature\tString\tList\n",
    "Data type\tSequence of character\tSequence of elements(any type)\n",
    "Syntax\tEnclosed in quotes’Hello’\tEnclosed in square brackets[1,2]\n",
    "Mutability\tImmutable\tMutable\n",
    "Data type of element\tOnly character\tAny data type(int,float,string)\n",
    "Elements type\tAlways characters(str)\tCan be mixed(e.g.,int,str)\n",
    "Common methods\tUpper( ),lower( ), split()\tAppend( ) , remove( ),sort()\n",
    "slicing\tsupported\tsupported\n"
   ]
  },
  {
   "cell_type": "markdown",
   "id": "89678009-c7f4-407e-a64c-f5d7c8a6a4ce",
   "metadata": {},
   "source": [
    "# How do Tuple ensure data integrity in python?\n",
    "Ans: Tuple ensure data integrity by making it impossible to modify the tuple after creation. This is useful when you need to store a collection of object that should not be change. This immutability ensures data integrity in several ways:\n",
    "Benefit of Tuple Immutability :\n",
    "1.\tPrevent accidental modification:\n",
    "Since Tupe are immutable,you cannot accidently modify their contents.This prevents unintended change to data.\n",
    "2.\tEnsure data consistency:\n",
    "Tuples ensure that the data remain consistent throughout the program’s execution. This is particularly important when working with critical data that should not be changed.\n",
    "3.\tThread safety: Tuples are thread-safe because multiple thread cannot be modify the same tuple simultaneously. This makes tuples suitable for use in multi-threaded environments.\n",
    "4.\tHash ability: Tuple can be used as keys in dictionaries because they are immutable. This is not possible with lists, which are immutable .\n",
    "\n",
    "To Ensure Data integrity using tuple:\n",
    "\t Use tuple for critical data.\n",
    "\tAvoid using lists for critical data.\n",
    "\tUse tuples as dictionaries keys.\n",
    "\tCompliance with Regulation.\n",
    "\tImproved Data Security.\n",
    "\tEasier Data Auditing\n"
   ]
  },
  {
   "cell_type": "markdown",
   "id": "6c7b38d5-f3e6-43b2-b890-9e2ca5cb90e4",
   "metadata": {},
   "source": [
    "# What is Hash table ,and how does it relate to dictionaries in python? \n",
    "Ans: A hash table is a data structure that map keys to values using a hash function.\n",
    "    In python, dictionaries are implemented as a hash table, which enable fast lookups ,insertion, and detection.  \n",
    "How Hash table works:\n",
    "1.\tKey value pairs: Hash table store data as key-value pair, where each key is unique and maps to a specific values.\n",
    "2.\tHash function: A hash function is used to map keys to induce of the array.\n",
    "    The hash function take the key as  input and generate a hash code, which is used to determine the index\n",
    "    at which the corresponding value is stored.\n",
    "3.\tArray: The hash table  uses an array to store the key-pairs. Each index in the array corresponds  to a\n",
    "specific hash code.\n",
    "Benefits of Hash Tables:\n",
    "\n",
    "1.\tFast Lookups: Hash tablets enable fast lookups,with an average time complexity of 0(1).\n",
    "2.\tEfficient Insertions and Deletions: Hash tables allow for efficient insertions and deletions,with an average time complexity of 0(1).\n",
    "3.\tGood memory Usage: Hash tablets can be memory-efficient , especially when dealing with large datasets.\n"
   ]
  },
  {
   "cell_type": "markdown",
   "id": "566248aa-787f-44e3-b2f0-7d03d5192549",
   "metadata": {},
   "source": [
    "##   Can list contain different data types in python?\n",
    "Ans: Yes, list can contain different data types in python. This is because lists are heterogeneous, meaning they can store data. \n",
    "Benefits:\n",
    "1.Data Analysis: list can be used to store data from different sources, such as database or files,and then analyzed used various techniques.\n",
    "2. Machine learning: List can be used to store features and labels for machine learning models.\n",
    "3. Web Development: List can be used to store data from web forms or APIs and then processed and stored in a data base.\n",
    "\n",
    "While working with list containing different data types, it’s essential to follow best practices:\n",
    "\n",
    "1.\tUse Type Checking: Use type checking  to ensure that the data type of each element is as expected.\n",
    "\n",
    "2.\tUse Error Handling:    use error handling to handle cases where the data type is not expected.\n",
    "\n",
    "3.\t Use Document your code : Document your code to ensures the others understand the data types being used.\n"
   ]
  },
  {
   "cell_type": "markdown",
   "id": "d689f0bd-6d03-47e6-8df1-8df88df18062",
   "metadata": {},
   "source": [
    "# Explain why strings are immutable in Python? \n",
    "Ans: Strings in Python are immutable, meaning their contents cannot be changed after creation. This is because strings are stored as sequences of Unicode characters with a fixed memory allocation. When you attempt to modify a string, Python creates a new string object rather than changing the original one. This immutability:\n",
    "Enhances performance by enabling internal optimizations like string interning.\n",
    "Improves security when strings are used as keys in dictionaries.\n",
    "Prevents accidental modifications, ensuring data integrity.\n",
    "\n",
    "Security and Thread Safety:\n",
    "Immutability ensures that a string's value remains constant, preventing accidental or malicious modification. In multithreaded environments, this eliminates the need for locks and synchronization mechanisms when sharing string objects, as their state cannot be altered by concurrent threads.\n",
    "Hashing and Dictionary Keys:\n",
    "Immutable objects can be reliably hashed, making them suitable for use as keys in dictionaries and elements in sets. If strings were mutable, their hash value could change, leading to inconsistencies and errors when retrieving elements from hash-based collections.\n"
   ]
  },
  {
   "cell_type": "markdown",
   "id": "c486976b-93d7-475b-9a44-ba02598f8ade",
   "metadata": {},
   "source": [
    "## What advantages do dictionaries offer over lists for certain tasks?\n",
    "Ans: Dictionaries provide:\n",
    "Faster data retrieval through key-based access (O(1) time complexity).Clear association between keys and values, which improves readability.\n",
    "Better organization when data is related via unique identifiers. In contrast, lists require searching through elements sequentially (O(n) time complexity), which is less efficient for lookups. Dictionaries allow fast access to data via keys, making them highly efficient for lookup tasks.\n",
    "Advantages:\n",
    "Fast Access: Dictionary access is O(1), versus O(n) for list search.\n",
    "Key-value Mapping: Useful for structured data.\n",
    "Semantic Clarity: Keys describe the meaning of values better than indices.\n",
    "Example:\n",
    " Using list\n",
    "student = ['Praful', 21, 'B'] \n",
    " Using dictionary (more readable)\n",
    "student = {'name': 'Prafl Thakur', 'age': 21, 'grade': 'B'}\n"
   ]
  },
  {
   "cell_type": "markdown",
   "id": "a0b9ec39-5ed6-4f65-870b-1fd41c44699c",
   "metadata": {},
   "source": [
    "## Describe a scenario where using a tuple would be preferable over a list?\n",
    "Ans: Data must remain constant, ensuring no accidental changes (e.g., coordinates: (x, y)). The collection is used as a key in a dictionary because only immutable objects can serve as dictionary keys. Performance is a concern, as tuples have slightly faster access and lower memory usage compared to lists. Example: storing GPS coordinates: location = (40.7128, -74.0060)\n",
    "Use a list if you need a mutable collection of items where you may need to add, remove, or change elements. Lists are more flexible and have more built-in methods, making them ideal for dynamic collections. Use a tuple if you need an immutable collection where the elements won't change after creation. Why a Tuple is Better Here:\n",
    "\n",
    "Immutability: Coordinates shouldn't accidentally change, ensuring data integrity.\n",
    "\n",
    "Semantic Meaning: Using a tuple signals that the collection is fixed-size and ordered.\n",
    "\n",
    "Hashable: Tuples can be used as keys in dictionaries or elements of a set, unlike lists. Tuples are slightly more memory and performance efficient than lists for fixed data.\n"
   ]
  },
  {
   "cell_type": "markdown",
   "id": "ca9582e5-362d-4b9b-aa0c-6b8aa270441a",
   "metadata": {},
   "source": [
    "# How do sets handle duplicate values in Python? \n",
    "Ans: Sets automatically eliminate duplicates. When elements are added to a set, Python internally ensures that each element is unique. If a duplicate is added, it is ignored. This behavior is based on hash values that Python computes for set elements.\n",
    "Example: set_example = {1, 2, 2, 3, 4} Result: {1, 2, 3, 4}\n",
    "\n",
    "Benefits:\n",
    "1. Efficient Data Storage: Sets can store large amounts of data without duplicating values, making them memory-efficient.\n",
    "2. Fast Lookups: Sets enable fast lookups, with an average time complexity of O(1).\n",
    "3. Easy Data Manipulation: Sets provide various methods for manipulating data, such as union, intersection, and difference.\n",
    "\n",
    "Sets are commonly used in various scenarios:\n",
    "\n",
    "1. Data Analysis: Sets can be used to remove duplicates from large datasets.\n",
    "2. Data Validation: Sets can be used to validate data by checking for uniqueness.\n",
    "3. Algorithm Optimization: Sets can be used to optimize algorithms by reducing the number of duplicate operations\n"
   ]
  },
  {
   "cell_type": "markdown",
   "id": "3781205f-0206-46c1-8dea-4b4c1ba4ded5",
   "metadata": {},
   "source": [
    "## How does the \"in\" keyword work differently for lists and dictionaries?\n",
    "Ans: The Python in keyword is a membership operator used to check if a value is present in a collection. However, its behavior and underlying implementation differ significantly when used with lists versus dictionaries, especially concerning performance:\n",
    "1)For lists: in checks if a specific value exists in the list by iterating through each element.\n",
    "2)For dictionaries: in checks if the specified value exists as a key, not a value.\n",
    "-Example: my_list = [1, 2, 3]; 2 in my_list ➡ True my_dict = {'a': 1, 'b': 2}; 'a' in my_dict ➡ True\n",
    "Key differences in summary :\n",
    "Feature\tList\tDictionary\n",
    "What is checks\tPresence of an elements (value)\tPresence in key\n",
    "Search Type\t Linear search (sequential) \tHash table lookup\n",
    "Time Complexity\tO(n) (average)\tO(1) (average)\n",
    "\n",
    "\t\t\n",
    "In short, the in keyword efficiently checks for the existence of elements in lists using a linear scan and provides nearly constant-time lookup for keys in dictionaries thanks to their hash table implementation.\n"
   ]
  },
  {
   "cell_type": "markdown",
   "id": "6d5d27a5-aba2-487d-8896-d93bce37ae89",
   "metadata": {},
   "source": [
    "## Can you modify the elements of a tuple? Explain why or why not?\n",
    "Ans:No, you cannot modify the elements of a tuple because tuples are immutable. Once created, the elements and their order are fixed. Attempting to change an element raises a Type Error.\n",
    "Reason:\n",
    "Tuples in Python are immutable, which means their content cannot be changed after they are created. Once a tuple is defined, you cannot: Add new elements, Remove existing elements, and Change the value of an existing element at a specific index.\n",
    "Attempting to perform any of these operations directly on a tuple will result in a TypeError.\n",
    "Workaround for \"modifying\" tuples:\n",
    "While you cannot directly modify a tuple, you can achieve a similar effect by creating a new tuple with the desired changes. This is typically done by:\n",
    "Converting the tuple to a list: Lists are mutable, so you can perform modifications on the list.\n",
    "Making the necessary changes to the list.\n",
    "Converting the modified list back into a new tuple.\n"
   ]
  },
  {
   "cell_type": "code",
   "execution_count": null,
   "id": "22f6cf31-03e0-4237-8097-ceba1fea3f20",
   "metadata": {},
   "outputs": [],
   "source": [
    "What is a nested dictionary, and give an example of its use case? \n",
    "Ans: A nested dictionary in Python is a dictionary where the values of one or more keys are themselves other dictionaries. This allows you to represent hierarchical or tree-like data structures where information is organized in multiple levels. \n",
    "Example: students = { 'John': {'age': 21, 'grade': 'A'}, 'Alice': {'age': 22, 'grade': 'B'} }\n",
    "\n",
    "Use case: \n",
    "1.\tRepresenting student records, organizational hierarchies, or configuration settings.\n",
    "\n",
    "2.\tNested dictionaries are ideal for organizing data that has multiple layers or hierarchical relationships, such as data from APIs, configuration settings, or game state management.\n",
    "\n",
    "\n",
    "3.\tYou can access elements within a nested dictionary by chaining keys using square bracket notation.\n",
    "\n",
    "4.\tYou can also modify elements, add new ones, or delete them in a nested dictionary using similar methods as regular dictionaries.\n"
   ]
  }
 ],
 "metadata": {
  "kernelspec": {
   "display_name": "Python 3 (ipykernel)",
   "language": "python",
   "name": "python3"
  },
  "language_info": {
   "codemirror_mode": {
    "name": "ipython",
    "version": 3
   },
   "file_extension": ".py",
   "mimetype": "text/x-python",
   "name": "python",
   "nbconvert_exporter": "python",
   "pygments_lexer": "ipython3",
   "version": "3.13.5"
  }
 },
 "nbformat": 4,
 "nbformat_minor": 5
}
