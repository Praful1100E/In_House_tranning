{
 "cells": [
  {
   "cell_type": "code",
   "execution_count": 1,
   "id": "810bb1ea-b892-4ad9-87ac-9cfe79341acc",
   "metadata": {},
   "outputs": [
    {
     "name": "stdout",
     "output_type": "stream",
     "text": [
      "Praful Thakur\n"
     ]
    }
   ],
   "source": [
    "#Question 1: Code to create a string with your name and print it.\n",
    "name = \"Praful Thakur\"\n",
    "print(name)"
   ]
  },
  {
   "cell_type": "code",
   "execution_count": 2,
   "id": "54749a22-dac3-4a3c-b755-cb4d0879e31c",
   "metadata": {},
   "outputs": [
    {
     "name": "stdout",
     "output_type": "stream",
     "text": [
      "11\n"
     ]
    }
   ],
   "source": [
    "#Question 2 code to find the length of the string.\n",
    "string = \"Hello World\"\n",
    "print(len(string))"
   ]
  },
  {
   "cell_type": "code",
   "execution_count": 3,
   "id": "0d6edff4-6e07-46a2-bd20-ac5593c4138e",
   "metadata": {},
   "outputs": [
    {
     "name": "stdout",
     "output_type": "stream",
     "text": [
      "Py\n"
     ]
    }
   ],
   "source": [
    "#Question 3 code to slice the first 3 character from the string \"Python Programming\"\n",
    "slicing = \"Python Programing\"\n",
    "c = slicing[:3]\n",
    "print(c)"
   ]
  },
  {
   "cell_type": "code",
   "execution_count": 6,
   "id": "c268113e-1c85-483c-9ac2-a29bc99f7be0",
   "metadata": {},
   "outputs": [
    {
     "name": "stdout",
     "output_type": "stream",
     "text": [
      "HELLO BACHO\n"
     ]
    }
   ],
   "source": [
    "#Question 4 code to create a string into upper case\n",
    "st = \"Hello Bacho\"\n",
    "print(st.upper())"
   ]
  },
  {
   "cell_type": "code",
   "execution_count": 22,
   "id": "6c3bf881-2d5a-498c-868d-bc6fbc55ae12",
   "metadata": {},
   "outputs": [
    {
     "name": "stdout",
     "output_type": "stream",
     "text": [
      "Apple,Bananas,Mangos\n",
      "<built-in function len>\n",
      "<class 'str'>\n"
     ]
    }
   ],
   "source": [
    "#Question 5 replacing the word in a string\n",
    "fruit = \"Apple,Bananas,Mangos\"\n",
    "new = fruit.replace(\"Apple\",\"Orange\")\n",
    "print(fruit)\n",
    "print(len(new))\n",
    "print(type(new))"
   ]
  },
  {
   "cell_type": "code",
   "execution_count": 2,
   "id": "39bc33ca-93f7-4926-a5ba-122ad1e020dd",
   "metadata": {},
   "outputs": [
    {
     "name": "stdout",
     "output_type": "stream",
     "text": [
      "[1, 2, 3, 4, 5]\n",
      "<class 'list'>\n"
     ]
    }
   ],
   "source": [
    "#Question 6 code to create a list with number 1 to 5 and print it\n",
    "num = [1,2,3,4,5]\n",
    "print(num)\n",
    "print(type(num))"
   ]
  },
  {
   "cell_type": "code",
   "execution_count": 4,
   "id": "0e0fc01b-b70f-4943-8a49-2d87e4c6d9a7",
   "metadata": {},
   "outputs": [
    {
     "name": "stdout",
     "output_type": "stream",
     "text": [
      "[1, 2, 3, 4, 10]\n"
     ]
    }
   ],
   "source": [
    "#Question 7 code to append the number in the list.\n",
    "lis_t = [1,2,3,4]\n",
    "lis_t.append(10)\n",
    "print(lis_t)"
   ]
  },
  {
   "cell_type": "code",
   "execution_count": 21,
   "id": "7a7e1960-15b4-42f3-b207-0d5e89c33251",
   "metadata": {},
   "outputs": [
    {
     "name": "stdout",
     "output_type": "stream",
     "text": [
      "[1, 2, 4, 5]\n"
     ]
    }
   ],
   "source": [
    "#Question 8 code to remove the number from the list\n",
    "num = [1,2,3,4,5]\n",
    "new = num\n",
    "new.remove(3)\n",
    "#num.pop(2) pop is use to remove item base on the index number\n",
    "print(new)"
   ]
  },
  {
   "cell_type": "code",
   "execution_count": 14,
   "id": "0ea9634e-c0c3-4a44-9170-a980800a622c",
   "metadata": {},
   "outputs": [
    {
     "name": "stdout",
     "output_type": "stream",
     "text": [
      "b\n"
     ]
    }
   ],
   "source": [
    "#Question 9 code to access the second elementin the list\n",
    "list_ = [\"a\",\"b\",\"c\",\"d\",\"e\"]\n",
    "second_element = list_[1]\n",
    "print(second_element)"
   ]
  },
  {
   "cell_type": "code",
   "execution_count": 28,
   "id": "85c78d4e-5c5a-44a7-9ac4-b5bfe778d542",
   "metadata": {},
   "outputs": [
    {
     "name": "stdout",
     "output_type": "stream",
     "text": [
      "[50, 40, 30, 20, 10]\n"
     ]
    }
   ],
   "source": [
    "#Question 10 code to reverse the list,\n",
    "list_ = [10,20,30,40,50]\n",
    "print(list_[::-1])"
   ]
  }
 ],
 "metadata": {
  "kernelspec": {
   "display_name": "Python 3 (ipykernel)",
   "language": "python",
   "name": "python3"
  },
  "language_info": {
   "codemirror_mode": {
    "name": "ipython",
    "version": 3
   },
   "file_extension": ".py",
   "mimetype": "text/x-python",
   "name": "python",
   "nbconvert_exporter": "python",
   "pygments_lexer": "ipython3",
   "version": "3.13.5"
  }
 },
 "nbformat": 4,
 "nbformat_minor": 5
}
