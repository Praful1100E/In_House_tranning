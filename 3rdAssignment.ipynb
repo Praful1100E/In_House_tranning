{
 "cells": [
  {
   "cell_type": "markdown",
   "id": "dd3e0ff0-81a1-4f66-bbb0-c087cbc4e740",
   "metadata": {},
   "source": [
    "# Third Assignment"
   ]
  },
  {
   "cell_type": "markdown",
   "id": "8ff15f10-a1cb-4fde-a7b8-a431e24da16c",
   "metadata": {
    "jp-MarkdownHeadingCollapsed": true
   },
   "source": [
    "## Question 1:- Write the difference between function and Method in python."
   ]
  },
  {
   "cell_type": "markdown",
   "id": "bd56c43f-cf61-4cd5-93b2-616073942b28",
   "metadata": {},
   "source": [
    "## Python Method :-\n",
    "### 1. Method is called by its name, but it is associated to an object (dependent).\n",
    "### 2. A method definition always includes 'self' as its first parameter.\n",
    "### 3. A method is implicitly passed to the object on which it is invoked.\n",
    "### 4. It may or may not return any data.\n",
    "### 5. A method can operate on the data (instance variables) that is contained by the corresponding class "
   ]
  },
  {
   "cell_type": "markdown",
   "id": "e94d9dc8-dd71-4dd6-bbc5-64be863a4f43",
   "metadata": {},
   "source": [
    "## Example:-"
   ]
  },
  {
   "cell_type": "code",
   "execution_count": null,
   "id": "5db464e5-e7fb-408b-84a6-fdf2d19b9055",
   "metadata": {},
   "outputs": [],
   "source": [
    "# Basic Python method \n",
    "class class_name\n",
    "    def method_name ():\n",
    "        ......\n",
    "        # method body\n",
    "        ......"
   ]
  },
  {
   "cell_type": "markdown",
   "id": "8d82e872-55d5-428f-93a2-f2c46570d544",
   "metadata": {},
   "source": [
    "### User Defind"
   ]
  },
  {
   "cell_type": "code",
   "execution_count": null,
   "id": "8630c04a-172d-4441-a656-359e2da32f7b",
   "metadata": {},
   "outputs": [],
   "source": [
    "# Python 3  User-Defined  Method\n",
    "class ABC :\n",
    "    def method_abc (self):\n",
    "        print(\"I am in method_abc of ABC class. \")\n",
    "\n",
    "class_ref = ABC() # object of ABC class\n",
    "class_ref.method_abc()"
   ]
  },
  {
   "cell_type": "markdown",
   "id": "54e5fa37-29f5-4cb4-9279-c6e482e462ee",
   "metadata": {},
   "source": [
    "### Output:- I am in method_abc of ABC class."
   ]
  },
  {
   "cell_type": "markdown",
   "id": "b61e6351-a914-441f-a229-1a2667581d91",
   "metadata": {},
   "source": [
    "## Functions:-\n",
    "### 1. Function is block of code that is also called by its name. (independent)\n",
    "### 2. The function can have different parameters or may not have any at all. If any data (parameters) are passed, they are passed explicitly.\n",
    "### 3. It may or may not return any data.\n",
    "### 4. Function does not deal with Class and its instance concept."
   ]
  },
  {
   "cell_type": "markdown",
   "id": "054d69c5-c0cd-4bc0-b578-18da2f1ea3ef",
   "metadata": {},
   "source": [
    "## Example:-"
   ]
  },
  {
   "cell_type": "code",
   "execution_count": null,
   "id": "71c88679-8110-4bad-b798-2c5430f5ecd3",
   "metadata": {},
   "outputs": [],
   "source": [
    "def function_name ( arg1, arg2, ...) :\n",
    "    ......\n",
    "    # function body\n",
    "    ......"
   ]
  },
  {
   "cell_type": "markdown",
   "id": "655db3bb-922d-4ac6-8b76-0f21f8c3d0fe",
   "metadata": {},
   "source": [
    "### User defind:-"
   ]
  },
  {
   "cell_type": "code",
   "execution_count": 3,
   "id": "a4bdd45b-d809-4eaa-b729-3017618931d3",
   "metadata": {},
   "outputs": [
    {
     "name": "stdout",
     "output_type": "stream",
     "text": [
      "-2\n",
      "9\n"
     ]
    }
   ],
   "source": [
    "def Subtract (a, b):\n",
    "    return (a-b)\n",
    "\n",
    "print( Subtract(10, 12) ) # prints -2\n",
    "\n",
    "print( Subtract(15, 6) ) # prints 9"
   ]
  },
  {
   "cell_type": "markdown",
   "id": "cbb2267a-eec9-48ab-9d98-8b1a4947d03d",
   "metadata": {},
   "source": [
    "## Simple Difference between method and function\n",
    "\n",
    "### 1. Simply, function and method both look similar as they perform in almost similar way, but the key difference is the concept of 'Class and its Object'.\n",
    "### 2. Functions can be called only by its name, as it is defined independently. But methods can't be called by its name only, we need to invoke the class by a reference of that class in which it is defined, i.e. method is defined within a class and hence they are dependent on that class.\n"
   ]
  },
  {
   "cell_type": "markdown",
   "id": "4e89f875-65a3-4c83-a759-83c56b9179d3",
   "metadata": {
    "jp-MarkdownHeadingCollapsed": true
   },
   "source": [
    "## Question 2:- Explain the concept of function arguments and a method in python."
   ]
  },
  {
   "cell_type": "markdown",
   "id": "64b970aa-5bf1-4f21-909d-2bfa5b865f0d",
   "metadata": {},
   "source": [
    "##  Function Arguments and Parameters:-\n",
    "### - Arguments: Actual values passed to the function.\n",
    "## - Example:-\n",
    "\n",
    "\n",
    "\n",
    "\n",
    "\n"
   ]
  },
  {
   "cell_type": "code",
   "execution_count": 4,
   "id": "d48bf1da-cb57-4d28-81e2-91d32ed9987e",
   "metadata": {},
   "outputs": [],
   "source": [
    "def add(x, y):  # x and y are parameters\n",
    "    return x + y\n",
    "\n",
    "result = add(3, 5)  # 3 and 5 are arguments\n"
   ]
  },
  {
   "cell_type": "markdown",
   "id": "72303f8e-a802-4873-b027-99712fe7b8a8",
   "metadata": {},
   "source": [
    "## Question 3:- What are the different ways to define and call a function in python."
   ]
  },
  {
   "cell_type": "markdown",
   "id": "84e293df-7f23-43f2-a95b-bfedd4233e56",
   "metadata": {},
   "source": [
    "##  Ways to Define and Call Functions\n",
    "### - Define using def or lambda, and call by their name.\n",
    "## - Examples:\n"
   ]
  },
  {
   "cell_type": "code",
   "execution_count": 5,
   "id": "b16abcb8-8fad-4e89-b355-ced25ceccf70",
   "metadata": {},
   "outputs": [
    {
     "name": "stdout",
     "output_type": "stream",
     "text": [
      "16\n",
      "10\n"
     ]
    }
   ],
   "source": [
    "# Normal function\n",
    "def square(n):\n",
    "    return n ** 2\n",
    "print(square(4))\n",
    "\n",
    "# Lambda function\n",
    "double = lambda x: x * 2\n",
    "print(double(5))"
   ]
  },
  {
   "cell_type": "markdown",
   "id": "2cf188b9-ebe5-49a4-8993-c663cd03eac6",
   "metadata": {},
   "source": [
    "## Question 4:- What is the purpose of the \"return\" statement in the python function."
   ]
  },
  {
   "cell_type": "markdown",
   "id": "0f3915f2-2c42-478f-8bf6-38d28659b12f",
   "metadata": {},
   "source": [
    "##  Purpose of return Statement\n",
    "### - Sends back a value from a function to where it was called.\n",
    "## - Example:\n"
   ]
  },
  {
   "cell_type": "code",
   "execution_count": 6,
   "id": "8a90013d-7bbb-4fd1-a80d-508cf5ddd56b",
   "metadata": {},
   "outputs": [
    {
     "name": "stdout",
     "output_type": "stream",
     "text": [
      "42\n"
     ]
    }
   ],
   "source": [
    "def multiply(a, b):\n",
    "    return a * b\n",
    "\n",
    "result = multiply(6, 7)\n",
    "print(result)"
   ]
  },
  {
   "cell_type": "markdown",
   "id": "5773a083-4188-4afb-b690-d75b2a24f9e6",
   "metadata": {},
   "source": [
    "## Question 5:- What are iterates in python and how do they differ from iterables."
   ]
  },
  {
   "cell_type": "markdown",
   "id": "d5f6f693-3e7b-4834-9547-1c1857c8fda4",
   "metadata": {},
   "source": [
    "## Iterators vs. Iterables\n",
    "### - Iterable: Something you can loop over (e.g., list).\n",
    "### - Iterator: An object with a __next__() method to get items one at a time.\n",
    "## - Example:\n"
   ]
  },
  {
   "cell_type": "code",
   "execution_count": 7,
   "id": "3ac86d51-4a77-4669-b942-f1030792fe06",
   "metadata": {},
   "outputs": [
    {
     "name": "stdout",
     "output_type": "stream",
     "text": [
      "1\n"
     ]
    }
   ],
   "source": [
    "nums = [1, 2, 3]  # iterable\n",
    "it = iter(nums)   # iterator\n",
    "print(next(it))   # 1"
   ]
  },
  {
   "cell_type": "markdown",
   "id": "fc3c3617-8fc9-4ce5-b4a1-9cdaae202848",
   "metadata": {},
   "source": [
    "## Question 6:- Explain the concept of generators in python and how they are defined.  "
   ]
  },
  {
   "cell_type": "markdown",
   "id": "c422e9d0-65b5-4fdb-a8b4-aba89ac67f0d",
   "metadata": {},
   "source": [
    "##  Generators and Their Definition\n",
    "### - Used to generate items lazily using yield instead of return.\n",
    "## - Example:\n"
   ]
  },
  {
   "cell_type": "code",
   "execution_count": 8,
   "id": "c2b831c6-6c2c-4776-ab6f-10e2cb74c417",
   "metadata": {},
   "outputs": [
    {
     "name": "stdout",
     "output_type": "stream",
     "text": [
      "3\n",
      "2\n",
      "1\n"
     ]
    }
   ],
   "source": [
    "def countdown(n):\n",
    "    while n > 0:\n",
    "        yield n\n",
    "        n -= 1\n",
    "\n",
    "for i in countdown(3):\n",
    "    print(i)"
   ]
  },
  {
   "cell_type": "markdown",
   "id": "0dc82808-32c6-4a3a-9a8c-4159a30c571b",
   "metadata": {},
   "source": [
    "## Question 7:- What are the advantages of using generators over regular function."
   ]
  },
  {
   "cell_type": "markdown",
   "id": "3b860eb9-995e-4fc9-aa32-6682dac439d8",
   "metadata": {},
   "source": [
    "## Advantages of Generators\n",
    "### - Memory efficient, as they don’t store all items at once.\n",
    "### - Useful for large datasets or infinite sequences.\n",
    "## - Example:\n"
   ]
  },
  {
   "cell_type": "code",
   "execution_count": 10,
   "id": "687bbfcc-89f0-401b-80d8-58e00c8833c7",
   "metadata": {},
   "outputs": [],
   "source": [
    "def infinite_numbers():\n",
    "    n = 0\n",
    "    while True:\n",
    "        yield n\n",
    "        n += 1"
   ]
  },
  {
   "cell_type": "markdown",
   "id": "84958fa3-840e-41fa-ac56-487b0f290f49",
   "metadata": {},
   "source": [
    "## Question 8:- What is lambda function in python and when is it typically used?? "
   ]
  },
  {
   "cell_type": "markdown",
   "id": "1688fa45-8a0f-4372-85f3-8a95246cb852",
   "metadata": {},
   "source": [
    "##  Lambda Function\n",
    "### - A small anonymous function defined with lambda.\n",
    "### - Best used for short, simple operations.\n",
    "## - Example:\n",
    "\n",
    "\n",
    "\n",
    "\n",
    "\n"
   ]
  },
  {
   "cell_type": "code",
   "execution_count": 11,
   "id": "16084e2f-adb9-4d58-a417-370fdde3f111",
   "metadata": {},
   "outputs": [
    {
     "name": "stdout",
     "output_type": "stream",
     "text": [
      "5\n"
     ]
    }
   ],
   "source": [
    "add = lambda a, b: a + b\n",
    "print(add(3, 2))"
   ]
  },
  {
   "cell_type": "markdown",
   "id": "c19955c3-a486-4d6f-bdf9-7c9555a71bac",
   "metadata": {},
   "source": [
    "## Question 9:- Explain the purpose and usage of the \"map()\" function in python."
   ]
  },
  {
   "cell_type": "markdown",
   "id": "04047e69-f43c-420f-a26f-55c206b2878e",
   "metadata": {},
   "source": [
    "## map() Function\n",
    "### - Applies a function to every item in an iterable.\n",
    "## - Example:\n",
    "\n",
    "\n",
    "\n",
    "\n",
    "\n"
   ]
  },
  {
   "cell_type": "code",
   "execution_count": 12,
   "id": "8ea94a21-a34c-42eb-9d3a-38506609f6b2",
   "metadata": {},
   "outputs": [
    {
     "name": "stdout",
     "output_type": "stream",
     "text": [
      "[1, 4, 9]\n"
     ]
    }
   ],
   "source": [
    "nums = [1, 2, 3]\n",
    "squared = list(map(lambda x: x**2, nums))\n",
    "print(squared)  # [1, 4, 9]\n"
   ]
  },
  {
   "cell_type": "markdown",
   "id": "0b9e7430-2960-4550-9bf4-cc9181fb0155",
   "metadata": {},
   "source": [
    "## Question 10:- What is the difference between 'map()' , 'reduce()' and 'filter()' function in python?"
   ]
  },
  {
   "cell_type": "markdown",
   "id": "705b0c98-4d8a-4ed0-b6f4-d11703e19574",
   "metadata": {},
   "source": [
    "##  map() vs. reduce() vs. filter()\n",
    "### 1. Function:- map() \n",
    "### Purpose:- Transform each item \n",
    "## Example:- \n",
    "### map(lambda x: x+1, [1,2,3]) → [2,3,4]\n",
    "### 2. Function:- filter()\n",
    "### Purpose:- Keep items that match condition.\n",
    "## Example:- \n",
    "### filter(lambda x:x>2,[1,2,3]) → [3]\n",
    "### 3. Function:- reduce()\n",
    "### Purpose:- Aggregate to single result.\n",
    "## Example:- \n",
    "### reduce(lambda x,y:x+y,[1,2,3] →[6]\n",
    "\n",
    "## Note: reduce() needs to be imported from functools.\n"
   ]
  },
  {
   "cell_type": "code",
   "execution_count": null,
   "id": "60630db2-182b-4f0f-a06a-05fd53f4276f",
   "metadata": {},
   "outputs": [],
   "source": []
  }
 ],
 "metadata": {
  "kernelspec": {
   "display_name": "Python 3 (ipykernel)",
   "language": "python",
   "name": "python3"
  },
  "language_info": {
   "codemirror_mode": {
    "name": "ipython",
    "version": 3
   },
   "file_extension": ".py",
   "mimetype": "text/x-python",
   "name": "python",
   "nbconvert_exporter": "python",
   "pygments_lexer": "ipython3",
   "version": "3.13.5"
  }
 },
 "nbformat": 4,
 "nbformat_minor": 5
}
