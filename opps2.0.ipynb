{
 "cells": [
  {
   "cell_type": "markdown",
   "id": "5aa35f2e-63ed-43f1-9099-d0ccb1a678f8",
   "metadata": {},
   "source": [
    "# 1. What is OOP's "
   ]
  },
  {
   "cell_type": "markdown",
   "id": "9d29ebf0-44db-454a-b282-110f6f4d4712",
   "metadata": {},
   "source": [
    "1. oops is process of writting the code.\n",
    "2. We write code in the form of object and classis.\n",
    "3. OOP's promotes code reusability."
   ]
  },
  {
   "cell_type": "markdown",
   "id": "1e6c2a97-608a-4380-b5a6-4a0e41dc6282",
   "metadata": {},
   "source": [
    "# 2. What is a class in oops"
   ]
  },
  {
   "cell_type": "markdown",
   "id": "1b9835e9-586c-41c9-9db9-9c312c593d16",
   "metadata": {},
   "source": [
    "- A class is the the blue print for creating object.it define attributes and methodes that it sobject will have."
   ]
  },
  {
   "cell_type": "code",
   "execution_count": 9,
   "id": "6a0bd58e-8d17-4070-bc18-499061256777",
   "metadata": {},
   "outputs": [
    {
     "name": "stdout",
     "output_type": "stream",
     "text": [
      "BMW\n"
     ]
    }
   ],
   "source": [
    "class Car:\n",
    "    def __init__(self,brand):\n",
    "     self.brand=brand\n",
    "s1 = Car(\"BMW\")\n",
    "print(s1.brand)"
   ]
  },
  {
   "cell_type": "markdown",
   "id": "5cfbc4e6-3169-4770-8302-a762acf1869d",
   "metadata": {},
   "source": [
    "# 3. What is the object in Python"
   ]
  },
  {
   "cell_type": "markdown",
   "id": "de8e6b89-1557-43f3-9d17-e08920211d3f",
   "metadata": {},
   "source": [
    "- An object is an instance of a class.It is represent a specific entity with values assigned to class properties.\n",
    "- car1 = car(\"Toyota\")"
   ]
  },
  {
   "cell_type": "markdown",
   "id": "8acf8206-f2e9-4993-9f12-d4260df62dad",
   "metadata": {},
   "source": [
    "# 4. Difference b/w Abstraction and encapsulation"
   ]
  },
  {
   "cell_type": "markdown",
   "id": "b0ed18e7-6ffa-4f54-b0b1-0454804e9e1c",
   "metadata": {},
   "source": [
    "- Abstraction hides implementation details and shows only essential features.\n",
    "   - In simple worlds  Logic will hides and main data is show only.\n",
    "- Encapsulation "
   ]
  },
  {
   "cell_type": "markdown",
   "id": "1295fa3e-bf5e-4715-9ab3-32f4030c71d6",
   "metadata": {},
   "source": [
    "# 5. What are dunder methods in Python"
   ]
  },
  {
   "cell_type": "markdown",
   "id": "1e75ef3c-f13a-467d-8dc0-2d1404e24d0e",
   "metadata": {},
   "source": [
    "Dunder(double underscore) method like __init__,__str__ and __len__ are special methode used to customize class behavior."
   ]
  },
  {
   "cell_type": "markdown",
   "id": "00f50455-abef-4161-af4c-8edad4a3edda",
   "metadata": {},
   "source": [
    "# 6. explain the concept of inheritance in oops."
   ]
  },
  {
   "cell_type": "markdown",
   "id": "d66bceb2-fc50-4b5b-85e9-2615141fd4f7",
   "metadata": {},
   "source": [
    "- Inheritance allows a class to acquire properties and methods from another clas(parent).Promotes code resubilty.\n"
   ]
  },
  {
   "cell_type": "code",
   "execution_count": 1,
   "id": "6d23a0a3-b666-4898-804d-cd4295d52e2c",
   "metadata": {},
   "outputs": [],
   "source": [
    "class Animal:\n",
    "    def speak(self):\n",
    "        print(\"Animal speaks\")\n",
    "\n",
    "class Dog(Animal):\n",
    "    def bark(self):\n",
    "        print(\"Dog barks\")"
   ]
  },
  {
   "cell_type": "markdown",
   "id": "e0594923-6d62-48d6-9751-80b9220bf496",
   "metadata": {},
   "source": [
    "# 7. What is poymorphism i oops"
   ]
  },
  {
   "cell_type": "markdown",
   "id": "bf349231-0957-4bd5-9996-d16491d6b88b",
   "metadata": {},
   "source": [
    "- Poymorphism mean same name and didderent property"
   ]
  },
  {
   "cell_type": "code",
   "execution_count": null,
   "id": "12c5dbe5-b865-4a53-9e05-8f1130eb635b",
   "metadata": {},
   "outputs": [],
   "source": []
  },
  {
   "cell_type": "markdown",
   "id": "e24837fd-aefb-47ee-bbf8-a39ea6304240",
   "metadata": {},
   "source": [
    "# 8. Encapsulation"
   ]
  },
  {
   "cell_type": "markdown",
   "id": "09392e3f-a190-4177-a856-4616b3052fa2",
   "metadata": {},
   "source": [
    "-Using private (`__var`) and protected (`_var`) access modifiers to restrict access to class members."
   ]
  },
  {
   "cell_type": "markdown",
   "id": "474f94dc-28ac-47fb-bf22-f51ad989e068",
   "metadata": {},
   "source": [
    "# 9. What is a constructor in Python?\n",
    "A constructor is a special method `__init__()` that initializes an object’s state."
   ]
  },
  {
   "cell_type": "code",
   "execution_count": 2,
   "id": "fd3ac386-c113-48dc-a916-c2acd674d7a4",
   "metadata": {},
   "outputs": [
    {
     "name": "stdout",
     "output_type": "stream",
     "text": [
      "ADDING NEW STUDENT IN DATA BASE.....\n",
      "Praful\n"
     ]
    }
   ],
   "source": [
    "# __init__ constructure \n",
    "class Name:\n",
    "    def __init__(self,fullname):\n",
    "        self.name = fullname\n",
    "        print(\"ADDING NEW STUDENT IN DATA BASE.....\")\n",
    "s1 = Name(\"Praful\")\n",
    "print(s1.name)"
   ]
  },
  {
   "cell_type": "markdown",
   "id": "ebbf35f3-bd08-4a65-bf11-af5774d3fb43",
   "metadata": {},
   "source": [
    "### 10. What are class and static methods in Python?\n",
    "- 1. Class Methods\n",
    "- Definition: A method that operates on the class itself rather than an instance of the class.\n",
    ". Decorator: @classmethod\n",
    "First Parameter: Always takes cls (the class itself) as the first argument.\n",
    "Use Case: Useful for factory methods or when you need to modify or access class-level data.\n"
   ]
  },
  {
   "cell_type": "code",
   "execution_count": 4,
   "id": "79ed071e-2019-484c-ae80-a199d8976001",
   "metadata": {},
   "outputs": [
    {
     "name": "stdout",
     "output_type": "stream",
     "text": [
      "Accessing: Hello, Class!\n"
     ]
    }
   ],
   "source": [
    "class MyClass:\n",
    "    class_variable = \"Hello, Class!\"\n",
    "\n",
    "    @classmethod\n",
    "    def class_method(cls):\n",
    "        return f\"Accessing: {cls.class_variable}\"\n",
    "\n",
    "print(MyClass.class_method())  # Output: Accessing: Hello, Class!\n"
   ]
  },
  {
   "cell_type": "markdown",
   "id": "04ea3a12-8896-43dd-859f-4ea6ce04fc07",
   "metadata": {},
   "source": [
    " Static Methods\n",
    "- Definition: A method that does not depend on the class or instance. It behaves like a regular function but is part of the class's namespace.\n",
    "- Decorator: @staticmethod\n",
    "- First Parameter: Does not take self or cls as the first argument.\n",
    "- Use Case: Useful for utility functions that logically belong to the class but don't need access to class or instance data."
   ]
  },
  {
   "cell_type": "code",
   "execution_count": 5,
   "id": "5f2ee60e-a1ed-4fbf-9b79-666f9cfc0dff",
   "metadata": {},
   "outputs": [
    {
     "name": "stdout",
     "output_type": "stream",
     "text": [
      "8\n"
     ]
    }
   ],
   "source": [
    "class MyClass:\n",
    "    @staticmethod\n",
    "    def static_method(x, y):\n",
    "        return x + y\n",
    "\n",
    "print(MyClass.static_method(5, 3))  # Output: 8\n"
   ]
  },
  {
   "cell_type": "markdown",
   "id": "7d82775e-8ffb-4eb1-ab8b-d21994b8fbc0",
   "metadata": {},
   "source": [
    "### 11. What is method overloading in Python?\n",
    "\n",
    " - Using Variable-Length Arguments (*args)\n",
    "  - You can use *args to accept a variable number of arguments."
   ]
  },
  {
   "cell_type": "code",
   "execution_count": 7,
   "id": "b29e41fc-51f3-4373-981c-39eddca3088b",
   "metadata": {},
   "outputs": [
    {
     "name": "stdout",
     "output_type": "stream",
     "text": [
      "5\n",
      "15\n",
      "30\n"
     ]
    }
   ],
   "source": [
    "class Calculator:\n",
    "    def add(self, *args):\n",
    "        return sum(args)\n",
    "\n",
    "calc = Calculator()\n",
    "print(calc.add(5))         # Output: 5\n",
    "print(calc.add(5, 10))     # Output: 15\n",
    "print(calc.add(5, 10, 15)) # Output: 30\n"
   ]
  },
  {
   "cell_type": "markdown",
   "id": "6a41e5f7-9259-40e9-bff5-2cdb759d7029",
   "metadata": {},
   "source": [
    "- Using Default Arguments\n",
    "- You can define a method with default parameter values to handle different cases."
   ]
  },
  {
   "cell_type": "code",
   "execution_count": 9,
   "id": "60e1992c-d7c8-44dc-b585-42cc0a73216b",
   "metadata": {},
   "outputs": [
    {
     "name": "stdout",
     "output_type": "stream",
     "text": [
      "5\n",
      "15\n",
      "30\n"
     ]
    }
   ],
   "source": [
    "class Calculator:\n",
    "    def add(self, a, b=0, c=0):\n",
    "        return a + b + c\n",
    "\n",
    "calc = Calculator()\n",
    "print(calc.add(5))         # Output: 5\n",
    "print(calc.add(5, 10))     # Output: 15\n",
    "print(calc.add(5, 10, 15)) # Output: 30\n"
   ]
  },
  {
   "cell_type": "markdown",
   "id": "67080017-c026-4c3a-b934-b237879d66f9",
   "metadata": {},
   "source": [
    "### 12. What is method overriding in OOP?\n",
    "When a subclass provides a specific implementation of a method already defined in the superclass.\n",
    "- Method overriding is a fundamental concept in object-oriented programming that allows a subclass to provide a specific implementation of a method that is already defined in its superclass. This enables dynamic behavior and runtime polymorphism, where the method executed is determined by the actual object type, not the reference type."
   ]
  },
  {
   "cell_type": "markdown",
   "id": "c279cfb6-637b-4d2c-8a80-153e6135a74e",
   "metadata": {},
   "source": [
    "### 13. What is a property decorator in Python?\n",
    "It allows you to define getter, setter, and deleter methods using `@property`.\n"
   ]
  },
  {
   "cell_type": "code",
   "execution_count": 3,
   "id": "35c565d4-7d42-46d3-ab4b-92b8c464ccf5",
   "metadata": {},
   "outputs": [],
   "source": [
    "class Person:\n",
    "    def __init__(self, age):\n",
    "        self._age = age\n",
    "\n",
    "    @property\n",
    "    def age(self):\n",
    "        return self._age"
   ]
  },
  {
   "cell_type": "markdown",
   "id": "f2db2645-5dbc-41c6-8839-c45c7f19da32",
   "metadata": {},
   "source": [
    "### 14. Why is polymorphism important in OOP?\n",
    "\n",
    "- It allows flexibility and makes code extensible by using common interfaces for multiple forms.\n",
    "Key Principles of Polymorphism\n",
    "\n",
    "1.Dynamic Behavior: Polymorphism allows the same method or operation to behave differently depending on the object's actual type at runtime.\n",
    "\n",
    "2.Code Reusability: It promotes cleaner and more reusable code by enabling methods to work with objects of different types through a common interface or superclass.\n",
    "\n",
    "3.Flexibility: It allows developers to write more generic and extensible code, as objects can be treated as instances of their parent class or interface."
   ]
  },
  {
   "cell_type": "markdown",
   "id": "c687d78f-03c2-40f5-8d9e-f6c97af92c44",
   "metadata": {},
   "source": [
    "### 15. What is an abstract class in Python?\n",
    "An abstract class is a class with one or more abstract methods using `ABC` and `@abstractmethod`.\n"
   ]
  },
  {
   "cell_type": "code",
   "execution_count": 6,
   "id": "80bc69e5-f809-41f1-b7e5-c4a8625004ee",
   "metadata": {},
   "outputs": [],
   "source": [
    "from abc import ABC, abstractmethod\n",
    "\n",
    "class Animal(ABC):\n",
    "    @abstractmethod\n",
    "    def sound(self):\n",
    "        pass"
   ]
  },
  {
   "cell_type": "markdown",
   "id": "e058288a-c982-4bca-872a-5836098cc803",
   "metadata": {},
   "source": [
    "### 16. What are the advantages of OOP?\n",
    "- Code reusability\n",
    "- Data security (encapsulation)\n",
    "- Real-world modeling\n",
    "- Modularity\n",
    "- Easy maintenance"
   ]
  },
  {
   "cell_type": "markdown",
   "id": "d1c3b402-6d48-41d7-9cf4-c2a8283240c3",
   "metadata": {},
   "source": [
    "### 17. What is the difference between a class variable and an instance variable?\n",
    "- **Class variable**: Shared among all objects.\n",
    "- **Instance variable**: Unique to each object."
   ]
  },
  {
   "cell_type": "markdown",
   "id": "e58b19ed-5f9f-45d7-a1b4-823f90b7d64d",
   "metadata": {},
   "source": [
    "### 18. What is multiple inheritance in Python?\n",
    "When a class inherits from more than one parent class.\n",
    "\n",
    "```python\n",
    "class A: pass\n",
    "class B: pass\n",
    "class C(A, B): pass\n",
    "```"
   ]
  },
  {
   "cell_type": "markdown",
   "id": "9007bbfc-f565-4947-9478-9ac37608cf03",
   "metadata": {},
   "source": [
    "### 19. Explain the purpose of `__str__` and `__repr__` methods in Python.\n",
    "- `__str__` → User-friendly string representation.\n",
    "- `__repr__` → Developer-friendly representation for debugging."
   ]
  },
  {
   "cell_type": "markdown",
   "id": "fb714dc1-e451-4037-9597-9c3d26b0ddb5",
   "metadata": {},
   "source": [
    "### 20. What is the significance of the `super()` function in Python?\n",
    "`super()` is used to call a method from the parent class, especially the constructor."
   ]
  },
  {
   "cell_type": "markdown",
   "id": "038ca147-c28f-4d4e-9dbc-c98304a7c840",
   "metadata": {},
   "source": [
    "### 21. What is the significance of the `__del__` method in Python?\n",
    "It is a destructor called when an object is deleted or goes out of scope."
   ]
  },
  {
   "cell_type": "markdown",
   "id": "34891ff5-bae6-4b1c-a676-c71985922af9",
   "metadata": {},
   "source": [
    "### 22. What is the difference between `@staticmethod` and `@classmethod` in Python?\n",
    "- `@staticmethod` doesn’t take `self` or `cls` and can’t access class or instance data.\n",
    "- `@classmethod` takes `cls` and can access class variables."
   ]
  },
  {
   "cell_type": "markdown",
   "id": "cbf25735-95bd-41a0-9236-97af6f92c7f5",
   "metadata": {},
   "source": [
    "### 23. How does polymorphism work in Python with inheritance?\n",
    "A subclass can override methods from the parent, and you can treat different objects with the same interface."
   ]
  },
  {
   "cell_type": "markdown",
   "id": "d5a22547-9cdf-46cf-a9b7-e9cbfdba7af8",
   "metadata": {},
   "source": [
    "### 24. What is method chaining in Python OOP?\n",
    "Calling multiple methods on the same object in a single line.\n"
   ]
  },
  {
   "cell_type": "code",
   "execution_count": 13,
   "id": "8af9b7d8-fc4c-4c2e-83cc-eb8dac37c575",
   "metadata": {},
   "outputs": [],
   "source": [
    "class Calc:\n",
    "    def add(self, x):\n",
    "        self.val += x\n",
    "        return self"
   ]
  },
  {
   "cell_type": "markdown",
   "id": "45b06605-6176-4f96-9dfc-630b69224c4f",
   "metadata": {},
   "source": [
    "### 25. What is the purpose of the `__call__` method in Python?\n",
    "Makes an object callable like a function."
   ]
  },
  {
   "cell_type": "code",
   "execution_count": 15,
   "id": "813b1482-6a55-4ecc-8662-0fcad8af78a9",
   "metadata": {},
   "outputs": [
    {
     "name": "stdout",
     "output_type": "stream",
     "text": [
      "Hello Praful\n"
     ]
    }
   ],
   "source": [
    "class Greet:\n",
    "    def __call__(self, name):\n",
    "        print(f\"Hello {name}\")\n",
    "\n",
    "g = Greet()\n",
    "g(\"Praful\")  # Output: Hello Praful"
   ]
  },
  {
   "cell_type": "code",
   "execution_count": null,
   "id": "0774c6d0-a867-4260-81db-66e43c63e1db",
   "metadata": {},
   "outputs": [],
   "source": []
  }
 ],
 "metadata": {
  "kernelspec": {
   "display_name": "Python 3 (ipykernel)",
   "language": "python",
   "name": "python3"
  },
  "language_info": {
   "codemirror_mode": {
    "name": "ipython",
    "version": 3
   },
   "file_extension": ".py",
   "mimetype": "text/x-python",
   "name": "python",
   "nbconvert_exporter": "python",
   "pygments_lexer": "ipython3",
   "version": "3.13.5"
  }
 },
 "nbformat": 4,
 "nbformat_minor": 5
}
