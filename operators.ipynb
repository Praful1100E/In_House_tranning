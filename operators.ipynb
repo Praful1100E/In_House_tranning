{
 "cells": [
  {
   "cell_type": "code",
   "execution_count": 1,
   "id": "48a3e738-acb2-4dec-892c-a30de337b2cf",
   "metadata": {},
   "outputs": [
    {
     "name": "stdout",
     "output_type": "stream",
     "text": [
      "30\n"
     ]
    }
   ],
   "source": [
    "#Arthmatic and assinment operators\n",
    "a = 10 # here(=) is an arthmatic operators\n",
    "b = 20\n",
    "print(a+b) # here(+) is an arthmatic operators"
   ]
  },
  {
   "cell_type": "code",
   "execution_count": 4,
   "id": "8fbb13f5-49dc-4208-9292-047d0f3cfce1",
   "metadata": {},
   "outputs": [
    {
     "name": "stdout",
     "output_type": "stream",
     "text": [
      "True\n"
     ]
    }
   ],
   "source": [
    "# Logical operators(Bitwise AND)\n",
    "a=20\n",
    "b=30\n",
    "print(f\"{a<b&b<100}\") # Here (&) is a logical opeator"
   ]
  },
  {
   "cell_type": "code",
   "execution_count": 14,
   "id": "895fbc77-8d6a-44b8-86a9-d2a5b5202c37",
   "metadata": {},
   "outputs": [
    {
     "name": "stdout",
     "output_type": "stream",
     "text": [
      "True\n",
      "-6\n"
     ]
    }
   ],
   "source": [
    "# Logical operators(Bitwise OR)\n",
    "a=20\n",
    "b=30\n",
    "print(f\"{a<b|b<100}\") # Here (|) is a logical opeator\n",
    "\n",
    "# Logical operators(Bitwise NOT)\n",
    "a=5\n",
    "b= ~a  # Here (~) is a logical opeator\n",
    "print(f\"{b}\") # ~n = -(n+1)"
   ]
  },
  {
   "cell_type": "code",
   "execution_count": 28,
   "id": "bccb380b-1bb0-48f7-a86d-193f351e8b20",
   "metadata": {},
   "outputs": [
    {
     "name": "stdout",
     "output_type": "stream",
     "text": [
      "Value of x :3\n",
      "After shofting :6\n",
      "Value of x :3\n",
      "After shofting :1\n"
     ]
    }
   ],
   "source": [
    "# Logical operators(Bitwise shifts)\n",
    "x=3\n",
    "y=x<<1 # Here symbol(<<) is Bitwise left shift\n",
    "print(f\"Value of x :{x}\") # Printing x\n",
    "print(f\"After shofting :{y}\") # Printing y\n",
    "# Logical operators (Bitwise Right Shifting)\n",
    "y=x>>1 # Here symbol(>>) is Bitwise Right shift\n",
    "print(f\"Value of x :{x}\") # Printing x\n",
    "print(f\"After shofting :{y}\") # Printing y"
   ]
  },
  {
   "cell_type": "code",
   "execution_count": 30,
   "id": "e30bfd56-aa8c-46c7-b96c-4471d2d57032",
   "metadata": {},
   "outputs": [
    {
     "name": "stdout",
     "output_type": "stream",
     "text": [
      "-100\n",
      "20000\n",
      "2\n"
     ]
    }
   ],
   "source": [
    "#Arthmatic and assinment operators\n",
    "a = 100 # here(=) is an arthmatic operators\n",
    "b = 200\n",
    "print(a-b) # here(-) is an arthmatic operators\n",
    "\n",
    "# Multiplication\n",
    "print(a*b)\n",
    "\n",
    "# Division\n",
    "print(b/a)"
   ]
  },
  {
   "cell_type": "code",
   "execution_count": 37,
   "id": "4de2cc80-10a8-48b3-bb07-2f6ce68e18c2",
   "metadata": {},
   "outputs": [
    {
     "name": "stdout",
     "output_type": "stream",
     "text": [
      "(50+21j)\n"
     ]
    }
   ],
   "source": [
    "# addition of complex number with the help of arthmatic operators\n",
    "a = 20+1j '''Here (+) is an operator'''\n",
    "b = 30+20j\n",
    "print(a+b)\n",
    "    "
   ]
  },
  {
   "cell_type": "code",
   "execution_count": 38,
   "id": "5f9fd21f-007a-43c9-bb12-e3f86853c1c1",
   "metadata": {},
   "outputs": [
    {
     "name": "stdout",
     "output_type": "stream",
     "text": [
      "8\n"
     ]
    }
   ],
   "source": [
    "# exponentiation operaators it is the sub part of arithmetic operators\n",
    "a = 2**3\n",
    "print(a)"
   ]
  },
  {
   "cell_type": "code",
   "execution_count": 39,
   "id": "3ef473be-c617-47ed-9bb2-95b04f156162",
   "metadata": {},
   "outputs": [
    {
     "name": "stdout",
     "output_type": "stream",
     "text": [
      "10\n"
     ]
    }
   ],
   "source": [
    "# by using boolean and arithmatic values:\n",
    "a = True*10 # The value of True is 1 \n",
    "print(a)"
   ]
  },
  {
   "cell_type": "code",
   "execution_count": 44,
   "id": "4ea7a139-8dc6-4ccc-898c-8df4631a05e1",
   "metadata": {},
   "outputs": [
    {
     "name": "stdout",
     "output_type": "stream",
     "text": [
      "Value of a : 100\n",
      "Value of b :200\n",
      "Value of x :3\n"
     ]
    }
   ],
   "source": [
    "# Relational operators\n",
    "a = 100\n",
    "b = 200\n",
    "x == a\n",
    "print(\"Value of a :\",a)\n",
    "print(f\"Value of b :{b}\")\n",
    "print(f\"Value of x :{x}\")\n",
    "\n"
   ]
  },
  {
   "cell_type": "code",
   "execution_count": 49,
   "id": "aa0c8c85-7988-475d-b502-74042a777277",
   "metadata": {},
   "outputs": [
    {
     "name": "stdout",
     "output_type": "stream",
     "text": [
      "15\n"
     ]
    }
   ],
   "source": [
    "# Assignment operators\n",
    "a = 10 \n",
    "b = 5\n",
    "b +=a\n",
    "print(b)"
   ]
  },
  {
   "cell_type": "code",
   "execution_count": 51,
   "id": "24832de3-b2b0-4a95-8f20-28a643c3096c",
   "metadata": {},
   "outputs": [
    {
     "name": "stdout",
     "output_type": "stream",
     "text": [
      "True\n",
      "False\n",
      "True\n"
     ]
    }
   ],
   "source": [
    "\"\"\" identity operators \n",
    "identity operators checks two variables refer to the same objects(same memory location).\n",
    " is -> return true if both variables point to the same  object.\n",
    " is not -> return True if they do not point to the same object.\"\"\"\n",
    "x=[1,2,3]\n",
    "y = x\n",
    "z = [1,2,3]\n",
    "print(x is y)\n",
    "print(x is z) # It's false because these are differnt objects\n",
    "print(x is not z)"
   ]
  }
 ],
 "metadata": {
  "kernelspec": {
   "display_name": "Python 3 (ipykernel)",
   "language": "python",
   "name": "python3"
  },
  "language_info": {
   "codemirror_mode": {
    "name": "ipython",
    "version": 3
   },
   "file_extension": ".py",
   "mimetype": "text/x-python",
   "name": "python",
   "nbconvert_exporter": "python",
   "pygments_lexer": "ipython3",
   "version": "3.13.5"
  }
 },
 "nbformat": 4,
 "nbformat_minor": 5
}
