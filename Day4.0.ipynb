{
 "cells": [
  {
   "cell_type": "markdown",
   "id": "a7f6378b-026d-4d07-b6ed-1abed624b712",
   "metadata": {},
   "source": [
    "# Function"
   ]
  },
  {
   "cell_type": "code",
   "execution_count": null,
   "id": "1b9fb55d-66cb-4a1f-addf-f1202f3a1bb5",
   "metadata": {},
   "outputs": [],
   "source": [
    "def my_function():\n",
    "    print(\"This is a function\")\n",
    "my_function()\n"
   ]
  },
  {
   "cell_type": "code",
   "execution_count": null,
   "id": "32e25af8-854e-46b3-a5d5-90b83d4bb45f",
   "metadata": {},
   "outputs": [],
   "source": [
    "def my_sunction(fname):\n",
    " print(fname + \"Refrence\")\n",
    "my_sunction(\"Email\")\n",
    "my_sunction(\"Tobias\")\n",
    "my_sunction(\"Linus\")"
   ]
  },
  {
   "cell_type": "code",
   "execution_count": null,
   "id": "4e0e010f-d226-42fd-82bd-c8dce24c8cb7",
   "metadata": {},
   "outputs": [],
   "source": [
    "def function(fname,lname):\n",
    " print(fname+\"\"+lname)\n",
    "function(\"Praful \",\"Thakur\")\n"
   ]
  },
  {
   "cell_type": "code",
   "execution_count": null,
   "id": "cc41e0cc-0302-49b8-917b-7adfdec9c65a",
   "metadata": {},
   "outputs": [],
   "source": [
    "# Heloo world \n",
    "def hello(hello):\n",
    "    print(\"Hello\")\n",
    "hello=input(\"Hello\")  \n",
    " # koi sencd hai iss baat ki???"
   ]
  },
  {
   "cell_type": "code",
   "execution_count": null,
   "id": "a41e1b45-6f5e-4c89-8d56-e2b001eb630f",
   "metadata": {},
   "outputs": [],
   "source": [
    "def fun(kids,kid1,kid2):\n",
    "    print(\"Young\",kids)\n",
    "fun(\"pan\",\"pan2\",\"pan3\")"
   ]
  },
  {
   "cell_type": "code",
   "execution_count": null,
   "id": "ea1d4dff-481d-4f6d-bdbc-ba51a0c6f15d",
   "metadata": {},
   "outputs": [],
   "source": [
    "# Use to print all argument\n",
    "def fun(*kids):\n",
    "    print(\"Young\",kids)\n",
    "fun(\"pan\",\"pan2\",\"pan3\")"
   ]
  },
  {
   "cell_type": "code",
   "execution_count": null,
   "id": "0adf5458-920e-408d-8759-f3915a170b35",
   "metadata": {},
   "outputs": [],
   "source": [
    "def fun(kids,kid1,kid2):\n",
    "    print(\"Young\",kids,kid1,kid2)\n",
    "fun(\"pan\",\"pan2\",\"pan3\")"
   ]
  },
  {
   "cell_type": "code",
   "execution_count": 2,
   "id": "0c2ec633-d3b6-411f-8ba1-5e1a3caab580",
   "metadata": {},
   "outputs": [
    {
     "name": "stdout",
     "output_type": "stream",
     "text": [
      "ganda bacha Jatin\n"
     ]
    }
   ],
   "source": [
    "def my_f(c1,c2,c3):\n",
    "    print(\"ganda bacha \"+c1)\n",
    "my_f(c1=\"Jatin\",c2=\"Praful\",c3=\"Delta\")"
   ]
  },
  {
   "cell_type": "markdown",
   "id": "969d9408-50ac-4030-bd95-4b4cc6d46531",
   "metadata": {},
   "source": [
    "# Printing the total index from the list"
   ]
  },
  {
   "cell_type": "code",
   "execution_count": 8,
   "id": "abefeb7f-2d65-43a4-9269-9268caf9ea86",
   "metadata": {},
   "outputs": [
    {
     "name": "stdout",
     "output_type": "stream",
     "text": [
      "0:1\n",
      "1:2\n",
      "2:3\n",
      "3:4\n",
      "4:5\n",
      "5:6\n",
      "6:7\n",
      "7:8\n",
      "8:9\n"
     ]
    }
   ],
   "source": [
    "indexing_value = [1,2,3,4,5,6,7,8,9]\n",
    "c=len(indexing_value)\n",
    "for i in range(c):\n",
    " print(f\"{i}:{indexing_value[i]}\")"
   ]
  },
  {
   "cell_type": "code",
   "execution_count": 7,
   "id": "35604a27-8c8d-435c-8322-cbb39ee91786",
   "metadata": {},
   "outputs": [
    {
     "name": "stdout",
     "output_type": "stream",
     "text": [
      "0:1\n",
      "1:2\n",
      "2:3\n",
      "3:4\n",
      "4:5\n",
      "5:6\n",
      "6:7\n",
      "7:8\n",
      "8:9\n"
     ]
    }
   ],
   "source": [
    "indexing_value = [1,2,3,4,5,6,7,8,9]\n",
    "c=len(indexing_value)\n",
    "for i in range(c):\n",
    "    print(f\"{i}:{indexing_value[i]}\")"
   ]
  },
  {
   "cell_type": "code",
   "execution_count": 6,
   "id": "e63e13aa-4423-4fe2-922c-b4d7f929637c",
   "metadata": {},
   "outputs": [
    {
     "name": "stdout",
     "output_type": "stream",
     "text": [
      "24\n"
     ]
    }
   ],
   "source": [
    "l =[1,2,3,4]\n",
    "sum_= 1\n",
    "for i in l:\n",
    "    sum_ = sum_*i\n",
    "print(sum_)"
   ]
  },
  {
   "cell_type": "code",
   "execution_count": 5,
   "id": "e43488f7-e16e-47b4-ba80-ddaeca9946ab",
   "metadata": {},
   "outputs": [
    {
     "name": "stdout",
     "output_type": "stream",
     "text": [
      "28\n"
     ]
    }
   ],
   "source": [
    "sum =0\n",
    "lis_t= [1,2,3,4,5,6,7]\n",
    "for i in (lis_):\n",
    "    sum = sum+i \n",
    "print(sum)"
   ]
  },
  {
   "cell_type": "code",
   "execution_count": 1,
   "id": "d5e80c41-1fc9-4000-b3e9-289fa50f3646",
   "metadata": {},
   "outputs": [
    {
     "name": "stdout",
     "output_type": "stream",
     "text": [
      "10X1=10\n",
      "10X2=20\n",
      "10X3=30\n",
      "10X4=40\n",
      "10X5=50\n",
      "10X6=60\n",
      "10X7=70\n",
      "10X8=80\n",
      "10X9=90\n",
      "10X10=100\n"
     ]
    }
   ],
   "source": [
    "num = 10\n",
    "i = 1\n",
    "while i<=10:\n",
    " print(f\"{num}X{i}={num*i}\")\n",
    " i+=1"
   ]
  },
  {
   "cell_type": "markdown",
   "id": "0ab7e968-06d9-41c9-83ef-0dbe85efed44",
   "metadata": {},
   "source": [
    "# program sum of even number in range in to 100 using loops"
   ]
  },
  {
   "cell_type": "code",
   "execution_count": 7,
   "id": "fa9d0853-0c63-4495-b970-b682bc2ef104",
   "metadata": {},
   "outputs": [
    {
     "name": "stdout",
     "output_type": "stream",
     "text": [
      "2550\n"
     ]
    }
   ],
   "source": [
    "sum = 0\n",
    "for i in range(1,101):\n",
    "    if i %2 ==0:\n",
    "     sum =sum+i\n",
    "print(sum)        "
   ]
  },
  {
   "cell_type": "markdown",
   "id": "5f84163f-84cd-4181-8bb6-8c4b50bc52bf",
   "metadata": {},
   "source": [
    "# Program to print the character at even position in the list:\n"
   ]
  },
  {
   "cell_type": "code",
   "execution_count": 17,
   "id": "0f514bbe-147e-40c5-ad5b-ec02dfd02407",
   "metadata": {},
   "outputs": [
    {
     "name": "stdout",
     "output_type": "stream",
     "text": [
      "P\n",
      "a\n",
      "u\n"
     ]
    }
   ],
   "source": [
    "a = \"Praful\"\n",
    "i = 0\n",
    "while(i<=5):\n",
    " print(a[i])\n",
    " i+=2"
   ]
  },
  {
   "cell_type": "markdown",
   "id": "12938585-3195-4197-9e5b-d14a0f4bfeeb",
   "metadata": {},
   "source": [
    "# nested While"
   ]
  },
  {
   "cell_type": "code",
   "execution_count": 3,
   "id": "30c0067d-6d07-4269-a42a-ff2cb628012c",
   "metadata": {},
   "outputs": [
    {
     "name": "stdout",
     "output_type": "stream",
     "text": [
      "0 0\n",
      "0 1\n",
      "0 2\n"
     ]
    }
   ],
   "source": [
    "i = 0\n",
    "j = 0\n",
    "while i<3:\n",
    "    while j<3:\n",
    "        print(i,j)\n",
    "        j+=1\n",
    "    i+=1"
   ]
  },
  {
   "cell_type": "markdown",
   "id": "d3f6cfa4-8b05-48e8-8e90-a9c18fa3c92e",
   "metadata": {},
   "source": [
    "break pass and continue\n",
    "breal :exit from the loop before the loop condition is made\n",
    "pass : use place holder in the code where\n",
    "continue value skip next iteration and continues iteration"
   ]
  },
  {
   "cell_type": "code",
   "execution_count": 9,
   "id": "b0d915c6-d6a2-4733-802f-9259e7e60856",
   "metadata": {},
   "outputs": [],
   "source": [
    "for i in range(10):\n",
    "    if i==3:\n",
    "     break\n",
    "     print(i)"
   ]
  },
  {
   "cell_type": "code",
   "execution_count": 11,
   "id": "c32b8de3-5c7e-4389-8495-65b38410cbb9",
   "metadata": {},
   "outputs": [],
   "source": [
    "for i in range(10):\n",
    "    if i==3:\n",
    "     continue\n",
    "     print(i)"
   ]
  },
  {
   "cell_type": "code",
   "execution_count": 14,
   "id": "2e02b816-8ce4-4728-b059-8e11e45481da",
   "metadata": {},
   "outputs": [
    {
     "name": "stdout",
     "output_type": "stream",
     "text": [
      "Hello\n"
     ]
    }
   ],
   "source": [
    "for i in range(10):\n",
    "    pass\n",
    "print(\"Hello\")    "
   ]
  },
  {
   "cell_type": "markdown",
   "id": "97ec0445-e272-4d95-994e-ae182b9d1017",
   "metadata": {},
   "source": [
    "# Function"
   ]
  },
  {
   "cell_type": "code",
   "execution_count": null,
   "id": "798d0cf8-0146-4328-b958-a72059697fde",
   "metadata": {},
   "outputs": [],
   "source": [
    "Function is the block of code use to make the code short and more efficient."
   ]
  },
  {
   "cell_type": "markdown",
   "id": "a97514ea-e1da-4b73-9af7-bb417e622ce7",
   "metadata": {},
   "source": [
    "Function are two types \n",
    "1) User define \n",
    "2) Build in function\n",
    "   "
   ]
  },
  {
   "cell_type": "markdown",
   "id": "5628665b-b0a4-4250-8589-8c20b388c986",
   "metadata": {},
   "source": [
    "Build in function examples: print(),id(),sum(),str()."
   ]
  },
  {
   "cell_type": "code",
   "execution_count": null,
   "id": "3530af34-c7f7-4793-929e-a2576f415cde",
   "metadata": {},
   "outputs": [],
   "source": [
    "user define function is define by the user which they persionaly use in there code.\n",
    "    example: sum(): , add(): , sub(): etc"
   ]
  }
 ],
 "metadata": {
  "kernelspec": {
   "display_name": "Python 3 (ipykernel)",
   "language": "python",
   "name": "python3"
  },
  "language_info": {
   "codemirror_mode": {
    "name": "ipython",
    "version": 3
   },
   "file_extension": ".py",
   "mimetype": "text/x-python",
   "name": "python",
   "nbconvert_exporter": "python",
   "pygments_lexer": "ipython3",
   "version": "3.13.5"
  }
 },
 "nbformat": 4,
 "nbformat_minor": 5
}
