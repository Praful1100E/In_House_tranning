{
 "cells": [
  {
   "cell_type": "markdown",
   "id": "58a77fa0-16ce-46a3-9b31-13c51222e45b",
   "metadata": {},
   "source": [
    "## Dictionary"
   ]
  },
  {
   "cell_type": "code",
   "execution_count": 11,
   "id": "a877b4fd-f1dd-4900-ada5-1a57aa87b743",
   "metadata": {},
   "outputs": [
    {
     "name": "stdout",
     "output_type": "stream",
     "text": [
      "{'Name': 'Praful'}\n"
     ]
    }
   ],
   "source": [
    "dic = {\"Name\": \"Praful\"}\n",
    "print(dic)\n"
   ]
  },
  {
   "cell_type": "code",
   "execution_count": null,
   "id": "9f74e791-31fd-42ab-bf08-9bd0668ebac3",
   "metadata": {},
   "outputs": [],
   "source": [
    "Dictionary are ordered cpllection of data item. They store multiple items in a single variable.\n",
    "Dictionary items are key-value pairs that are separated by commas and enclosed within curly brackets{}"
   ]
  },
  {
   "cell_type": "code",
   "execution_count": 12,
   "id": "390dba50-3719-475e-b80d-d604bb615e22",
   "metadata": {},
   "outputs": [
    {
     "name": "stdout",
     "output_type": "stream",
     "text": [
      "{'key': 'value', 'key2': 'value2', 'key3': 'value3'}\n"
     ]
    }
   ],
   "source": [
    "dict_ = {\"key\":\"value\",\"key2\":\"value2\",\"key3\":\"value3\"}\n",
    "print(dict_)\n",
    "# print(dict_('key4'))"
   ]
  },
  {
   "cell_type": "code",
   "execution_count": 15,
   "id": "852eb750-1341-49d2-8929-18ac64555a7d",
   "metadata": {},
   "outputs": [
    {
     "name": "stdout",
     "output_type": "stream",
     "text": [
      "value3\n",
      "None\n"
     ]
    }
   ],
   "source": [
    "dict_ = {\"key\":\"value\",\"key2\":\"value2\",\"key3\":\"value3\"}\n",
    "print(dict_.get('key3'))\n",
    "print(dict_.get('key4'))"
   ]
  },
  {
   "cell_type": "code",
   "execution_count": 18,
   "id": "ae2366a8-2bbd-4bfe-8172-b9e4bcd99e0c",
   "metadata": {},
   "outputs": [
    {
     "name": "stdout",
     "output_type": "stream",
     "text": [
      "{'key': 'value', 'key2': 'value2', 'key3': 'value3'}\n",
      "dict_keys(['key', 'key2', 'key3'])\n",
      "dict_values(['value', 'value2', 'value3'])\n"
     ]
    }
   ],
   "source": [
    "dict_ = {\"key\":\"value\",\"key2\":\"value2\",\"key3\":\"value3\"}\n",
    "print(dict_)\n",
    "print(dict_.keys())\n",
    "print(dict_.values())"
   ]
  },
  {
   "cell_type": "code",
   "execution_count": 30,
   "id": "03bcbbb3-c189-47fb-808d-fe4123704b1e",
   "metadata": {},
   "outputs": [
    {
     "name": "stdout",
     "output_type": "stream",
     "text": [
      "key=value\n",
      "key2=value2\n",
      "key3=value3\n"
     ]
    }
   ],
   "source": [
    "dict_ = {\"key\":\"value\",\"key2\":\"value2\",\"key3\":\"value3\"}\n",
    "for key in dict_.keys():\n",
    "     print(f\"{key}={dict_[key]}\")"
   ]
  },
  {
   "cell_type": "code",
   "execution_count": 32,
   "id": "48986885-b09b-4534-bde9-ae07d1954cd8",
   "metadata": {},
   "outputs": [
    {
     "name": "stdout",
     "output_type": "stream",
     "text": [
      "dict_items([('key', 'value'), ('key2', 'value2'), ('key3', 'value3')])\n"
     ]
    }
   ],
   "source": [
    "dict_ = {\"key\":\"value\",\"key2\":\"value2\",\"key3\":\"value3\"}\n",
    "print(dict_.items())"
   ]
  },
  {
   "cell_type": "code",
   "execution_count": 33,
   "id": "8eeb24b7-e53f-43bd-bd2d-b13ba57b1960",
   "metadata": {},
   "outputs": [
    {
     "name": "stdout",
     "output_type": "stream",
     "text": [
      "{'name': 'ram', 'rollno': 1, 'marks': 34}\n",
      "<class 'dict'>\n"
     ]
    }
   ],
   "source": [
    "a= {\"name\": \"ram\", \"rollno\": 1, \"marks\": 34}\n",
    "print(a)\n",
    "print(type(a))"
   ]
  },
  {
   "cell_type": "code",
   "execution_count": 37,
   "id": "4d7990db-b065-4bf8-8e48-d8bed30e7bd1",
   "metadata": {},
   "outputs": [
    {
     "name": "stdout",
     "output_type": "stream",
     "text": [
      "age\n",
      "not found\n",
      "mukesh\n"
     ]
    }
   ],
   "source": [
    "my_dict = {'Name': 'mukesh',1:'age','City': 'chandigarh'}\n",
    "print(my_dict[1])\n",
    "#print(my_dict[8])\n",
    "print(my_dict.get(2,'not found'))\n",
    "print(my_dict['Name'])"
   ]
  },
  {
   "cell_type": "code",
   "execution_count": 38,
   "id": "146cc098-1f3b-4f29-949c-05d0e535891c",
   "metadata": {},
   "outputs": [
    {
     "name": "stdout",
     "output_type": "stream",
     "text": [
      "4\n",
      "{'Name': 'mukesh', 'Age': 32, 'City': 'chandigarh', 1: [1, 2, 3, 4]}\n"
     ]
    }
   ],
   "source": [
    "#function for dictionary\n",
    "my_dict = {'Name': 'mukesh', 'Age': 32, 'City': 'chandigarh',1: [1, 2, 3, 4]}\n",
    "c=len(my_dict)\n",
    "print(c)\n",
    "print(my_dict)"
   ]
  },
  {
   "cell_type": "code",
   "execution_count": 2,
   "id": "da29e31d-97ed-4602-8512-a231250fcac8",
   "metadata": {},
   "outputs": [
    {
     "name": "stdout",
     "output_type": "stream",
     "text": [
      "dict_items([('Name', (1, 2, 3)), ('Age', 32), ('City', 'chandigarh')])\n",
      "[('Name', (1, 2, 3)), ('Age', 32), ('City', 'chandigarh')]\n",
      "32\n",
      "[('Name', (1, 2, 3)), ('Age', 32), ('City', 'chandigarh')]\n"
     ]
    }
   ],
   "source": [
    "my_dict = {'Name':(1,2,3), 'Age': 32, 'City': 'chandigarh'}\n",
    "items = my_dict.items()\n",
    "print(items)\n",
    "a = list(items)\n",
    "print(a)\n",
    "c=a[1]\n",
    "print(c[1])\n",
    "print(list(items))\n"
   ]
  },
  {
   "cell_type": "code",
   "execution_count": 1,
   "id": "578232d7-fe72-413f-9a8f-d02cf4a645e6",
   "metadata": {},
   "outputs": [
    {
     "name": "stdout",
     "output_type": "stream",
     "text": [
      "{'Praful': {'Age': 19, 'Rollnumber': 407}}\n"
     ]
    }
   ],
   "source": [
    "student ={\"Praful\":{\"Age\":19,\"Rollnumber\":407}}\n",
    "print(student)"
   ]
  },
  {
   "cell_type": "code",
   "execution_count": 24,
   "id": "5d524590-9381-4385-bc51-95f04d251ae1",
   "metadata": {},
   "outputs": [
    {
     "name": "stdout",
     "output_type": "stream",
     "text": [
      "Name:Praful Age19 RollNumber:407\n",
      "Name:Anjali Age18 RollNumber:389\n",
      "Name:Rohit Age20 RollNumber:412\n",
      "Name:Sneha Age19 RollNumber:395\n",
      "Name:Aman Age21 RollNumber:376\n",
      "Name:Neha Age18 RollNumber:430\n",
      "Name:Vikram Age20 RollNumber:400\n",
      "Name:Pooja Age19 RollNumber:388\n",
      "Name:Karan Age21 RollNumber:410\n",
      "Name:Divya Age18 RollNumber:399\n"
     ]
    }
   ],
   "source": [
    "students = {\n",
    "    \"Praful\": {\"age\": 19, \"rollno\": 407},\n",
    "    \"Anjali\": {\"age\": 18, \"rollno\": 389},\n",
    "    \"Rohit\": {\"age\": 20, \"rollno\": 412},\n",
    "    \"Sneha\": {\"age\": 19, \"rollno\": 395},\n",
    "    \"Aman\": {\"age\": 21, \"rollno\": 376},\n",
    "    \"Neha\": {\"age\": 18, \"rollno\": 430},\n",
    "    \"Vikram\": {\"age\": 20, \"rollno\": 400},\n",
    "    \"Pooja\": {\"age\": 19, \"rollno\": 388},\n",
    "    \"Karan\": {\"age\": 21, \"rollno\": 410},\n",
    "    \"Divya\": {\"age\": 18, \"rollno\": 399}\n",
    "}\n",
    "\n",
    "for name, info in students.items() :\n",
    " print(f\"Name:{name} Age{info['age']} RollNumber:{info['rollno']}\")"
   ]
  },
  {
   "cell_type": "code",
   "execution_count": null,
   "id": "8ffbc0b9-ae8d-48a0-bf03-45d8cebd63e3",
   "metadata": {},
   "outputs": [],
   "source": []
  }
 ],
 "metadata": {
  "kernelspec": {
   "display_name": "Python 3 (ipykernel)",
   "language": "python",
   "name": "python3"
  },
  "language_info": {
   "codemirror_mode": {
    "name": "ipython",
    "version": 3
   },
   "file_extension": ".py",
   "mimetype": "text/x-python",
   "name": "python",
   "nbconvert_exporter": "python",
   "pygments_lexer": "ipython3",
   "version": "3.13.5"
  }
 },
 "nbformat": 4,
 "nbformat_minor": 5
}
