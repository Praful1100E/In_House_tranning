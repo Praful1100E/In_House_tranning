{
 "cells": [
  {
   "cell_type": "code",
   "execution_count": 2,
   "id": "383572db-d9ce-49be-99fe-b18e6b851429",
   "metadata": {},
   "outputs": [
    {
     "name": "stdin",
     "output_type": "stream",
     "text": [
      "Enter number of botteels:  1000\n",
      "Enter bottles you want to drink in a day: 101\n"
     ]
    },
    {
     "name": "stdout",
     "output_type": "stream",
     "text": [
      "Total days are needed:9\n",
      " Day1 Botal left: 899\n",
      " Day2 Botal left: 798\n",
      " Day3 Botal left: 697\n",
      " Day4 Botal left: 596\n",
      " Day5 Botal left: 495\n",
      " Day6 Botal left: 394\n",
      " Day7 Botal left: 293\n",
      " Day8 Botal left: 192\n",
      " Day9 Botal left: 91\n",
      "No bottal left\n"
     ]
    }
   ],
   "source": [
    "total  = int(input(\"Enter number of botteels: \"))\n",
    "day = int(input(\"Enter bottles you want to drink in a day:\"))\n",
    "num = int(total/day)\n",
    "\n",
    "print(f\"Total days are needed:{num}\")\n",
    "for i in range(1,num+1): \n",
    "    total = total-day\n",
    "    if num !=0:\n",
    "     print(f\" Day{i} Botal left: {total}\")\n",
    "else :\n",
    " print(\"No bottal left\")\n",
    " \n",
    " "
   ]
  },
  {
   "cell_type": "code",
   "execution_count": 12,
   "id": "009bf683-f4d3-4970-b6c4-1f12de4e467d",
   "metadata": {},
   "outputs": [
    {
     "ename": "IndentationError",
     "evalue": "unindent does not match any outer indentation level (<string>, line 16)",
     "output_type": "error",
     "traceback": [
      "  \u001b[36mFile \u001b[39m\u001b[32m<string>:16\u001b[39m\n\u001b[31m    \u001b[39m\u001b[31melif age in range(13,19):\u001b[39m\n                             ^\n\u001b[31mIndentationError\u001b[39m\u001b[31m:\u001b[39m unindent does not match any outer indentation level\n"
     ]
    }
   ],
   "source": [
    "while True:\n",
    "    gender = int(input(\"Enter 1 for male and 2 for female\"))\n",
    "    age = int(input(\"Enter your age: \"))\n",
    "     if gender == 1:\n",
    "      if age in range(1,12):\n",
    "       print(\"Pogo dekho\")\n",
    "      elif age in range(13,19):\n",
    "       print(\"You are adult now\")\n",
    "      elif age in range(20,35):\n",
    "      print(\"You have to marry right now\")\n",
    "     else : \n",
    "     print(\"Ram ram satye hai\")\n",
    "    elif gender == 2 :\n",
    "        if age in range(1,12):\n",
    "          print(\"Pogo dekho\")\n",
    "         elif age in range(13,19):\n",
    "          print(\"You are adult now\")\n",
    "         elif age in range(20,35):\n",
    "          print(\"You have to marry right now\")\n",
    "         else : \n",
    "          print(\"Ram ram satye hai\")\n",
    "    else:\n",
    "        print(\"invalid\")"
   ]
  }
 ],
 "metadata": {
  "kernelspec": {
   "display_name": "Python 3 (ipykernel)",
   "language": "python",
   "name": "python3"
  },
  "language_info": {
   "codemirror_mode": {
    "name": "ipython",
    "version": 3
   },
   "file_extension": ".py",
   "mimetype": "text/x-python",
   "name": "python",
   "nbconvert_exporter": "python",
   "pygments_lexer": "ipython3",
   "version": "3.13.5"
  }
 },
 "nbformat": 4,
 "nbformat_minor": 5
}
