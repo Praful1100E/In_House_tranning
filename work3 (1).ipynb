{
 "cells": [
  {
   "cell_type": "code",
   "execution_count": 6,
   "id": "eeabc9eb-d5dd-4938-aead-05dd4143d5c4",
   "metadata": {},
   "outputs": [
    {
     "name": "stdin",
     "output_type": "stream",
     "text": [
      "Enter your Name: Praful Thakur\n",
      "Enter your age:  19\n"
     ]
    },
    {
     "name": "stdout",
     "output_type": "stream",
     "text": [
      "Praful Thakuryou are adult now\n"
     ]
    }
   ],
   "source": [
    "name = input(\"Enter your Name:\")\n",
    "age  = int(input(\"Enter your age: \"))\n",
    "if age<18:\n",
    "    print(f\"{name}you are not adult now\")\n",
    "else :\n",
    "    print(f\"{name} you are adult now\")"
   ]
  },
  {
   "cell_type": "code",
   "execution_count": 7,
   "id": "241291c2-78d1-4f01-b32b-ac2865e4bf7e",
   "metadata": {},
   "outputs": [
    {
     "name": "stdout",
     "output_type": "stream",
     "text": [
      "<class 'list'>\n"
     ]
    }
   ],
   "source": [
    "x=[\"Praful\"]\n",
    "print(type(x))"
   ]
  },
  {
   "cell_type": "code",
   "execution_count": 9,
   "id": "7b432e8b-f5dd-4b33-aaad-5cd1f2abb02f",
   "metadata": {},
   "outputs": [
    {
     "name": "stdout",
     "output_type": "stream",
     "text": [
      "<class 'range'>\n"
     ]
    }
   ],
   "source": [
    "x=range(5)\n",
    "print(type(x))"
   ]
  },
  {
   "cell_type": "code",
   "execution_count": 10,
   "id": "d99fda62-417a-43f2-bd2b-2bc900af8e17",
   "metadata": {},
   "outputs": [
    {
     "name": "stdout",
     "output_type": "stream",
     "text": [
      "<class 'set'>\n"
     ]
    }
   ],
   "source": [
    "x={\"apple\"}\n",
    "print(type(x))"
   ]
  },
  {
   "cell_type": "code",
   "execution_count": 2,
   "id": "445d143e-3bf7-4eaf-b518-afea4a27511c",
   "metadata": {},
   "outputs": [
    {
     "name": "stdin",
     "output_type": "stream",
     "text": [
      "enter your name: Praful Thakur\n"
     ]
    },
    {
     "name": "stdout",
     "output_type": "stream",
     "text": [
      "Hello Praful Thakur. How are you!!\n"
     ]
    }
   ],
   "source": [
    "name = input(\"enter your name:\")\n",
    "print(f\"Hello {name}. How are you!!\")"
   ]
  },
  {
   "cell_type": "code",
   "execution_count": null,
   "id": "ba950d66-3028-495a-86db-2da6ccae612a",
   "metadata": {},
   "outputs": [],
   "source": []
  }
 ],
 "metadata": {
  "kernelspec": {
   "display_name": "Python 3 (ipykernel)",
   "language": "python",
   "name": "python3"
  },
  "language_info": {
   "codemirror_mode": {
    "name": "ipython",
    "version": 3
   },
   "file_extension": ".py",
   "mimetype": "text/x-python",
   "name": "python",
   "nbconvert_exporter": "python",
   "pygments_lexer": "ipython3",
   "version": "3.13.5"
  }
 },
 "nbformat": 4,
 "nbformat_minor": 5
}
