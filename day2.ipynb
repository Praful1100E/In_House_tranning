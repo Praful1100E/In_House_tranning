{
 "cells": [
  {
   "cell_type": "code",
   "execution_count": 3,
   "id": "dac450bb-d4e4-4e7f-bf5f-b276c1321d95",
   "metadata": {},
   "outputs": [
    {
     "name": "stdout",
     "output_type": "stream",
     "text": [
      "0\n",
      "-1\n",
      "4\n",
      "['b']\n",
      "['a', 'b']\n",
      "['a', 'c']\n",
      "['a']\n"
     ]
    }
   ],
   "source": [
    "# this is indexing\n",
    "a=[\"a\",\"b\",\"c\",\"d\"]\n",
    "print(0)\n",
    "print(-1)\n",
    "print(4)\n",
    "# slicing\n",
    "print(a[1:2])\n",
    "print(a[:2])\n",
    "print(a[::2])\n",
    "print(a[:3:2])"
   ]
  },
  {
   "cell_type": "code",
   "execution_count": 4,
   "id": "ddfb2aa9-b373-4e3e-9b1f-f5f605178c88",
   "metadata": {},
   "outputs": [
    {
     "name": "stdout",
     "output_type": "stream",
     "text": [
      "[2]\n",
      "[1, 2]\n",
      "[1, 3, 5]\n",
      "[1, 3]\n"
     ]
    }
   ],
   "source": [
    "my_slicing = [1,2,3,4,5]\n",
    "print(my_slicing[1:2])\n",
    "print(my_slicing[:2])\n",
    "print(my_slicing[::2])\n",
    "print(my_slicing[:3:2])"
   ]
  },
  {
   "cell_type": "code",
   "execution_count": 9,
   "id": "00904d1e-fb92-466d-962a-be9bde4e5658",
   "metadata": {},
   "outputs": [
    {
     "name": "stdout",
     "output_type": "stream",
     "text": [
      "<class 'list'>\n",
      "9\n",
      "['Praful', 'jatin']\n"
     ]
    }
   ],
   "source": [
    "a=[\"Praful\",\"jatin\",9]\n",
    "print(type(a))\n",
    "print(a[2])\n",
    "print(a[:2])"
   ]
  },
  {
   "cell_type": "code",
   "execution_count": 18,
   "id": "e6bb7991-7565-478a-81a5-f3474bfe8a82",
   "metadata": {},
   "outputs": [
    {
     "name": "stdout",
     "output_type": "stream",
     "text": [
      "5\n",
      "<class 'list'>\n",
      "[23, (10, 20)]\n"
     ]
    }
   ],
   "source": [
    "le = [\"Hello\",{2,3},23,(10,20),\"praful\"]\n",
    "print(len(le))\n",
    "print(type(le))\n",
    "a= le[2:4]\n",
    "print(a)"
   ]
  },
  {
   "cell_type": "code",
   "execution_count": 23,
   "id": "9a8825e5-4c5f-4770-8a5b-73b490fb5a1a",
   "metadata": {},
   "outputs": [
    {
     "name": "stdout",
     "output_type": "stream",
     "text": [
      "\n"
     ]
    }
   ],
   "source": [
    "a = \"ilearnpython\"\n",
    "b = a[6:10:-1]\n",
    "print(b)"
   ]
  },
  {
   "cell_type": "code",
   "execution_count": 40,
   "id": "41863ef3-c0a7-4f3a-ba68-b52a17914d43",
   "metadata": {},
   "outputs": [
    {
     "name": "stdout",
     "output_type": "stream",
     "text": [
      "['apple', '355', 2, 3]\n"
     ]
    }
   ],
   "source": [
    "t = [\"apple\",\"355\",33]\n",
    "b = t[:2]+[2,3]\n",
    "print(b)"
   ]
  },
  {
   "cell_type": "code",
   "execution_count": 31,
   "id": "0a7bae21-2e83-41d5-b45e-1cdfb9d23047",
   "metadata": {},
   "outputs": [
    {
     "name": "stdout",
     "output_type": "stream",
     "text": [
      "[2, 3, 4, 5, 4, 'praful']\n",
      "6\n"
     ]
    }
   ],
   "source": [
    "a=[2,3,4,5,]\n",
    "a.append(4)\n",
    "a.append(\"praful\")\n",
    "print(a)\n",
    "print(len(a))"
   ]
  },
  {
   "cell_type": "code",
   "execution_count": 29,
   "id": "fad475ed-913d-48fa-8e8b-de6ddb702781",
   "metadata": {},
   "outputs": [
    {
     "name": "stdout",
     "output_type": "stream",
     "text": [
      "[5, 6, 7, 8, 9, 2, 3]\n"
     ]
    }
   ],
   "source": [
    "a=[5,6,7,8,9]\n",
    "a.extend([2,3])\n",
    "print(a)"
   ]
  },
  {
   "cell_type": "code",
   "execution_count": 41,
   "id": "5ad64dcb-b1be-4edb-bf7d-4a3f08fa8a28",
   "metadata": {},
   "outputs": [
    {
     "name": "stdout",
     "output_type": "stream",
     "text": [
      "[40, 50, 60, [10, 20, 30]]\n"
     ]
    }
   ],
   "source": [
    "l1 = [10,20,30]\n",
    "l2 =[40,50,60]\n",
    "l2.append(l1)\n",
    "print(l2)"
   ]
  },
  {
   "cell_type": "code",
   "execution_count": 50,
   "id": "f1610dc3-12c5-473f-a52a-c1178a70cf19",
   "metadata": {},
   "outputs": [
    {
     "name": "stdout",
     "output_type": "stream",
     "text": [
      "('apple', 'banana', 'chearry')\n"
     ]
    }
   ],
   "source": [
    "fruit =\"apple\",\"banana\",\"chearry\"\n",
    "#fruit.insert(1,\"mango\")\n",
    "#fruit.remove(2,\"chearry\")\n",
    "print(fruit)"
   ]
  },
  {
   "cell_type": "code",
   "execution_count": 51,
   "id": "d18e8f33-4ce8-425e-8e25-a2f39fc80136",
   "metadata": {},
   "outputs": [
    {
     "name": "stdout",
     "output_type": "stream",
     "text": [
      "charry\n"
     ]
    }
   ],
   "source": [
    "fruit =['apple','banana','charry']\n",
    "last_fruit = fruit.pop()\n",
    "print(last_fruit)"
   ]
  },
  {
   "cell_type": "code",
   "execution_count": 52,
   "id": "a18cbb98-699c-4a6e-afd6-cee77ecc1ae4",
   "metadata": {},
   "outputs": [
    {
     "name": "stdout",
     "output_type": "stream",
     "text": [
      "[45.7, 8, 7, 6, 5, 2, 1]\n"
     ]
    }
   ],
   "source": [
    "#count()\n",
    "#sort()\n",
    "num = [1,7,8,2,5,6,45.7]\n",
    "num.sort(reverse=True)\n",
    "print(num)\n",
    "#reverse()\n",
    "#copping\n",
    "#pop"
   ]
  },
  {
   "cell_type": "code",
   "execution_count": 53,
   "id": "eade3ff7-4d34-4767-908c-b62290ba7051",
   "metadata": {},
   "outputs": [
    {
     "name": "stdout",
     "output_type": "stream",
     "text": [
      "[]\n"
     ]
    }
   ],
   "source": [
    "a = [1,2,3,4]\n",
    "fruit.clear()\n",
    "print(fruit)\n"
   ]
  },
  {
   "cell_type": "code",
   "execution_count": 59,
   "id": "92871f5d-49f6-4590-964b-830a2630308d",
   "metadata": {},
   "outputs": [
    {
     "name": "stdout",
     "output_type": "stream",
     "text": [
      "30\n",
      "20\n"
     ]
    }
   ],
   "source": [
    "a=20\n",
    "b=30\n",
    "a=a^b\n",
    "b=a^b\n",
    "a=a^b\n",
    "print(a)\n",
    "print(b)\n"
   ]
  },
  {
   "cell_type": "code",
   "execution_count": 60,
   "id": "8aaaf725-781f-4a20-8fd1-05a855d9a74b",
   "metadata": {},
   "outputs": [
    {
     "name": "stdout",
     "output_type": "stream",
     "text": [
      "(1, 2, 3, 4, 5, (6, 7, 8), 9, 55)\n"
     ]
    }
   ],
   "source": [
    "#concatenation is the process of addition\n",
    "# additin of tuple\n",
    "a=(1,2,3,4,5)\n",
    "b=((6,7,8,),9,55)\n",
    "print(a+b)"
   ]
  },
  {
   "cell_type": "code",
   "execution_count": 67,
   "id": "c912d544-e9cf-4fdb-a544-fb98b5e5cd86",
   "metadata": {},
   "outputs": [
    {
     "name": "stdout",
     "output_type": "stream",
     "text": [
      "6\n"
     ]
    }
   ],
   "source": [
    "#converting list into tuple\\\n",
    "a=(1,2,2,2,4,3,2,3,5,2,2.3,23,4,4,2)\n",
    "b=a.count(2)\n",
    "print(b)"
   ]
  },
  {
   "cell_type": "code",
   "execution_count": 65,
   "id": "3973c0a3-ae9b-4eb9-bfe6-cda631dd4ede",
   "metadata": {},
   "outputs": [
    {
     "name": "stdout",
     "output_type": "stream",
     "text": [
      "<class 'dict'>\n"
     ]
    }
   ],
   "source": [
    "d = {1:2,6:7,8:\"hunny\",8:\"abhishek\"}\n",
    "print(type(d))\n",
    "print(d.get(1,'not found in dictionary'))"
   ]
  },
  {
   "cell_type": "code",
   "execution_count": 72,
   "id": "db7473ff-ef54-4d74-879d-9c3cce3afbaa",
   "metadata": {},
   "outputs": [
    {
     "name": "stdout",
     "output_type": "stream",
     "text": [
      "2\n",
      "{'name': 'Prful', 'age': 18}\n"
     ]
    }
   ],
   "source": [
    "a= {\"name\":\"Prful\" ,\"age\": 18}\n",
    "print(len(a))\n",
    "print(a)\n",
    "# b=a.key()"
   ]
  },
  {
   "cell_type": "code",
   "execution_count": null,
   "id": "ccf20167-c3f3-4a3f-b68b-ab5681a7b6a2",
   "metadata": {},
   "outputs": [],
   "source": []
  }
 ],
 "metadata": {
  "kernelspec": {
   "display_name": "Python 3 (ipykernel)",
   "language": "python",
   "name": "python3"
  },
  "language_info": {
   "codemirror_mode": {
    "name": "ipython",
    "version": 3
   },
   "file_extension": ".py",
   "mimetype": "text/x-python",
   "name": "python",
   "nbconvert_exporter": "python",
   "pygments_lexer": "ipython3",
   "version": "3.13.5"
  }
 },
 "nbformat": 4,
 "nbformat_minor": 5
}
