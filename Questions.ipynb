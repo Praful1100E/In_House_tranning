{
 "cells": [
  {
   "cell_type": "code",
   "execution_count": 2,
   "id": "4043aa51-f4f2-4dbe-85a6-01ce9ccb1449",
   "metadata": {},
   "outputs": [
    {
     "name": "stdin",
     "output_type": "stream",
     "text": [
      "Enter your name: Praful\n"
     ]
    },
    {
     "name": "stdout",
     "output_type": "stream",
     "text": [
      "Hello Praful\n"
     ]
    }
   ],
   "source": [
    "def baji (name):\n",
    "  print(f\"Hello {name}\")\n",
    "name = input(\"Enter your name:\")\n",
    "baji(name)"
   ]
  },
  {
   "cell_type": "code",
   "execution_count": 16,
   "id": "57667aea-6cfd-465f-af7c-97669520f5cb",
   "metadata": {},
   "outputs": [
    {
     "ename": "NameError",
     "evalue": "name 'num1' is not defined",
     "output_type": "error",
     "traceback": [
      "\u001b[31m---------------------------------------------------------------------------\u001b[39m",
      "\u001b[31mNameError\u001b[39m                                 Traceback (most recent call last)",
      "\u001b[36mCell\u001b[39m\u001b[36m \u001b[39m\u001b[32mIn[16]\u001b[39m\u001b[32m, line 5\u001b[39m\n\u001b[32m      3\u001b[39m     num2=\u001b[38;5;28mint\u001b[39m(\u001b[38;5;28minput\u001b[39m(\u001b[33m\"\u001b[39m\u001b[33menter the number 2 \u001b[39m\u001b[33m\"\u001b[39m))  \n\u001b[32m      4\u001b[39m     \u001b[38;5;28;01mreturn\u001b[39;00m num1+num2\n\u001b[32m----> \u001b[39m\u001b[32m5\u001b[39m \u001b[38;5;28mprint\u001b[39m(add(\u001b[43mnum1\u001b[49m,num2))\n",
      "\u001b[31mNameError\u001b[39m: name 'num1' is not defined"
     ]
    }
   ],
   "source": [
    "def add(num1,num2):\n",
    "    num1=int(input(\"enter the number 1 \"))\n",
    "    num2=int(input(\"enter the number 2 \"))  \n",
    "    return num1+num2\n",
    "print(add(num1,num2))"
   ]
  },
  {
   "cell_type": "code",
   "execution_count": 21,
   "id": "580bce0b-b90c-4abb-8eea-5d4809d58e78",
   "metadata": {},
   "outputs": [
    {
     "name": "stdout",
     "output_type": "stream",
     "text": [
      "hello ('Dadwal', 'Delta', 'Rajput')\n"
     ]
    }
   ],
   "source": [
    "def hello(*Jatin):\n",
    "    print(f\"hello {Jatin}\")\n",
    "hello(\"Dadwal\",\"Delta\",\"Rajput\")"
   ]
  },
  {
   "cell_type": "code",
   "execution_count": 25,
   "id": "334a603f-088a-44fd-8dbf-634977aa1ddf",
   "metadata": {},
   "outputs": [
    {
     "name": "stdout",
     "output_type": "stream",
     "text": [
      "hello Dadwal\n"
     ]
    }
   ],
   "source": [
    "def hello(*Jatin):\n",
    "    print(f\"hello {Jatin[0]}\")\n",
    "hello(\"Dadwal\",\"Delta\",\"Rajput\")"
   ]
  },
  {
   "cell_type": "code",
   "execution_count": 27,
   "id": "2b00c0b4-0562-4b6c-a95f-65491b32d6e7",
   "metadata": {},
   "outputs": [
    {
     "name": "stdout",
     "output_type": "stream",
     "text": [
      "hello Dadwal\n"
     ]
    }
   ],
   "source": [
    "def hello(*Jatin):\n",
    "    print(f\"hello {Jatin[0]}\")\n",
    "hello(\"Dadwal\")"
   ]
  },
  {
   "cell_type": "code",
   "execution_count": 30,
   "id": "bcf958aa-0b98-41b3-a727-023c3809bcbc",
   "metadata": {},
   "outputs": [
    {
     "name": "stdin",
     "output_type": "stream",
     "text": [
      "enter the number 1  10\n",
      "enter the number 2  2\n"
     ]
    },
    {
     "name": "stdout",
     "output_type": "stream",
     "text": [
      "12\n"
     ]
    }
   ],
   "source": [
    "def add():\n",
    "    num1=int(input(\"enter the number 1 \"))\n",
    "    num2=int(input(\"enter the number 2 \"))  \n",
    "    c = num1+num2\n",
    "    print(c)\n",
    "add()"
   ]
  },
  {
   "cell_type": "code",
   "execution_count": 36,
   "id": "b168f5a8-60af-41db-b88b-a8ba755c8ffa",
   "metadata": {},
   "outputs": [
    {
     "name": "stdout",
     "output_type": "stream",
     "text": [
      "hello {'name': 'Dadwal', 'name2': 'Thakur'}\n"
     ]
    }
   ],
   "source": [
    "def hello(**Jatin):\n",
    " print(f\"hello {Jatin}\")\n",
    "hello(name=\"Dadwal\",name2=\"Thakur\")"
   ]
  },
  {
   "cell_type": "code",
   "execution_count": null,
   "id": "58877b65-9cdb-4e9c-8658-294b1d0a875b",
   "metadata": {},
   "outputs": [],
   "source": []
  }
 ],
 "metadata": {
  "kernelspec": {
   "display_name": "Python 3 (ipykernel)",
   "language": "python",
   "name": "python3"
  },
  "language_info": {
   "codemirror_mode": {
    "name": "ipython",
    "version": 3
   },
   "file_extension": ".py",
   "mimetype": "text/x-python",
   "name": "python",
   "nbconvert_exporter": "python",
   "pygments_lexer": "ipython3",
   "version": "3.13.5"
  }
 },
 "nbformat": 4,
 "nbformat_minor": 5
}
