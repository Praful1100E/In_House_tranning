{
 "cells": [
  {
   "cell_type": "markdown",
   "id": "38265e6c-90b3-4d7c-beab-0dcb6c10a884",
   "metadata": {},
   "source": [
    "# Condition in Python\n"
   ]
  },
  {
   "cell_type": "code",
   "execution_count": 1,
   "id": "fbedd6e4-e0d4-4c0c-8176-110dc61a3233",
   "metadata": {},
   "outputs": [
    {
     "name": "stdout",
     "output_type": "stream",
     "text": [
      "a is greater\n"
     ]
    }
   ],
   "source": [
    "# Basic if else condition\n",
    "a = 5\n",
    "if a<5:\n",
    "    print(\"a is lesser\")\n",
    "else:\n",
    "    print(\"a is greater\")"
   ]
  },
  {
   "cell_type": "markdown",
   "id": "603d0fe8-d929-465d-95b4-ec15f4686fde",
   "metadata": {},
   "source": [
    "- if  execute when condition is true and if condition is false then else block is execute."
   ]
  },
  {
   "cell_type": "code",
   "execution_count": 2,
   "id": "33cc9314-fa8b-4bfa-be08-b7551e9a1ac7",
   "metadata": {},
   "outputs": [
    {
     "name": "stdin",
     "output_type": "stream",
     "text": [
      "Enter your age 19\n"
     ]
    },
    {
     "name": "stdout",
     "output_type": "stream",
     "text": [
      "You are not able for voting\n"
     ]
    }
   ],
   "source": [
    "age = int(input(\"Enter your age\"))\n",
    "if age >18:\n",
    "    print(\"You are not able for voting\")\n",
    "else :\n",
    "    print(\"You are able for votting\")"
   ]
  },
  {
   "cell_type": "code",
   "execution_count": 3,
   "id": "0783a863-f750-404b-99d7-14f015c7544f",
   "metadata": {},
   "outputs": [
    {
     "name": "stdin",
     "output_type": "stream",
     "text": [
      "Enter any number:  123\n"
     ]
    },
    {
     "name": "stdout",
     "output_type": "stream",
     "text": [
      "Odd number \n"
     ]
    }
   ],
   "source": [
    "number = int(input(\"Enter any number: \"))\n",
    "if number%2==0:\n",
    "    print(\"Even number\")\n",
    "else :\n",
    "    print(\"Odd number \")"
   ]
  },
  {
   "cell_type": "code",
   "execution_count": 4,
   "id": "846f8aa6-d2f2-4ed9-95c7-be7a0a70ad63",
   "metadata": {},
   "outputs": [
    {
     "name": "stdin",
     "output_type": "stream",
     "text": [
      "Enter year:  2002\n"
     ]
    },
    {
     "name": "stdout",
     "output_type": "stream",
     "text": [
      "Not a leap year\n"
     ]
    }
   ],
   "source": [
    "year = int(input(\"Enter year: \"))\n",
    "if year%4==0 :\n",
    "    if year % 100 == 0 :\n",
    "        print(\"Leap year\")\n",
    "    else :\n",
    "        print(\"Not a leap year\")\n",
    "else :\n",
    "    if year % 400 ==0 :\n",
    "        print(\"Leap year\")\n",
    "    else :\n",
    "        print(\"Not a leap year\")"
   ]
  },
  {
   "cell_type": "code",
   "execution_count": 6,
   "id": "9186e3bd-65b5-4362-bb2f-3b66d3a43523",
   "metadata": {},
   "outputs": [
    {
     "name": "stdout",
     "output_type": "stream",
     "text": [
      "value is smaller\n"
     ]
    }
   ],
   "source": [
    "x = 4\n",
    "if 4>10:\n",
    "    print(\"value is greater\")\n",
    "else :\n",
    "    print(\"value is smaller\")"
   ]
  },
  {
   "cell_type": "code",
   "execution_count": 8,
   "id": "e9fd97f6-586b-4fb1-b41f-7ba407c0200f",
   "metadata": {},
   "outputs": [
    {
     "name": "stdout",
     "output_type": "stream",
     "text": [
      "Number is negative\n"
     ]
    }
   ],
   "source": [
    "num = -12\n",
    "if num >1:\n",
    " print(\"Number is positive\")\n",
    "elif num ==0:\n",
    " print(\"Number is zero\")\n",
    "else:\n",
    "    print(\"Number is negative\")"
   ]
  },
  {
   "cell_type": "markdown",
   "id": "213baaf1-d515-4056-af18-d3de20757e16",
   "metadata": {},
   "source": [
    "# loops in Python"
   ]
  },
  {
   "cell_type": "markdown",
   "id": "539de46e-9e74-41db-90ab-35de269f363f",
   "metadata": {},
   "source": [
    "-A for loop is used to iterate over a sequence."
   ]
  },
  {
   "cell_type": "code",
   "execution_count": 12,
   "id": "ec13cd58-f990-4293-9b70-a784d7b60b64",
   "metadata": {},
   "outputs": [
    {
     "name": "stdout",
     "output_type": "stream",
     "text": [
      "Apple\n",
      "banana\n",
      "mango\n"
     ]
    }
   ],
   "source": [
    "fruits = [\"Apple\",\"banana\",\"mango\"]\n",
    "for i in fruits:\n",
    " print(i)"
   ]
  },
  {
   "cell_type": "code",
   "execution_count": 14,
   "id": "a147a664-e191-40c0-bb4e-604c66dbc652",
   "metadata": {},
   "outputs": [
    {
     "name": "stdout",
     "output_type": "stream",
     "text": [
      "Praful\n",
      "Praful\n",
      "Praful\n",
      "Praful\n",
      "Praful\n",
      "Praful\n",
      "Praful\n",
      "Praful\n",
      "Praful\n"
     ]
    }
   ],
   "source": [
    "for i in range(1,10):\n",
    " print(\"Praful\")"
   ]
  },
  {
   "cell_type": "code",
   "execution_count": 20,
   "id": "6553fb3d-b6c4-4331-9d51-a63d8a39287c",
   "metadata": {},
   "outputs": [
    {
     "name": "stdout",
     "output_type": "stream",
     "text": [
      "1505\n",
      "1540\n",
      "1575\n",
      "1610\n",
      "1645\n",
      "1680\n",
      "1715\n",
      "1750\n",
      "1785\n",
      "1820\n",
      "1855\n",
      "1890\n",
      "1925\n",
      "1960\n",
      "1995\n",
      "2030\n",
      "2065\n",
      "2100\n",
      "2135\n",
      "2170\n",
      "2205\n",
      "2240\n",
      "2275\n",
      "2310\n",
      "2345\n",
      "2380\n",
      "2415\n",
      "2450\n",
      "2485\n",
      "2520\n",
      "2555\n",
      "2590\n",
      "2625\n",
      "2660\n",
      "2695\n"
     ]
    }
   ],
   "source": [
    "for i in range (1500,2700):\n",
    "    if i%7==0 and i%5==0:\n",
    "     print(i)"
   ]
  },
  {
   "cell_type": "code",
   "execution_count": 25,
   "id": "cc4fc92e-246b-442c-8fb8-b57ee53e7c35",
   "metadata": {},
   "outputs": [
    {
     "name": "stdout",
     "output_type": "stream",
     "text": [
      "600\n",
      "601\n"
     ]
    }
   ],
   "source": [
    "even= 0\n",
    "odd = 0\n",
    "for i in range(1500,2701):\n",
    "    if i %2 ==0:\n",
    "        even+=1\n",
    "    else :\n",
    "        odd +=1\n",
    "print(odd)\n",
    "print(even)"
   ]
  },
  {
   "cell_type": "code",
   "execution_count": 26,
   "id": "6fa0976d-b194-4684-905d-cf6ca1adf27a",
   "metadata": {},
   "outputs": [
    {
     "name": "stdout",
     "output_type": "stream",
     "text": [
      "50\n",
      "49\n"
     ]
    }
   ],
   "source": [
    "even= 0\n",
    "odd = 0\n",
    "for i in range(1,100):\n",
    "    if i %2 ==0:\n",
    "        even+=1\n",
    "    else :\n",
    "        odd +=1\n",
    "print(odd)\n",
    "print(even)"
   ]
  },
  {
   "cell_type": "code",
   "execution_count": 35,
   "id": "06077cc5-7b54-4ffe-a3c1-3d3502659bf6",
   "metadata": {},
   "outputs": [
    {
     "name": "stdout",
     "output_type": "stream",
     "text": [
      "4\n",
      "5\n"
     ]
    }
   ],
   "source": [
    "num = (1,2,3,4,5,6,7,8,9)\n",
    "odd = 0\n",
    "even = 0\n",
    "for i in num:\n",
    " if i%2 == 0:\n",
    "    even+=1\n",
    " else:\n",
    "    odd+=1\n",
    "print(even)\n",
    "print(odd)"
   ]
  },
  {
   "cell_type": "code",
   "execution_count": 16,
   "id": "9c6506af-fb2b-4fbe-872b-1f994ac03b2a",
   "metadata": {},
   "outputs": [
    {
     "name": "stdout",
     "output_type": "stream",
     "text": [
      "         *\n",
      "        ***\n",
      "       *****\n",
      "      *******\n",
      "     *********\n",
      "    ***********\n",
      "   *************\n",
      "  ***************\n",
      " *****************\n",
      "*******************\n"
     ]
    }
   ],
   "source": [
    "\n",
    "for i in range(1, 10):\n",
    "    print(\" \" * (rows - i), end=\"\")\n",
    "    print(\"*\" * (2 * i - 1))"
   ]
  },
  {
   "cell_type": "markdown",
   "id": "2aff242e-88da-4368-a2ca-2423a9f631e1",
   "metadata": {},
   "source": [
    "# "
   ]
  },
  {
   "cell_type": "code",
   "execution_count": 19,
   "id": "5dde8824-4967-4dfd-b708-da2d31908c4c",
   "metadata": {},
   "outputs": [
    {
     "name": "stdin",
     "output_type": "stream",
     "text": [
      "Enter a number 111\n"
     ]
    },
    {
     "name": "stdout",
     "output_type": "stream",
     "text": [
      "111 x 1 = 111\n",
      "111 x 2 = 222\n",
      "111 x 3 = 333\n",
      "111 x 4 = 444\n",
      "111 x 5 = 555\n",
      "111 x 6 = 666\n",
      "111 x 7 = 777\n",
      "111 x 8 = 888\n",
      "111 x 9 = 999\n",
      "111 x 10 = 1110\n"
     ]
    }
   ],
   "source": [
    "num = int(input(\"Enter a number\"))\n",
    "for i in range(1,11):\n",
    " print(f\"{num} x {i} = {num*i}\")"
   ]
  },
  {
   "cell_type": "code",
   "execution_count": null,
   "id": "e8878407-dd86-4e60-bba8-1cf931e7b54c",
   "metadata": {},
   "outputs": [],
   "source": []
  }
 ],
 "metadata": {
  "kernelspec": {
   "display_name": "Python 3 (ipykernel)",
   "language": "python",
   "name": "python3"
  },
  "language_info": {
   "codemirror_mode": {
    "name": "ipython",
    "version": 3
   },
   "file_extension": ".py",
   "mimetype": "text/x-python",
   "name": "python",
   "nbconvert_exporter": "python",
   "pygments_lexer": "ipython3",
   "version": "3.13.5"
  }
 },
 "nbformat": 4,
 "nbformat_minor": 5
}
