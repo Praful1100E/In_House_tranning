{
 "cells": [
  {
   "cell_type": "markdown",
   "id": "6749f30e-96da-4fd0-a250-d465d0c45260",
   "metadata": {},
   "source": [
    "- 1: Create a parent class Animal with a method speak() that prints a generic message. Create a child class Dog that overrides the speak() method to print \"Bark!\".\n"
   ]
  },
  {
   "cell_type": "code",
   "execution_count": 15,
   "id": "17a32f0b-8dc3-4bf0-b42e-9b688570e9d3",
   "metadata": {},
   "outputs": [
    {
     "name": "stdout",
     "output_type": "stream",
     "text": [
      "Bark!\n"
     ]
    }
   ],
   "source": [
    "class Animal:\n",
    "    def speak(self):\n",
    "        return \"Generic animal sound\"\n",
    "\n",
    "class Dog(Animal):\n",
    "    def speak(self):\n",
    "        return \"Bark!\"\n",
    "\n",
    "dog = Dog()\n",
    "print(dog.speak())\n"
   ]
  },
  {
   "cell_type": "markdown",
   "id": "912b7c12-644d-43cf-94ab-c70cd3c3394a",
   "metadata": {},
   "source": [
    "- 2: Write a program to create an abstract class Shape with a method area(). Derive classes Circle and Rectangle frorn it and implement the area() method in both.\n"
   ]
  },
  {
   "cell_type": "code",
   "execution_count": 1,
   "id": "52388522-6b4e-4d7f-b9a4-5b91adbb29b7",
   "metadata": {},
   "outputs": [
    {
     "name": "stdout",
     "output_type": "stream",
     "text": [
      "78.53981633974483\n",
      "24\n"
     ]
    }
   ],
   "source": [
    "from abc import ABC, abstractmethod\n",
    "import math\n",
    "\n",
    "class Shape(ABC):\n",
    "    @abstractmethod\n",
    "    def area(self):\n",
    "        pass\n",
    "\n",
    "class Circle(Shape):\n",
    "    def __init__(self, radius):\n",
    "        self.radius = radius\n",
    "\n",
    "    def area(self):\n",
    "        return math.pi * self.radius**2\n",
    "\n",
    "class Rectangle(Shape):\n",
    "    def __init__(self, width, height):\n",
    "        self.width = width\n",
    "        self.height = height\n",
    "\n",
    "    def area(self):\n",
    "        return self.width * self.height\n",
    "\n",
    "circle = Circle(5)\n",
    "rect = Rectangle(4, 6)\n",
    "print(circle.area())\n",
    "print(rect.area())\n"
   ]
  },
  {
   "cell_type": "markdown",
   "id": "3433a226-f218-4b2d-9695-5f105806169e",
   "metadata": {},
   "source": [
    "- 3:Implement a multi-level inheritance scenario where a class Vehicle has an attribute type. Derive a class Car and further derive a class ElectricCar that adds a battery attribute.\n"
   ]
  },
  {
   "cell_type": "code",
   "execution_count": 14,
   "id": "45376da7-0261-4848-9f86-e6ae03dde00b",
   "metadata": {},
   "outputs": [
    {
     "name": "stdout",
     "output_type": "stream",
     "text": [
      "Tesla Sedan 85 kWh\n"
     ]
    }
   ],
   "source": [
    "class Vehicle:\n",
    "    def __init__(self, type):\n",
    "        self.type = type\n",
    "\n",
    "class Car(Vehicle):\n",
    "    def __init__(self, brand, type):\n",
    "        super().__init__(type)\n",
    "        self.brand = brand\n",
    "\n",
    "class ElectricCar(Car):\n",
    "    def __init__(self, brand, type, battery_capacity):\n",
    "        super().__init__(brand, type)\n",
    "        self.battery_capacity = battery_capacity\n",
    "\n",
    "ecar = ElectricCar(\"Tesla\", \"Sedan\", \"85 kWh\")\n",
    "print(ecar.brand, ecar.type, ecar.battery_capacity)\n"
   ]
  },
  {
   "cell_type": "markdown",
   "id": "3538b4f2-f63c-48f2-a4c1-1e416cd02a93",
   "metadata": {},
   "source": [
    "- 4: Demonstrate polymorphism by creating a base class Bird with a method fly(). Create two derived classes Sparrow and Penguin that override the fly() method.\n"
   ]
  },
  {
   "cell_type": "code",
   "execution_count": 13,
   "id": "3e20df66-fbc4-4aa1-9096-9ebae721b5ec",
   "metadata": {},
   "outputs": [
    {
     "name": "stdout",
     "output_type": "stream",
     "text": [
      "Sparrow can fly\n",
      "Penguin can't fly\n"
     ]
    }
   ],
   "source": [
    "class Bird:\n",
    "    def fly(self):\n",
    "        return \"Some birds can fly\"\n",
    "\n",
    "class Sparrow(Bird):\n",
    "    def fly(self):\n",
    "        return \"Sparrow can fly\"\n",
    "\n",
    "class Penguin(Bird):\n",
    "    def fly(self):\n",
    "        return \"Penguin can't fly\"\n",
    "\n",
    "for bird in [Sparrow(), Penguin()]:\n",
    "    print(bird.fly())\n"
   ]
  },
  {
   "cell_type": "markdown",
   "id": "54fd77b5-3697-4054-af99-952eaa82ad90",
   "metadata": {},
   "source": [
    "- 5.Write a program to demonstrate encapsulation by creating a class BankAccount with private attributes balance and methods to deposit, withdraw, and check balance.\n"
   ]
  },
  {
   "cell_type": "code",
   "execution_count": 2,
   "id": "4b14ab94-11ed-43de-8e48-0b703632bfed",
   "metadata": {},
   "outputs": [
    {
     "name": "stdout",
     "output_type": "stream",
     "text": [
      "1300\n"
     ]
    }
   ],
   "source": [
    "class BankAccount:\n",
    "    def __init__(self, balance):\n",
    "        self.__balance = balance\n",
    "\n",
    "    def deposit(self, amount):\n",
    "        self.__balance += amount\n",
    "\n",
    "    def withdraw(self, amount):\n",
    "        if amount <= self.__balance:\n",
    "            self.__balance -= amount\n",
    "\n",
    "    def get_balance(self):\n",
    "        return self.__balance\n",
    "\n",
    "acc = BankAccount(1000)\n",
    "acc.deposit(500)\n",
    "acc.withdraw(200)\n",
    "print(acc.get_balance())\n"
   ]
  },
  {
   "cell_type": "markdown",
   "id": "15e108b6-a279-472f-93df-9cc0bba5160e",
   "metadata": {},
   "source": [
    "- \n",
    "6. Demonstrate runtime polymorphism using a method play() in a base class instrument. Derive classes Guitar and Piano that implement their own version of play().\n"
   ]
  },
  {
   "cell_type": "code",
   "execution_count": 3,
   "id": "aeeb6ca2-d1a4-4ddd-8365-9fd9f230b7f0",
   "metadata": {},
   "outputs": [
    {
     "name": "stdout",
     "output_type": "stream",
     "text": [
      "Guitar is playing\n",
      "Piano is playing\n"
     ]
    }
   ],
   "source": [
    "class Instrument:\n",
    "    def play(self):\n",
    "        return \"Instrument is playing\"\n",
    "\n",
    "class Guitar(Instrument):\n",
    "    def play(self):\n",
    "        return \"Guitar is playing\"\n",
    "\n",
    "class Piano(Instrument):\n",
    "    def play(self):\n",
    "        return \"Piano is playing\"\n",
    "\n",
    "for inst in [Guitar(), Piano()]:\n",
    "    print(inst.play())\n"
   ]
  },
  {
   "cell_type": "markdown",
   "id": "538a4721-4ad5-4562-b94a-6c14a7853a4f",
   "metadata": {},
   "source": [
    "- 7. Create a class MathOperations with a class method add_numbers() to add two numbers and a static method subtract_numbers() to subtract two numbers.\n"
   ]
  },
  {
   "cell_type": "code",
   "execution_count": 4,
   "id": "435ca355-9d03-4755-b841-8d3a53baf5ad",
   "metadata": {},
   "outputs": [
    {
     "name": "stdout",
     "output_type": "stream",
     "text": [
      "15\n",
      "5\n"
     ]
    }
   ],
   "source": [
    "class MathOperation:\n",
    "    def add_numbers(self, a, b):\n",
    "        return a + b\n",
    "\n",
    "    @staticmethod\n",
    "    def subtract_numbers(a, b):\n",
    "        return a - b\n",
    "\n",
    "math_op = MathOperation()\n",
    "print(math_op.add_numbers(10, 5))\n",
    "print(MathOperation.subtract_numbers(10, 5))\n"
   ]
  },
  {
   "cell_type": "markdown",
   "id": "03084b51-69cf-464b-8955-3343932c3c39",
   "metadata": {},
   "source": [
    "- \n",
    "8. implement a class Person with a class method to count the total number of persons created.\n"
   ]
  },
  {
   "cell_type": "code",
   "execution_count": 5,
   "id": "d9c5c967-e2ae-47cc-a261-39095420b73a",
   "metadata": {},
   "outputs": [
    {
     "name": "stdout",
     "output_type": "stream",
     "text": [
      "2\n"
     ]
    }
   ],
   "source": [
    "class Person:\n",
    "    count = 0\n",
    "\n",
    "    def __init__(self):\n",
    "        Person.count += 1\n",
    "\n",
    "    @classmethod\n",
    "    def total_persons(cls):\n",
    "        return cls.count\n",
    "\n",
    "p1 = Person()\n",
    "p2 = Person()\n",
    "print(Person.total_persons())\n"
   ]
  },
  {
   "cell_type": "markdown",
   "id": "72318a6a-257c-4357-b1b5-861749d6b494",
   "metadata": {},
   "source": [
    "- 9. Write a class Fraction with attributes numerator and denominator. Override the str method to display the fraction as 'numerator/denominator\".\n"
   ]
  },
  {
   "cell_type": "code",
   "execution_count": 12,
   "id": "3472e1f4-94d2-429d-ab76-8e90a6c6fd33",
   "metadata": {},
   "outputs": [
    {
     "name": "stdout",
     "output_type": "stream",
     "text": [
      "3/4\n"
     ]
    }
   ],
   "source": [
    "class Fraction:\n",
    "    def __init__(self, numerator, denominator):\n",
    "        self.num = numerator\n",
    "        self.den = denominator\n",
    "\n",
    "    def __str__(self):\n",
    "        return f\"{self.num}/{self.den}\"\n",
    "\n",
    "f = Fraction(3, 4)\n",
    "print(f)\n"
   ]
  },
  {
   "cell_type": "markdown",
   "id": "12ba2fa2-0760-4610-8e7c-ef8dd61a7dc2",
   "metadata": {},
   "source": [
    "10. Demonstrate operator overloading by creating a class Vector and overriding the add method to add two vectors\n"
   ]
  },
  {
   "cell_type": "code",
   "execution_count": 6,
   "id": "a32c4b2d-455f-4fcf-b612-f5d54f1baa71",
   "metadata": {},
   "outputs": [
    {
     "name": "stdout",
     "output_type": "stream",
     "text": [
      "(6, 8)\n"
     ]
    }
   ],
   "source": [
    "class Vector:\n",
    "    def __init__(self, x, y):\n",
    "        self.x = x\n",
    "        self.y = y\n",
    "\n",
    "    def __add__(self, other):\n",
    "        return Vector(self.x + other.x, self.y + other.y)\n",
    "\n",
    "    def __str__(self):\n",
    "        return f\"({self.x}, {self.y})\"\n",
    "\n",
    "v1 = Vector(2, 3)\n",
    "v2 = Vector(4, 5)\n",
    "print(v1 + v2)\n"
   ]
  },
  {
   "cell_type": "markdown",
   "id": "d3f8ea09-2ae7-40bf-af61-4c62194e38db",
   "metadata": {},
   "source": [
    "\n",
    "11. Create a class Person with attributes name and age. Add a method greet() that prints \"Hello, my name is {name} and I am (age) years old.\"\n"
   ]
  },
  {
   "cell_type": "code",
   "execution_count": 11,
   "id": "69c1ce01-fc59-45b8-bda8-f0a87ef2183b",
   "metadata": {},
   "outputs": [
    {
     "name": "stdout",
     "output_type": "stream",
     "text": [
      "Hello, my name is Praful and I am 19 years old.\n"
     ]
    }
   ],
   "source": [
    "class Person:\n",
    "    def __init__(self, name, age):\n",
    "        self.name = name\n",
    "        self.age = age\n",
    "\n",
    "    def greet(self):\n",
    "        return f\"Hello, my name is {self.name} and I am {self.age} years old.\"\n",
    "\n",
    "p = Person(\"Praful\", 19)\n",
    "print(p.greet())"
   ]
  },
  {
   "cell_type": "markdown",
   "id": "b7542a27-0c92-4129-97a7-d7672554d900",
   "metadata": {},
   "source": [
    "12. Implement a class Student with attributes name and grades. Create a method average grade() to compute the average of the grades.\n"
   ]
  },
  {
   "cell_type": "code",
   "execution_count": 9,
   "id": "d57414de-9543-4b0a-8edd-1514f2a5bc6a",
   "metadata": {},
   "outputs": [
    {
     "name": "stdout",
     "output_type": "stream",
     "text": [
      "84.33333333333333\n"
     ]
    }
   ],
   "source": [
    "class Student:\n",
    "    def __init__(self, name, grades):\n",
    "        self.name = name\n",
    "        self.grades = grades\n",
    "\n",
    "    def average(self):\n",
    "        return sum(self.grades) / len(self.grades)\n",
    "\n",
    "s = Student(\"John\", [85, 90, 78])\n",
    "print(s.average())\n"
   ]
  },
  {
   "cell_type": "markdown",
   "id": "83cb7521-c7f3-4c2f-bd32-fa252c4939b2",
   "metadata": {},
   "source": [
    "\n",
    "13. Create a class Rectangle with methods set_dimensions() to set the dimensions and area() to calculate the area\n"
   ]
  },
  {
   "cell_type": "code",
   "execution_count": 8,
   "id": "67bc11ca-0e89-4fc9-a015-cf6577173485",
   "metadata": {},
   "outputs": [
    {
     "name": "stdout",
     "output_type": "stream",
     "text": [
      "20\n"
     ]
    }
   ],
   "source": [
    "class Rectangle:\n",
    "    def __init__(self, length, width):\n",
    "        self.length = length\n",
    "        self.width = width\n",
    "\n",
    "    def area(self):\n",
    "        return self.length * self.width\n",
    "\n",
    "rect = Rectangle(5, 4)\n",
    "print(rect.area())\n"
   ]
  },
  {
   "cell_type": "markdown",
   "id": "0270e13b-ee3c-4fb2-86b2-d3a91b1bf2e7",
   "metadata": {},
   "source": [
    "\n",
    "14. Create a class Employee with a method calculate_salary() that computes the salary based on hours worked and hourly rate. Create a derived class Manager that adds a bonus to the salary"
   ]
  },
  {
   "cell_type": "code",
   "execution_count": 7,
   "id": "e3f599d7-1d72-4485-81b6-1d48d760ab50",
   "metadata": {},
   "outputs": [
    {
     "name": "stdout",
     "output_type": "stream",
     "text": [
      "800\n",
      "1100\n"
     ]
    }
   ],
   "source": [
    "class Employee:\n",
    "    def __init__(self, hours_worked, rate):\n",
    "        self.hours_worked = hours_worked\n",
    "        self.rate = rate\n",
    "\n",
    "    def salary(self):\n",
    "        return self.hours_worked * self.rate\n",
    "\n",
    "class Manager(Employee):\n",
    "    def __init__(self, hours_worked, rate, bonus):\n",
    "        super().__init__(hours_worked, rate)\n",
    "        self.bonus = bonus\n",
    "\n",
    "    def salary(self):\n",
    "        return super().salary() + self.bonus\n",
    "\n",
    "e = Employee(40, 20)\n",
    "m = Manager(40, 20, 300)\n",
    "\n",
    "print(e.salary())\n",
    "print(m.salary())\n"
   ]
  },
  {
   "cell_type": "markdown",
   "id": "e6e5ff79-790c-48ee-8700-092eaa89448f",
   "metadata": {},
   "source": [
    "- 15. Create a class Product with attributes name, price, and quantity. Implement a method total_price() that calculates the total price of the product\n"
   ]
  },
  {
   "cell_type": "code",
   "execution_count": 1,
   "id": "89cf1fd2-c75f-45b7-9358-00c33bb4e089",
   "metadata": {},
   "outputs": [
    {
     "name": "stdout",
     "output_type": "stream",
     "text": [
      "Total Price: 50\n"
     ]
    }
   ],
   "source": [
    "class Product:\n",
    "    def __init__(self, name, price, quantity):\n",
    "        self.name = name\n",
    "        self.price = price\n",
    "        self.quantity = quantity\n",
    "\n",
    "    def total_price(self):\n",
    "        return self.price * self.quantity\n",
    "\n",
    "# Example\n",
    "p = Product(\"Pen\", 10, 5)\n",
    "print(\"Total Price:\", p.total_price())\n"
   ]
  },
  {
   "cell_type": "markdown",
   "id": "6059fb31-bcca-4ee2-9117-5219610ebf81",
   "metadata": {},
   "source": [
    "16. Create a class Animal with an abstract method sound(). Create two derived classes Cow and Sheep that implement the sound() method."
   ]
  },
  {
   "cell_type": "code",
   "execution_count": 2,
   "id": "97d66b41-03ae-4698-8cde-f5ae9596feee",
   "metadata": {},
   "outputs": [
    {
     "name": "stdout",
     "output_type": "stream",
     "text": [
      "Cow says: Moo\n",
      "Sheep says: Baa\n"
     ]
    }
   ],
   "source": [
    "from abc import ABC, abstractmethod\n",
    "\n",
    "class Animal(ABC):\n",
    "    @abstractmethod\n",
    "    def sound(self):\n",
    "        pass\n",
    "\n",
    "class Cow(Animal):\n",
    "    def sound(self):\n",
    "        return \"Moo\"\n",
    "\n",
    "class Sheep(Animal):\n",
    "    def sound(self):\n",
    "        return \"Baa\"\n",
    "\n",
    "# Example\n",
    "c = Cow()\n",
    "s = Sheep()\n",
    "print(\"Cow says:\", c.sound())\n",
    "print(\"Sheep says:\", s.sound())\n"
   ]
  },
  {
   "cell_type": "markdown",
   "id": "19df0b14-3f82-4cd6-9239-f5684a9df7d8",
   "metadata": {},
   "source": [
    "\n",
    "17. Create a class Book with attributes title, author, and year published. Add a method get book_info() that returns a formatted string with the book's details.\n"
   ]
  },
  {
   "cell_type": "code",
   "execution_count": 3,
   "id": "1cc96406-e1d8-4030-b2d3-6e29b72f931a",
   "metadata": {},
   "outputs": [
    {
     "name": "stdout",
     "output_type": "stream",
     "text": [
      "'1984' by George Orwell, published in 1949\n"
     ]
    }
   ],
   "source": [
    "class Book:\n",
    "    def __init__(self, title, author, year_published):\n",
    "        self.title = title\n",
    "        self.author = author\n",
    "        self.year_published = year_published\n",
    "\n",
    "    def get_book_info(self):\n",
    "        return f\"'{self.title}' by {self.author}, published in {self.year_published}\"\n",
    "\n",
    "# Example\n",
    "b = Book(\"1984\", \"George Orwell\", 1949)\n",
    "print(b.get_book_info())\n"
   ]
  },
  {
   "cell_type": "markdown",
   "id": "879e5272-7d91-4596-95bb-b7553f2ed3d4",
   "metadata": {},
   "source": [
    "18. Create a class House with attributes address and price. Create a derived class Mansion that adds an attribute number of_rooms."
   ]
  },
  {
   "cell_type": "code",
   "execution_count": 4,
   "id": "4e3514d3-7934-4a97-b932-c596d50ea71a",
   "metadata": {},
   "outputs": [
    {
     "name": "stdout",
     "output_type": "stream",
     "text": [
      "Mansion at 123 Luxury St costs ₹5000000 and has 10 rooms.\n"
     ]
    }
   ],
   "source": [
    "class House:\n",
    "    def __init__(self, address, price):\n",
    "        self.address = address\n",
    "        self.price = price\n",
    "\n",
    "class Mansion(House):\n",
    "    def __init__(self, address, price, number_of_rooms):\n",
    "        super().__init__(address, price)\n",
    "        self.number_of_rooms = number_of_rooms\n",
    "\n",
    "# Example\n",
    "m = Mansion(\"123 Luxury St\", 5000000, 10)\n",
    "print(f\"Mansion at {m.address} costs ₹{m.price} and has {m.number_of_rooms} rooms.\")\n"
   ]
  },
  {
   "cell_type": "code",
   "execution_count": null,
   "id": "7d478f17-b234-45f9-a77f-39cfa123c8ae",
   "metadata": {},
   "outputs": [],
   "source": []
  }
 ],
 "metadata": {
  "kernelspec": {
   "display_name": "Python 3 (ipykernel)",
   "language": "python",
   "name": "python3"
  },
  "language_info": {
   "codemirror_mode": {
    "name": "ipython",
    "version": 3
   },
   "file_extension": ".py",
   "mimetype": "text/x-python",
   "name": "python",
   "nbconvert_exporter": "python",
   "pygments_lexer": "ipython3",
   "version": "3.13.5"
  }
 },
 "nbformat": 4,
 "nbformat_minor": 5
}
