{
 "cells": [
  {
   "cell_type": "code",
   "execution_count": 1,
   "id": "075a5c13-ebbd-4311-959b-260a32f88222",
   "metadata": {},
   "outputs": [
    {
     "name": "stdout",
     "output_type": "stream",
     "text": [
      "89\n"
     ]
    }
   ],
   "source": [
    "a=\"8\"\n",
    "b=\"9\"\n",
    "print(a+b)"
   ]
  },
  {
   "cell_type": "code",
   "execution_count": 5,
   "id": "fff00abe-baff-4e6e-b1a2-8399b889e6d6",
   "metadata": {},
   "outputs": [
    {
     "name": "stdout",
     "output_type": "stream",
     "text": [
      "190\n"
     ]
    }
   ],
   "source": [
    "a=90\n",
    "b=100\n",
    "print(a+b)"
   ]
  },
  {
   "cell_type": "code",
   "execution_count": 6,
   "id": "6d0edfd7-7ad5-4568-9d86-982145df7bca",
   "metadata": {},
   "outputs": [
    {
     "name": "stdout",
     "output_type": "stream",
     "text": [
      "?\n",
      "31\n"
     ]
    }
   ],
   "source": [
    "s = \"Helloworldfrdytgujyhuld   hy??|\"\n",
    "print(s[-2])\n",
    "print(len(s))"
   ]
  },
  {
   "cell_type": "code",
   "execution_count": 8,
   "id": "6bf99363-f9d1-4452-801d-69f7079db34c",
   "metadata": {},
   "outputs": [
    {
     "name": "stdout",
     "output_type": "stream",
     "text": [
      "   gfchygu?  apple    \n",
      "gfchygu?  apple\n"
     ]
    }
   ],
   "source": [
    "txt = \"   gfchygu?  apple    \"\n",
    "print(txt)\n",
    "x = txt.strip()\n",
    "print(x)"
   ]
  },
  {
   "cell_type": "code",
   "execution_count": 9,
   "id": "1733523e-3449-4a77-afa0-646d51b41ae3",
   "metadata": {},
   "outputs": [
    {
     "name": "stdout",
     "output_type": "stream",
     "text": [
      "hi world!\n"
     ]
    }
   ],
   "source": [
    "s= \"hello world!\"\n",
    "print(s.replace('hello','hi')) "
   ]
  },
  {
   "cell_type": "code",
   "execution_count": 13,
   "id": "d59d31a1-b7e4-4988-968c-1eb5b2187b0b",
   "metadata": {},
   "outputs": [
    {
     "name": "stdout",
     "output_type": "stream",
     "text": [
      "['welcome', 'vghvrjh', 'to', 'the', 'jungle']\n"
     ]
    }
   ],
   "source": [
    "txt = \"welcome vghvrjh  to the jungle\"\n",
    "\n",
    "x = txt.split()\n",
    "\n",
    "print(x)"
   ]
  },
  {
   "cell_type": "code",
   "execution_count": 14,
   "id": "b9170bad-3b11-432c-b01f-d266404c5d00",
   "metadata": {},
   "outputs": [
    {
     "name": "stdout",
     "output_type": "stream",
     "text": [
      "hello_world_bye_damini\n"
     ]
    }
   ],
   "source": [
    "print(\"_\".join([\"hello\",\"world\",\"bye\",\"damini\"]))"
   ]
  },
  {
   "cell_type": "code",
   "execution_count": 22,
   "id": "28260bae-9845-4590-a986-9e0bb2401174",
   "metadata": {},
   "outputs": [
    {
     "name": "stdin",
     "output_type": "stream",
     "text": [
      " 33\n"
     ]
    },
    {
     "name": "stdout",
     "output_type": "stream",
     "text": [
      "33.0\n"
     ]
    }
   ],
   "source": [
    "a =int(input())\n",
    "b =float(a)\n",
    "print(b)"
   ]
  },
  {
   "cell_type": "code",
   "execution_count": 24,
   "id": "686f2ca7-8d7c-41a8-9bad-98759a564fd9",
   "metadata": {},
   "outputs": [
    {
     "name": "stdout",
     "output_type": "stream",
     "text": [
      "4\n"
     ]
    }
   ],
   "source": [
    "l = (10,2,6,89,56,456,90,23,10,2)\n",
    "print(l.index(56))"
   ]
  },
  {
   "cell_type": "code",
   "execution_count": 25,
   "id": "cae7b9c3-c5c2-4b8c-a3d4-5669e678840d",
   "metadata": {},
   "outputs": [
    {
     "name": "stdout",
     "output_type": "stream",
     "text": [
      "2\n"
     ]
    }
   ],
   "source": [
    "l = (10,2,6,89,56,456,90,23,10,2)\n",
    "print(l.count(10))"
   ]
  },
  {
   "cell_type": "code",
   "execution_count": 34,
   "id": "24117b50-a05c-4f59-a5c8-88019695cb00",
   "metadata": {},
   "outputs": [
    {
     "name": "stdout",
     "output_type": "stream",
     "text": [
      "[2, 2, 6, 10, 10, 23, 56, 89, 90, 456]\n"
     ]
    }
   ],
   "source": [
    "l = (10,2,6,89,56,456,90,23,10,2)\n",
    "print(sorted(l))"
   ]
  },
  {
   "cell_type": "code",
   "execution_count": 90,
   "id": "f17ed599-2d53-4e97-8ac1-2301a475fd55",
   "metadata": {},
   "outputs": [
    {
     "name": "stdout",
     "output_type": "stream",
     "text": [
      "23\n"
     ]
    }
   ],
   "source": [
    "# lare number in list\n",
    "list_ = [1,23,4,5]\n",
    "max_num = list_[0]\n",
    "for i in list_:\n",
    " if i > max_num:\n",
    "     max_num=i\n",
    "print(max_num)"
   ]
  },
  {
   "cell_type": "code",
   "execution_count": 116,
   "id": "0119a504-60af-4126-88e7-fa7613f2bbfc",
   "metadata": {},
   "outputs": [
    {
     "name": "stdout",
     "output_type": "stream",
     "text": [
      "Not Prime\n"
     ]
    }
   ],
   "source": [
    "# Prime Number\n",
    "num =1\n",
    "count=0\n",
    "for i in range(1,num+1):\n",
    "  if num%i==2:\n",
    "    count+=1\n",
    "if count ==1:\n",
    "    print(\"Prime\")\n",
    "else :\n",
    "    print(\"Not Prime\")\n"
   ]
  },
  {
   "cell_type": "code",
   "execution_count": 152,
   "id": "06cd0041-1188-4c8a-9ddd-e5e9ddb189c0",
   "metadata": {},
   "outputs": [
    {
     "name": "stdout",
     "output_type": "stream",
     "text": [
      "3\n"
     ]
    }
   ],
   "source": [
    "sum = 0\n",
    "for i in range(1,3):\n",
    "    sum = sum+i\n",
    "print(sum)\n",
    "    "
   ]
  },
  {
   "cell_type": "code",
   "execution_count": 155,
   "id": "69442967-bfaa-4a01-aac1-652eca7c15ed",
   "metadata": {},
   "outputs": [
    {
     "name": "stdout",
     "output_type": "stream",
     "text": [
      "120\n"
     ]
    }
   ],
   "source": [
    "# Factorial\n",
    "num = 5\n",
    "sum=1\n",
    "for i in range(1,num+1):\n",
    " sum = sum*i\n",
    "print(sum)    "
   ]
  },
  {
   "cell_type": "code",
   "execution_count": 190,
   "id": "3a36be6c-573f-4629-aa0a-e495f00bdce6",
   "metadata": {},
   "outputs": [
    {
     "name": "stdout",
     "output_type": "stream",
     "text": [
      "0\n",
      "1\n",
      "1\n",
      "2\n",
      "3\n",
      "5\n",
      "8\n",
      "13\n",
      "21\n",
      "34\n"
     ]
    }
   ],
   "source": [
    "# Fagonaci\n",
    "a=0\n",
    "b=1\n",
    "num=10\n",
    "for i in range(1,num+1):\n",
    " print(a)\n",
    " a, b = b, a + b"
   ]
  },
  {
   "cell_type": "code",
   "execution_count": null,
   "id": "cddff9db-3f2f-4739-b783-f48a7798aaf6",
   "metadata": {},
   "outputs": [],
   "source": []
  }
 ],
 "metadata": {
  "kernelspec": {
   "display_name": "Python 3 (ipykernel)",
   "language": "python",
   "name": "python3"
  },
  "language_info": {
   "codemirror_mode": {
    "name": "ipython",
    "version": 3
   },
   "file_extension": ".py",
   "mimetype": "text/x-python",
   "name": "python",
   "nbconvert_exporter": "python",
   "pygments_lexer": "ipython3",
   "version": "3.13.5"
  }
 },
 "nbformat": 4,
 "nbformat_minor": 5
}
