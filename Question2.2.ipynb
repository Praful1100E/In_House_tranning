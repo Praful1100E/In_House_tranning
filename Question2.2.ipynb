{
 "cells": [
  {
   "cell_type": "code",
   "execution_count": 1,
   "id": "8b60b94e-666f-4a96-9b9a-6e1ebde7beae",
   "metadata": {},
   "outputs": [
    {
     "name": "stdout",
     "output_type": "stream",
     "text": [
      "[2, 4, 6, 8, 10]\n"
     ]
    }
   ],
   "source": [
    "def fu():\n",
    "    list = [1,2,3,4,5]\n",
    "    c=[]\n",
    "    for i in list:\n",
    "     c.append(i*2)\n",
    "    print(c)\n",
    "fu()"
   ]
  },
  {
   "cell_type": "code",
   "execution_count": 7,
   "id": "cb891613-5024-4e74-9135-5c9b5b17d558",
   "metadata": {},
   "outputs": [
    {
     "name": "stdout",
     "output_type": "stream",
     "text": [
      "55\n"
     ]
    }
   ],
   "source": [
    "def sum(n):\n",
    "  c=0\n",
    "  for i in range(1,n+1):\n",
    "    c+=i\n",
    "  print(c)\n",
    "sum(10)"
   ]
  },
  {
   "cell_type": "code",
   "execution_count": 10,
   "id": "dec6272c-1270-47f7-a262-10086ce64d84",
   "metadata": {},
   "outputs": [
    {
     "name": "stdout",
     "output_type": "stream",
     "text": [
      "120\n"
     ]
    }
   ],
   "source": [
    "def factorial_(n):\n",
    "    c = 1\n",
    "    for i in range(1,n+1):\n",
    "      c=c*i\n",
    "    print(c)\n",
    "factorial_(5)\n",
    "        "
   ]
  },
  {
   "cell_type": "code",
   "execution_count": 4,
   "id": "2b36015f-91de-4f92-8eba-0c918e78dec9",
   "metadata": {},
   "outputs": [
    {
     "name": "stdout",
     "output_type": "stream",
     "text": [
      "John 30\n",
      "Jane 25\n"
     ]
    }
   ],
   "source": [
    "\n",
    "class peersion():\n",
    "    def __init__(self, name, age):\n",
    "        self.name = name\n",
    "        self.age = age\n",
    "\n",
    "p1 = peersion(\"John\", 30)\n",
    "p2 = peersion(\"Jane\", 25)\n",
    "print(p1.name, p1.age)\n",
    "print(p2.name, p2.age)\n"
   ]
  },
  {
   "cell_type": "code",
   "execution_count": null,
   "id": "4ea145a7-de3c-4f8b-8c3d-12115c696f9f",
   "metadata": {},
   "outputs": [],
   "source": []
  }
 ],
 "metadata": {
  "kernelspec": {
   "display_name": "Python 3 (ipykernel)",
   "language": "python",
   "name": "python3"
  },
  "language_info": {
   "codemirror_mode": {
    "name": "ipython",
    "version": 3
   },
   "file_extension": ".py",
   "mimetype": "text/x-python",
   "name": "python",
   "nbconvert_exporter": "python",
   "pygments_lexer": "ipython3",
   "version": "3.13.5"
  }
 },
 "nbformat": 4,
 "nbformat_minor": 5
}
